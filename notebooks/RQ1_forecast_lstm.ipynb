{
 "cells": [
  {
   "cell_type": "markdown",
   "metadata": {},
   "source": [
    "# in this notebook, results of two experiments with the same seed on Håkan and Saeid's computer has been shown"
   ]
  },
  {
   "cell_type": "markdown",
   "metadata": {},
   "source": [
    "## imports"
   ]
  },
  {
   "cell_type": "code",
   "execution_count": 1,
   "metadata": {},
   "outputs": [],
   "source": [
    "# Third-party imports\n",
    "%matplotlib inline\n",
    "import json\n",
    "import matplotlib.pyplot as plt\n",
    "import mxnet as mx\n",
    "from mxnet import gluon"
   ]
  },
  {
   "cell_type": "code",
   "execution_count": 2,
   "metadata": {},
   "outputs": [],
   "source": [
    "from scr.RQ1_forecast import *"
   ]
  },
  {
   "cell_type": "code",
   "execution_count": 3,
   "metadata": {},
   "outputs": [],
   "source": [
    "num_samples = 1"
   ]
  },
  {
   "cell_type": "code",
   "execution_count": 4,
   "metadata": {},
   "outputs": [],
   "source": [
    "data_address1 = '/home/dev/deepts/experiments/lstm/electricity/1B'"
   ]
  },
  {
   "cell_type": "markdown",
   "metadata": {},
   "source": [
    "# metric section"
   ]
  },
  {
   "cell_type": "code",
   "execution_count": 5,
   "metadata": {
    "tags": []
   },
   "outputs": [
    {
     "output_type": "stream",
     "name": "stderr",
     "text": "124it [00:00, 32613.89it/s]\n100%|##########| 100/100 [00:00<00:00, 118.78it/s]\n"
    }
   ],
   "source": [
    "# loop through all the runs in the results folder and read the metric dataframe\n",
    "metrics_list1 = read_csv_result('metrics.csv', data_address1)"
   ]
  },
  {
   "cell_type": "code",
   "execution_count": 6,
   "metadata": {},
   "outputs": [
    {
     "output_type": "execute_result",
     "data": {
      "text/plain": "      Unnamed: 0  item_id            MSE    abs_error  abs_target_sum  \\\n0              0      0.0      94.513896   200.350739           235.0   \n1              1      1.0     361.657308   435.971313          2499.0   \n2              2      2.0       3.414377    41.672623           190.0   \n3              3      3.0    4573.447917  1517.516968         10468.0   \n4              4      4.0     888.982015   641.639404          4087.0   \n...          ...      ...            ...          ...             ...   \n2242        2242    316.0    1971.538086   858.938293          6671.0   \n2243        2243    317.0     496.342855   375.376251          1058.0   \n2244        2244    318.0  286224.458333  9628.824219         50192.0   \n2245        2245    319.0   20435.817708  3021.743652         10581.0   \n2246        2246    320.0  105865.166667  6506.129395         76460.0   \n\n      abs_target_mean  seasonal_error      MASE      MAPE     sMAPE  OWA  \\\n0            9.791667        8.031874  1.039352  1.994004  0.701880  NaN   \n1          104.125000        9.577165  1.896748  0.178999  0.163300  NaN   \n2            7.916667        8.673073  0.200201  0.224556  0.198694  NaN   \n3          436.166667       48.398763  1.306436  0.151792  0.139845  NaN   \n4          170.291667       25.383302  1.053251  0.172629  0.154806  NaN   \n...               ...             ...       ...       ...       ...  ...   \n2242       277.958333       30.914619  1.157675  0.338459  0.243409  NaN   \n2243        44.083333       31.192686  0.501421  0.358751  0.321890  NaN   \n2244      2091.333333      267.793565  1.498173  0.224063  0.187487  NaN   \n2245       440.875000      169.860660  0.741231  0.441129  0.340329  NaN   \n2246      3185.833333      287.004300  0.944546  0.099893  0.093044  NaN   \n\n           MSIS  QuantileLoss[0.1]  Coverage[0.1]  QuantileLoss[0.5]  \\\n0     41.574097         352.000097       0.875000         200.350745   \n1     75.869931         763.267819       0.958333         435.971298   \n2      8.008046          75.010716       1.000000          41.672620   \n3     52.257434        2625.017957       0.958333        1517.517029   \n4     42.130020        1154.950955       1.000000         641.639420   \n...         ...                ...            ...                ...   \n2242  46.307017        1380.209349       0.708333         858.938286   \n2243  20.056851         347.741499       0.666667         375.376244   \n2244  59.926908       15944.887769       0.875000        9628.824585   \n2245  29.649241        3430.359143       0.541667        3021.743713   \n2246  37.781834       10421.319238       0.708333        6506.129395   \n\n      Coverage[0.5]  QuantileLoss[0.9]  Coverage[0.9]  \n0          0.875000          48.701393       0.875000  \n1          0.958333         108.674777       0.958333  \n2          1.000000           8.334524       1.000000  \n3          0.958333         410.016101       0.958333  \n4          1.000000         128.327884       1.000000  \n...             ...                ...            ...  \n2242       0.708333         337.667223       0.708333  \n2243       0.666667         403.010988       0.666667  \n2244       0.875000        3312.761401       0.875000  \n2245       0.541667        2613.128284       0.541667  \n2246       0.708333        2590.939551       0.708333  \n\n[2247 rows x 18 columns]",
      "text/html": "<div>\n<style scoped>\n    .dataframe tbody tr th:only-of-type {\n        vertical-align: middle;\n    }\n\n    .dataframe tbody tr th {\n        vertical-align: top;\n    }\n\n    .dataframe thead th {\n        text-align: right;\n    }\n</style>\n<table border=\"1\" class=\"dataframe\">\n  <thead>\n    <tr style=\"text-align: right;\">\n      <th></th>\n      <th>Unnamed: 0</th>\n      <th>item_id</th>\n      <th>MSE</th>\n      <th>abs_error</th>\n      <th>abs_target_sum</th>\n      <th>abs_target_mean</th>\n      <th>seasonal_error</th>\n      <th>MASE</th>\n      <th>MAPE</th>\n      <th>sMAPE</th>\n      <th>OWA</th>\n      <th>MSIS</th>\n      <th>QuantileLoss[0.1]</th>\n      <th>Coverage[0.1]</th>\n      <th>QuantileLoss[0.5]</th>\n      <th>Coverage[0.5]</th>\n      <th>QuantileLoss[0.9]</th>\n      <th>Coverage[0.9]</th>\n    </tr>\n  </thead>\n  <tbody>\n    <tr>\n      <th>0</th>\n      <td>0</td>\n      <td>0.0</td>\n      <td>94.513896</td>\n      <td>200.350739</td>\n      <td>235.0</td>\n      <td>9.791667</td>\n      <td>8.031874</td>\n      <td>1.039352</td>\n      <td>1.994004</td>\n      <td>0.701880</td>\n      <td>NaN</td>\n      <td>41.574097</td>\n      <td>352.000097</td>\n      <td>0.875000</td>\n      <td>200.350745</td>\n      <td>0.875000</td>\n      <td>48.701393</td>\n      <td>0.875000</td>\n    </tr>\n    <tr>\n      <th>1</th>\n      <td>1</td>\n      <td>1.0</td>\n      <td>361.657308</td>\n      <td>435.971313</td>\n      <td>2499.0</td>\n      <td>104.125000</td>\n      <td>9.577165</td>\n      <td>1.896748</td>\n      <td>0.178999</td>\n      <td>0.163300</td>\n      <td>NaN</td>\n      <td>75.869931</td>\n      <td>763.267819</td>\n      <td>0.958333</td>\n      <td>435.971298</td>\n      <td>0.958333</td>\n      <td>108.674777</td>\n      <td>0.958333</td>\n    </tr>\n    <tr>\n      <th>2</th>\n      <td>2</td>\n      <td>2.0</td>\n      <td>3.414377</td>\n      <td>41.672623</td>\n      <td>190.0</td>\n      <td>7.916667</td>\n      <td>8.673073</td>\n      <td>0.200201</td>\n      <td>0.224556</td>\n      <td>0.198694</td>\n      <td>NaN</td>\n      <td>8.008046</td>\n      <td>75.010716</td>\n      <td>1.000000</td>\n      <td>41.672620</td>\n      <td>1.000000</td>\n      <td>8.334524</td>\n      <td>1.000000</td>\n    </tr>\n    <tr>\n      <th>3</th>\n      <td>3</td>\n      <td>3.0</td>\n      <td>4573.447917</td>\n      <td>1517.516968</td>\n      <td>10468.0</td>\n      <td>436.166667</td>\n      <td>48.398763</td>\n      <td>1.306436</td>\n      <td>0.151792</td>\n      <td>0.139845</td>\n      <td>NaN</td>\n      <td>52.257434</td>\n      <td>2625.017957</td>\n      <td>0.958333</td>\n      <td>1517.517029</td>\n      <td>0.958333</td>\n      <td>410.016101</td>\n      <td>0.958333</td>\n    </tr>\n    <tr>\n      <th>4</th>\n      <td>4</td>\n      <td>4.0</td>\n      <td>888.982015</td>\n      <td>641.639404</td>\n      <td>4087.0</td>\n      <td>170.291667</td>\n      <td>25.383302</td>\n      <td>1.053251</td>\n      <td>0.172629</td>\n      <td>0.154806</td>\n      <td>NaN</td>\n      <td>42.130020</td>\n      <td>1154.950955</td>\n      <td>1.000000</td>\n      <td>641.639420</td>\n      <td>1.000000</td>\n      <td>128.327884</td>\n      <td>1.000000</td>\n    </tr>\n    <tr>\n      <th>...</th>\n      <td>...</td>\n      <td>...</td>\n      <td>...</td>\n      <td>...</td>\n      <td>...</td>\n      <td>...</td>\n      <td>...</td>\n      <td>...</td>\n      <td>...</td>\n      <td>...</td>\n      <td>...</td>\n      <td>...</td>\n      <td>...</td>\n      <td>...</td>\n      <td>...</td>\n      <td>...</td>\n      <td>...</td>\n      <td>...</td>\n    </tr>\n    <tr>\n      <th>2242</th>\n      <td>2242</td>\n      <td>316.0</td>\n      <td>1971.538086</td>\n      <td>858.938293</td>\n      <td>6671.0</td>\n      <td>277.958333</td>\n      <td>30.914619</td>\n      <td>1.157675</td>\n      <td>0.338459</td>\n      <td>0.243409</td>\n      <td>NaN</td>\n      <td>46.307017</td>\n      <td>1380.209349</td>\n      <td>0.708333</td>\n      <td>858.938286</td>\n      <td>0.708333</td>\n      <td>337.667223</td>\n      <td>0.708333</td>\n    </tr>\n    <tr>\n      <th>2243</th>\n      <td>2243</td>\n      <td>317.0</td>\n      <td>496.342855</td>\n      <td>375.376251</td>\n      <td>1058.0</td>\n      <td>44.083333</td>\n      <td>31.192686</td>\n      <td>0.501421</td>\n      <td>0.358751</td>\n      <td>0.321890</td>\n      <td>NaN</td>\n      <td>20.056851</td>\n      <td>347.741499</td>\n      <td>0.666667</td>\n      <td>375.376244</td>\n      <td>0.666667</td>\n      <td>403.010988</td>\n      <td>0.666667</td>\n    </tr>\n    <tr>\n      <th>2244</th>\n      <td>2244</td>\n      <td>318.0</td>\n      <td>286224.458333</td>\n      <td>9628.824219</td>\n      <td>50192.0</td>\n      <td>2091.333333</td>\n      <td>267.793565</td>\n      <td>1.498173</td>\n      <td>0.224063</td>\n      <td>0.187487</td>\n      <td>NaN</td>\n      <td>59.926908</td>\n      <td>15944.887769</td>\n      <td>0.875000</td>\n      <td>9628.824585</td>\n      <td>0.875000</td>\n      <td>3312.761401</td>\n      <td>0.875000</td>\n    </tr>\n    <tr>\n      <th>2245</th>\n      <td>2245</td>\n      <td>319.0</td>\n      <td>20435.817708</td>\n      <td>3021.743652</td>\n      <td>10581.0</td>\n      <td>440.875000</td>\n      <td>169.860660</td>\n      <td>0.741231</td>\n      <td>0.441129</td>\n      <td>0.340329</td>\n      <td>NaN</td>\n      <td>29.649241</td>\n      <td>3430.359143</td>\n      <td>0.541667</td>\n      <td>3021.743713</td>\n      <td>0.541667</td>\n      <td>2613.128284</td>\n      <td>0.541667</td>\n    </tr>\n    <tr>\n      <th>2246</th>\n      <td>2246</td>\n      <td>320.0</td>\n      <td>105865.166667</td>\n      <td>6506.129395</td>\n      <td>76460.0</td>\n      <td>3185.833333</td>\n      <td>287.004300</td>\n      <td>0.944546</td>\n      <td>0.099893</td>\n      <td>0.093044</td>\n      <td>NaN</td>\n      <td>37.781834</td>\n      <td>10421.319238</td>\n      <td>0.708333</td>\n      <td>6506.129395</td>\n      <td>0.708333</td>\n      <td>2590.939551</td>\n      <td>0.708333</td>\n    </tr>\n  </tbody>\n</table>\n<p>2247 rows × 18 columns</p>\n</div>"
     },
     "metadata": {},
     "execution_count": 6
    }
   ],
   "source": [
    "metrics_list1[0]"
   ]
  },
  {
   "cell_type": "code",
   "execution_count": 7,
   "metadata": {},
   "outputs": [],
   "source": [
    "def sort_metric_df(my_metrics_df):\n",
    "    my_metrics_df.sort_values(by=['item_id', 'Unnamed: 0'], inplace=True)\n",
    "    my_metrics_df.reset_index(drop=True, inplace=True)\n",
    "    return my_metrics_df"
   ]
  },
  {
   "cell_type": "code",
   "execution_count": 8,
   "metadata": {},
   "outputs": [],
   "source": [
    "def sort_metric_list(my_metric_list):\n",
    "    for my_metric_df in my_metric_list:\n",
    "        my_metric_df = sort_metric_df(my_metric_df)"
   ]
  },
  {
   "cell_type": "code",
   "execution_count": 9,
   "metadata": {},
   "outputs": [],
   "source": [
    "sort_metric_list(metrics_list1)\n"
   ]
  },
  {
   "cell_type": "code",
   "execution_count": 10,
   "metadata": {},
   "outputs": [
    {
     "output_type": "execute_result",
     "data": {
      "text/plain": "      Unnamed: 0  item_id            MSE     abs_error  abs_target_sum  \\\n0              0      0.0      94.513896    200.350739           235.0   \n1            321      0.0     136.810689    245.424713           264.0   \n2            642      0.0     132.754517    178.821274           284.0   \n3            963      0.0      77.822601    189.714386           189.0   \n4           1284      0.0      13.344767     67.444717           166.0   \n...          ...      ...            ...           ...             ...   \n2242         962    320.0  364082.791667  14340.206055         74254.0   \n2243        1283    320.0  164365.812500   9092.375000         78719.0   \n2244        1604    320.0  305306.666667  12719.632812         74298.0   \n2245        1925    320.0  295504.666667  12854.931641         68217.0   \n2246        2246    320.0  105865.166667   6506.129395         76460.0   \n\n      abs_target_mean  seasonal_error      MASE      MAPE     sMAPE  OWA  \\\n0            9.791667        8.031874  1.039352  1.994004  0.701880  NaN   \n1           11.000000        8.026991  1.273956  2.483149  0.799616  NaN   \n2           11.833333        8.025109  0.928447  1.154332  0.569100  NaN   \n3            7.875000        8.024132  0.985124  1.697398  0.824766  NaN   \n4            6.916667        8.019890  0.350403  0.864250  0.479348  NaN   \n...               ...             ...       ...       ...       ...  ...   \n2242      3093.916667      287.494114  2.078333  0.195850  0.177979  NaN   \n2243      3279.958333      287.257349  1.318849  0.123204  0.114550  NaN   \n2244      3095.750000      287.146950  1.845692  0.179840  0.163091  NaN   \n2245      2842.375000      287.030085  1.866084  0.190868  0.173618  NaN   \n2246      3185.833333      287.004300  0.944546  0.099893  0.093044  NaN   \n\n           MSIS  QuantileLoss[0.1]  Coverage[0.1]  QuantileLoss[0.5]  \\\n0     41.574097         352.000097       0.875000         200.350745   \n1     50.958220         359.257740       0.833333         245.424715   \n2     37.137868         238.772603       0.875000         178.821275   \n3     39.404965         282.944193       0.916667         189.714388   \n4     14.016134          85.519453       0.666667          67.444714   \n...         ...                ...            ...                ...   \n2242  83.133332       25812.371777       1.000000       14340.206543   \n2243  52.753945       16366.275439       1.000000        9092.375244   \n2244  73.827658       22895.337744       1.000000       12719.632080   \n2245  74.643353       23138.877393       1.000000       12854.931885   \n2246  37.781834       10421.319238       0.708333        6506.129395   \n\n      Coverage[0.5]  QuantileLoss[0.9]  Coverage[0.9]  \n0          0.875000          48.701393       0.875000  \n1          0.833333         131.591690       0.833333  \n2          0.875000         118.869946       0.875000  \n3          0.916667          96.484583       0.916667  \n4          0.666667          49.369975       0.666667  \n...             ...                ...            ...  \n2242       1.000000        2868.041309       1.000000  \n2243       1.000000        1818.475049       1.000000  \n2244       1.000000        2543.926416       1.000000  \n2245       1.000000        2570.986377       1.000000  \n2246       0.708333        2590.939551       0.708333  \n\n[2247 rows x 18 columns]",
      "text/html": "<div>\n<style scoped>\n    .dataframe tbody tr th:only-of-type {\n        vertical-align: middle;\n    }\n\n    .dataframe tbody tr th {\n        vertical-align: top;\n    }\n\n    .dataframe thead th {\n        text-align: right;\n    }\n</style>\n<table border=\"1\" class=\"dataframe\">\n  <thead>\n    <tr style=\"text-align: right;\">\n      <th></th>\n      <th>Unnamed: 0</th>\n      <th>item_id</th>\n      <th>MSE</th>\n      <th>abs_error</th>\n      <th>abs_target_sum</th>\n      <th>abs_target_mean</th>\n      <th>seasonal_error</th>\n      <th>MASE</th>\n      <th>MAPE</th>\n      <th>sMAPE</th>\n      <th>OWA</th>\n      <th>MSIS</th>\n      <th>QuantileLoss[0.1]</th>\n      <th>Coverage[0.1]</th>\n      <th>QuantileLoss[0.5]</th>\n      <th>Coverage[0.5]</th>\n      <th>QuantileLoss[0.9]</th>\n      <th>Coverage[0.9]</th>\n    </tr>\n  </thead>\n  <tbody>\n    <tr>\n      <th>0</th>\n      <td>0</td>\n      <td>0.0</td>\n      <td>94.513896</td>\n      <td>200.350739</td>\n      <td>235.0</td>\n      <td>9.791667</td>\n      <td>8.031874</td>\n      <td>1.039352</td>\n      <td>1.994004</td>\n      <td>0.701880</td>\n      <td>NaN</td>\n      <td>41.574097</td>\n      <td>352.000097</td>\n      <td>0.875000</td>\n      <td>200.350745</td>\n      <td>0.875000</td>\n      <td>48.701393</td>\n      <td>0.875000</td>\n    </tr>\n    <tr>\n      <th>1</th>\n      <td>321</td>\n      <td>0.0</td>\n      <td>136.810689</td>\n      <td>245.424713</td>\n      <td>264.0</td>\n      <td>11.000000</td>\n      <td>8.026991</td>\n      <td>1.273956</td>\n      <td>2.483149</td>\n      <td>0.799616</td>\n      <td>NaN</td>\n      <td>50.958220</td>\n      <td>359.257740</td>\n      <td>0.833333</td>\n      <td>245.424715</td>\n      <td>0.833333</td>\n      <td>131.591690</td>\n      <td>0.833333</td>\n    </tr>\n    <tr>\n      <th>2</th>\n      <td>642</td>\n      <td>0.0</td>\n      <td>132.754517</td>\n      <td>178.821274</td>\n      <td>284.0</td>\n      <td>11.833333</td>\n      <td>8.025109</td>\n      <td>0.928447</td>\n      <td>1.154332</td>\n      <td>0.569100</td>\n      <td>NaN</td>\n      <td>37.137868</td>\n      <td>238.772603</td>\n      <td>0.875000</td>\n      <td>178.821275</td>\n      <td>0.875000</td>\n      <td>118.869946</td>\n      <td>0.875000</td>\n    </tr>\n    <tr>\n      <th>3</th>\n      <td>963</td>\n      <td>0.0</td>\n      <td>77.822601</td>\n      <td>189.714386</td>\n      <td>189.0</td>\n      <td>7.875000</td>\n      <td>8.024132</td>\n      <td>0.985124</td>\n      <td>1.697398</td>\n      <td>0.824766</td>\n      <td>NaN</td>\n      <td>39.404965</td>\n      <td>282.944193</td>\n      <td>0.916667</td>\n      <td>189.714388</td>\n      <td>0.916667</td>\n      <td>96.484583</td>\n      <td>0.916667</td>\n    </tr>\n    <tr>\n      <th>4</th>\n      <td>1284</td>\n      <td>0.0</td>\n      <td>13.344767</td>\n      <td>67.444717</td>\n      <td>166.0</td>\n      <td>6.916667</td>\n      <td>8.019890</td>\n      <td>0.350403</td>\n      <td>0.864250</td>\n      <td>0.479348</td>\n      <td>NaN</td>\n      <td>14.016134</td>\n      <td>85.519453</td>\n      <td>0.666667</td>\n      <td>67.444714</td>\n      <td>0.666667</td>\n      <td>49.369975</td>\n      <td>0.666667</td>\n    </tr>\n    <tr>\n      <th>...</th>\n      <td>...</td>\n      <td>...</td>\n      <td>...</td>\n      <td>...</td>\n      <td>...</td>\n      <td>...</td>\n      <td>...</td>\n      <td>...</td>\n      <td>...</td>\n      <td>...</td>\n      <td>...</td>\n      <td>...</td>\n      <td>...</td>\n      <td>...</td>\n      <td>...</td>\n      <td>...</td>\n      <td>...</td>\n      <td>...</td>\n    </tr>\n    <tr>\n      <th>2242</th>\n      <td>962</td>\n      <td>320.0</td>\n      <td>364082.791667</td>\n      <td>14340.206055</td>\n      <td>74254.0</td>\n      <td>3093.916667</td>\n      <td>287.494114</td>\n      <td>2.078333</td>\n      <td>0.195850</td>\n      <td>0.177979</td>\n      <td>NaN</td>\n      <td>83.133332</td>\n      <td>25812.371777</td>\n      <td>1.000000</td>\n      <td>14340.206543</td>\n      <td>1.000000</td>\n      <td>2868.041309</td>\n      <td>1.000000</td>\n    </tr>\n    <tr>\n      <th>2243</th>\n      <td>1283</td>\n      <td>320.0</td>\n      <td>164365.812500</td>\n      <td>9092.375000</td>\n      <td>78719.0</td>\n      <td>3279.958333</td>\n      <td>287.257349</td>\n      <td>1.318849</td>\n      <td>0.123204</td>\n      <td>0.114550</td>\n      <td>NaN</td>\n      <td>52.753945</td>\n      <td>16366.275439</td>\n      <td>1.000000</td>\n      <td>9092.375244</td>\n      <td>1.000000</td>\n      <td>1818.475049</td>\n      <td>1.000000</td>\n    </tr>\n    <tr>\n      <th>2244</th>\n      <td>1604</td>\n      <td>320.0</td>\n      <td>305306.666667</td>\n      <td>12719.632812</td>\n      <td>74298.0</td>\n      <td>3095.750000</td>\n      <td>287.146950</td>\n      <td>1.845692</td>\n      <td>0.179840</td>\n      <td>0.163091</td>\n      <td>NaN</td>\n      <td>73.827658</td>\n      <td>22895.337744</td>\n      <td>1.000000</td>\n      <td>12719.632080</td>\n      <td>1.000000</td>\n      <td>2543.926416</td>\n      <td>1.000000</td>\n    </tr>\n    <tr>\n      <th>2245</th>\n      <td>1925</td>\n      <td>320.0</td>\n      <td>295504.666667</td>\n      <td>12854.931641</td>\n      <td>68217.0</td>\n      <td>2842.375000</td>\n      <td>287.030085</td>\n      <td>1.866084</td>\n      <td>0.190868</td>\n      <td>0.173618</td>\n      <td>NaN</td>\n      <td>74.643353</td>\n      <td>23138.877393</td>\n      <td>1.000000</td>\n      <td>12854.931885</td>\n      <td>1.000000</td>\n      <td>2570.986377</td>\n      <td>1.000000</td>\n    </tr>\n    <tr>\n      <th>2246</th>\n      <td>2246</td>\n      <td>320.0</td>\n      <td>105865.166667</td>\n      <td>6506.129395</td>\n      <td>76460.0</td>\n      <td>3185.833333</td>\n      <td>287.004300</td>\n      <td>0.944546</td>\n      <td>0.099893</td>\n      <td>0.093044</td>\n      <td>NaN</td>\n      <td>37.781834</td>\n      <td>10421.319238</td>\n      <td>0.708333</td>\n      <td>6506.129395</td>\n      <td>0.708333</td>\n      <td>2590.939551</td>\n      <td>0.708333</td>\n    </tr>\n  </tbody>\n</table>\n<p>2247 rows × 18 columns</p>\n</div>"
     },
     "metadata": {},
     "execution_count": 10
    }
   ],
   "source": [
    "metrics_list1[0]"
   ]
  },
  {
   "cell_type": "markdown",
   "metadata": {},
   "source": [
    " "
   ]
  },
  {
   "cell_type": "markdown",
   "metadata": {},
   "source": [
    " "
   ]
  },
  {
   "cell_type": "markdown",
   "metadata": {},
   "source": [
    " "
   ]
  },
  {
   "cell_type": "markdown",
   "metadata": {},
   "source": [
    " "
   ]
  },
  {
   "cell_type": "markdown",
   "metadata": {},
   "source": [
    " "
   ]
  },
  {
   "cell_type": "markdown",
   "metadata": {},
   "source": [
    "# Forecast section"
   ]
  },
  {
   "cell_type": "code",
   "execution_count": 11,
   "metadata": {
    "tags": []
   },
   "outputs": [
    {
     "output_type": "stream",
     "name": "stderr",
     "text": "124it [00:00, 31747.88it/s]\n100%|###########| 100/100 [00:02<00:00, 35.85it/s]\n"
    }
   ],
   "source": [
    "# read the forecast file\n",
    "forcast_list1 = read_csv_result('forecasts.csv', data_address1, n_files=100)\n",
    "# forcast_list2 = read_csv_result('forecasts.csv', data_address2, n_files=100)"
   ]
  },
  {
   "cell_type": "code",
   "execution_count": 12,
   "metadata": {},
   "outputs": [
    {
     "output_type": "execute_result",
     "data": {
      "text/plain": "100"
     },
     "metadata": {},
     "execution_count": 12
    }
   ],
   "source": [
    "len(forcast_list1)"
   ]
  },
  {
   "cell_type": "code",
   "execution_count": 13,
   "metadata": {},
   "outputs": [
    {
     "output_type": "error",
     "ename": "KeyError",
     "evalue": "'sample320'",
     "traceback": [
      "\u001b[0;31m---------------------------------------------------------------------------\u001b[0m",
      "\u001b[0;31mValueError\u001b[0m                                Traceback (most recent call last)",
      "\u001b[0;32m/anaconda/envs/deepts/lib/python3.7/site-packages/pandas/core/indexes/base.py\u001b[0m in \u001b[0;36mget_slice_bound\u001b[0;34m(self, label, side, kind)\u001b[0m\n\u001b[1;32m   4844\u001b[0m             \u001b[0;32mtry\u001b[0m\u001b[0;34m:\u001b[0m\u001b[0;34m\u001b[0m\u001b[0;34m\u001b[0m\u001b[0m\n\u001b[0;32m-> 4845\u001b[0;31m                 \u001b[0;32mreturn\u001b[0m \u001b[0mself\u001b[0m\u001b[0;34m.\u001b[0m\u001b[0m_searchsorted_monotonic\u001b[0m\u001b[0;34m(\u001b[0m\u001b[0mlabel\u001b[0m\u001b[0;34m,\u001b[0m \u001b[0mside\u001b[0m\u001b[0;34m)\u001b[0m\u001b[0;34m\u001b[0m\u001b[0;34m\u001b[0m\u001b[0m\n\u001b[0m\u001b[1;32m   4846\u001b[0m             \u001b[0;32mexcept\u001b[0m \u001b[0mValueError\u001b[0m\u001b[0;34m:\u001b[0m\u001b[0;34m\u001b[0m\u001b[0;34m\u001b[0m\u001b[0m\n",
      "\u001b[0;32m/anaconda/envs/deepts/lib/python3.7/site-packages/pandas/core/indexes/base.py\u001b[0m in \u001b[0;36m_searchsorted_monotonic\u001b[0;34m(self, label, side)\u001b[0m\n\u001b[1;32m   4805\u001b[0m \u001b[0;34m\u001b[0m\u001b[0m\n\u001b[0;32m-> 4806\u001b[0;31m         \u001b[0;32mraise\u001b[0m \u001b[0mValueError\u001b[0m\u001b[0;34m(\u001b[0m\u001b[0;34m\"index must be monotonic increasing or decreasing\"\u001b[0m\u001b[0;34m)\u001b[0m\u001b[0;34m\u001b[0m\u001b[0;34m\u001b[0m\u001b[0m\n\u001b[0m\u001b[1;32m   4807\u001b[0m \u001b[0;34m\u001b[0m\u001b[0m\n",
      "\u001b[0;31mValueError\u001b[0m: index must be monotonic increasing or decreasing",
      "\nDuring handling of the above exception, another exception occurred:\n",
      "\u001b[0;31mKeyError\u001b[0m                                  Traceback (most recent call last)",
      "\u001b[0;32m<ipython-input-13-ec92b86a7d95>\u001b[0m in \u001b[0;36m<module>\u001b[0;34m\u001b[0m\n\u001b[1;32m      1\u001b[0m \u001b[0;31m# sort the forcast lists based on their original time series\u001b[0m\u001b[0;34m\u001b[0m\u001b[0;34m\u001b[0m\u001b[0;34m\u001b[0m\u001b[0m\n\u001b[0;32m----> 2\u001b[0;31m \u001b[0msorted_forcast_list1\u001b[0m \u001b[0;34m=\u001b[0m \u001b[0mget_sorted_csv\u001b[0m\u001b[0;34m(\u001b[0m\u001b[0mforcast_list1\u001b[0m\u001b[0;34m,\u001b[0m \u001b[0mnum_time_series\u001b[0m\u001b[0;34m=\u001b[0m\u001b[0;36m321\u001b[0m\u001b[0;34m)\u001b[0m\u001b[0;34m\u001b[0m\u001b[0;34m\u001b[0m\u001b[0m\n\u001b[0m\u001b[1;32m      3\u001b[0m \u001b[0;31m# sorted_forcast_list2 = get_sorted_csv(forcast_list2)\u001b[0m\u001b[0;34m\u001b[0m\u001b[0;34m\u001b[0m\u001b[0;34m\u001b[0m\u001b[0m\n",
      "\u001b[0;32m~/deepts/notebooks/scr/RQ1_forecast.py\u001b[0m in \u001b[0;36mget_sorted_csv\u001b[0;34m(forcast_list_val, num_time_series, num_samples)\u001b[0m\n\u001b[1;32m    281\u001b[0m \u001b[0;32mdef\u001b[0m \u001b[0mget_sorted_csv\u001b[0m\u001b[0;34m(\u001b[0m\u001b[0mforcast_list_val\u001b[0m\u001b[0;34m,\u001b[0m \u001b[0mnum_time_series\u001b[0m\u001b[0;34m=\u001b[0m\u001b[0;36m321\u001b[0m\u001b[0;34m,\u001b[0m \u001b[0mnum_samples\u001b[0m\u001b[0;34m=\u001b[0m\u001b[0;36m100\u001b[0m\u001b[0;34m)\u001b[0m\u001b[0;34m:\u001b[0m\u001b[0;34m\u001b[0m\u001b[0;34m\u001b[0m\u001b[0m\n\u001b[1;32m    282\u001b[0m     \u001b[0;32mfor\u001b[0m \u001b[0mforcast_list_element\u001b[0m \u001b[0;32min\u001b[0m \u001b[0mforcast_list_val\u001b[0m\u001b[0;34m:\u001b[0m\u001b[0;34m\u001b[0m\u001b[0;34m\u001b[0m\u001b[0m\n\u001b[0;32m--> 283\u001b[0;31m         \u001b[0mforcast_list_element\u001b[0m \u001b[0;34m=\u001b[0m \u001b[0mget_avg_mean_sorted_train_series\u001b[0m\u001b[0;34m(\u001b[0m\u001b[0mforcast_list_element\u001b[0m\u001b[0;34m,\u001b[0m \u001b[0mnum_time_series\u001b[0m\u001b[0;34m,\u001b[0m \u001b[0mnum_samples\u001b[0m\u001b[0;34m)\u001b[0m\u001b[0;34m\u001b[0m\u001b[0;34m\u001b[0m\u001b[0m\n\u001b[0m\u001b[1;32m    284\u001b[0m     \u001b[0;32mreturn\u001b[0m \u001b[0mforcast_list_val\u001b[0m\u001b[0;34m\u001b[0m\u001b[0;34m\u001b[0m\u001b[0m\n\u001b[1;32m    285\u001b[0m \u001b[0;34m\u001b[0m\u001b[0m\n",
      "\u001b[0;32m~/deepts/notebooks/scr/RQ1_forecast.py\u001b[0m in \u001b[0;36mget_avg_mean_sorted_train_series\u001b[0;34m(forcast_list_el, num_samples, num_time_series)\u001b[0m\n\u001b[1;32m    273\u001b[0m \u001b[0;31m#     forcast_list_el.set_index('train_series_number', inplace=True)\u001b[0m\u001b[0;34m\u001b[0m\u001b[0;34m\u001b[0m\u001b[0;34m\u001b[0m\u001b[0m\n\u001b[1;32m    274\u001b[0m     \u001b[0mforcast_list_el\u001b[0m\u001b[0;34m.\u001b[0m\u001b[0msort_values\u001b[0m\u001b[0;34m(\u001b[0m\u001b[0mby\u001b[0m\u001b[0;34m=\u001b[0m\u001b[0;34m[\u001b[0m\u001b[0;34m'train_series_number'\u001b[0m\u001b[0;34m,\u001b[0m \u001b[0;34m'timestamp'\u001b[0m\u001b[0;34m]\u001b[0m\u001b[0;34m,\u001b[0m \u001b[0minplace\u001b[0m\u001b[0;34m=\u001b[0m\u001b[0;32mTrue\u001b[0m\u001b[0;34m)\u001b[0m\u001b[0;34m\u001b[0m\u001b[0;34m\u001b[0m\u001b[0m\n\u001b[0;32m--> 275\u001b[0;31m     \u001b[0mforcast_list_el\u001b[0m\u001b[0;34m[\u001b[0m\u001b[0;34m'mean'\u001b[0m\u001b[0;34m]\u001b[0m \u001b[0;34m=\u001b[0m \u001b[0mforcast_list_el\u001b[0m\u001b[0;34m.\u001b[0m\u001b[0mloc\u001b[0m\u001b[0;34m[\u001b[0m\u001b[0;34m:\u001b[0m\u001b[0;34m,\u001b[0m \u001b[0;34m'sample0'\u001b[0m\u001b[0;34m:\u001b[0m\u001b[0;34mf'sample{num_samples-1}'\u001b[0m\u001b[0;34m]\u001b[0m\u001b[0;34m.\u001b[0m\u001b[0mmean\u001b[0m\u001b[0;34m(\u001b[0m\u001b[0maxis\u001b[0m\u001b[0;34m=\u001b[0m\u001b[0;36m1\u001b[0m\u001b[0;34m)\u001b[0m\u001b[0;34m\u001b[0m\u001b[0;34m\u001b[0m\u001b[0m\n\u001b[0m\u001b[1;32m    276\u001b[0m     \u001b[0mforcast_list_el\u001b[0m\u001b[0;34m[\u001b[0m\u001b[0;34m'std'\u001b[0m\u001b[0;34m]\u001b[0m \u001b[0;34m=\u001b[0m \u001b[0mforcast_list_el\u001b[0m\u001b[0;34m.\u001b[0m\u001b[0mloc\u001b[0m\u001b[0;34m[\u001b[0m\u001b[0;34m:\u001b[0m\u001b[0;34m,\u001b[0m \u001b[0;34m'sample0'\u001b[0m\u001b[0;34m:\u001b[0m\u001b[0;34mf'sample{num_samples-1}'\u001b[0m\u001b[0;34m]\u001b[0m\u001b[0;34m.\u001b[0m\u001b[0mstd\u001b[0m\u001b[0;34m(\u001b[0m\u001b[0maxis\u001b[0m\u001b[0;34m=\u001b[0m\u001b[0;36m1\u001b[0m\u001b[0;34m)\u001b[0m\u001b[0;34m\u001b[0m\u001b[0;34m\u001b[0m\u001b[0m\n\u001b[1;32m    277\u001b[0m     \u001b[0mforcast_list_el\u001b[0m \u001b[0;34m=\u001b[0m \u001b[0madd_normal_std\u001b[0m\u001b[0;34m(\u001b[0m\u001b[0mforcast_list_el\u001b[0m\u001b[0;34m)\u001b[0m\u001b[0;34m\u001b[0m\u001b[0;34m\u001b[0m\u001b[0m\n",
      "\u001b[0;32m/anaconda/envs/deepts/lib/python3.7/site-packages/pandas/core/indexing.py\u001b[0m in \u001b[0;36m__getitem__\u001b[0;34m(self, key)\u001b[0m\n\u001b[1;32m   1760\u001b[0m                 \u001b[0;32mexcept\u001b[0m \u001b[0;34m(\u001b[0m\u001b[0mKeyError\u001b[0m\u001b[0;34m,\u001b[0m \u001b[0mIndexError\u001b[0m\u001b[0;34m,\u001b[0m \u001b[0mAttributeError\u001b[0m\u001b[0;34m)\u001b[0m\u001b[0;34m:\u001b[0m\u001b[0;34m\u001b[0m\u001b[0;34m\u001b[0m\u001b[0m\n\u001b[1;32m   1761\u001b[0m                     \u001b[0;32mpass\u001b[0m\u001b[0;34m\u001b[0m\u001b[0;34m\u001b[0m\u001b[0m\n\u001b[0;32m-> 1762\u001b[0;31m             \u001b[0;32mreturn\u001b[0m \u001b[0mself\u001b[0m\u001b[0;34m.\u001b[0m\u001b[0m_getitem_tuple\u001b[0m\u001b[0;34m(\u001b[0m\u001b[0mkey\u001b[0m\u001b[0;34m)\u001b[0m\u001b[0;34m\u001b[0m\u001b[0;34m\u001b[0m\u001b[0m\n\u001b[0m\u001b[1;32m   1763\u001b[0m         \u001b[0;32melse\u001b[0m\u001b[0;34m:\u001b[0m\u001b[0;34m\u001b[0m\u001b[0;34m\u001b[0m\u001b[0m\n\u001b[1;32m   1764\u001b[0m             \u001b[0;31m# we by definition only have the 0th axis\u001b[0m\u001b[0;34m\u001b[0m\u001b[0;34m\u001b[0m\u001b[0;34m\u001b[0m\u001b[0m\n",
      "\u001b[0;32m/anaconda/envs/deepts/lib/python3.7/site-packages/pandas/core/indexing.py\u001b[0m in \u001b[0;36m_getitem_tuple\u001b[0;34m(self, tup)\u001b[0m\n\u001b[1;32m   1287\u001b[0m                 \u001b[0;32mcontinue\u001b[0m\u001b[0;34m\u001b[0m\u001b[0;34m\u001b[0m\u001b[0m\n\u001b[1;32m   1288\u001b[0m \u001b[0;34m\u001b[0m\u001b[0m\n\u001b[0;32m-> 1289\u001b[0;31m             \u001b[0mretval\u001b[0m \u001b[0;34m=\u001b[0m \u001b[0mgetattr\u001b[0m\u001b[0;34m(\u001b[0m\u001b[0mretval\u001b[0m\u001b[0;34m,\u001b[0m \u001b[0mself\u001b[0m\u001b[0;34m.\u001b[0m\u001b[0mname\u001b[0m\u001b[0;34m)\u001b[0m\u001b[0;34m.\u001b[0m\u001b[0m_getitem_axis\u001b[0m\u001b[0;34m(\u001b[0m\u001b[0mkey\u001b[0m\u001b[0;34m,\u001b[0m \u001b[0maxis\u001b[0m\u001b[0;34m=\u001b[0m\u001b[0mi\u001b[0m\u001b[0;34m)\u001b[0m\u001b[0;34m\u001b[0m\u001b[0;34m\u001b[0m\u001b[0m\n\u001b[0m\u001b[1;32m   1290\u001b[0m \u001b[0;34m\u001b[0m\u001b[0m\n\u001b[1;32m   1291\u001b[0m         \u001b[0;32mreturn\u001b[0m \u001b[0mretval\u001b[0m\u001b[0;34m\u001b[0m\u001b[0;34m\u001b[0m\u001b[0m\n",
      "\u001b[0;32m/anaconda/envs/deepts/lib/python3.7/site-packages/pandas/core/indexing.py\u001b[0m in \u001b[0;36m_getitem_axis\u001b[0;34m(self, key, axis)\u001b[0m\n\u001b[1;32m   1910\u001b[0m         \u001b[0;32mif\u001b[0m \u001b[0misinstance\u001b[0m\u001b[0;34m(\u001b[0m\u001b[0mkey\u001b[0m\u001b[0;34m,\u001b[0m \u001b[0mslice\u001b[0m\u001b[0;34m)\u001b[0m\u001b[0;34m:\u001b[0m\u001b[0;34m\u001b[0m\u001b[0;34m\u001b[0m\u001b[0m\n\u001b[1;32m   1911\u001b[0m             \u001b[0mself\u001b[0m\u001b[0;34m.\u001b[0m\u001b[0m_validate_key\u001b[0m\u001b[0;34m(\u001b[0m\u001b[0mkey\u001b[0m\u001b[0;34m,\u001b[0m \u001b[0maxis\u001b[0m\u001b[0;34m)\u001b[0m\u001b[0;34m\u001b[0m\u001b[0;34m\u001b[0m\u001b[0m\n\u001b[0;32m-> 1912\u001b[0;31m             \u001b[0;32mreturn\u001b[0m \u001b[0mself\u001b[0m\u001b[0;34m.\u001b[0m\u001b[0m_get_slice_axis\u001b[0m\u001b[0;34m(\u001b[0m\u001b[0mkey\u001b[0m\u001b[0;34m,\u001b[0m \u001b[0maxis\u001b[0m\u001b[0;34m=\u001b[0m\u001b[0maxis\u001b[0m\u001b[0;34m)\u001b[0m\u001b[0;34m\u001b[0m\u001b[0;34m\u001b[0m\u001b[0m\n\u001b[0m\u001b[1;32m   1913\u001b[0m         \u001b[0;32melif\u001b[0m \u001b[0mcom\u001b[0m\u001b[0;34m.\u001b[0m\u001b[0mis_bool_indexer\u001b[0m\u001b[0;34m(\u001b[0m\u001b[0mkey\u001b[0m\u001b[0;34m)\u001b[0m\u001b[0;34m:\u001b[0m\u001b[0;34m\u001b[0m\u001b[0;34m\u001b[0m\u001b[0m\n\u001b[1;32m   1914\u001b[0m             \u001b[0;32mreturn\u001b[0m \u001b[0mself\u001b[0m\u001b[0;34m.\u001b[0m\u001b[0m_getbool_axis\u001b[0m\u001b[0;34m(\u001b[0m\u001b[0mkey\u001b[0m\u001b[0;34m,\u001b[0m \u001b[0maxis\u001b[0m\u001b[0;34m=\u001b[0m\u001b[0maxis\u001b[0m\u001b[0;34m)\u001b[0m\u001b[0;34m\u001b[0m\u001b[0;34m\u001b[0m\u001b[0m\n",
      "\u001b[0;32m/anaconda/envs/deepts/lib/python3.7/site-packages/pandas/core/indexing.py\u001b[0m in \u001b[0;36m_get_slice_axis\u001b[0;34m(self, slice_obj, axis)\u001b[0m\n\u001b[1;32m   1795\u001b[0m         \u001b[0mlabels\u001b[0m \u001b[0;34m=\u001b[0m \u001b[0mobj\u001b[0m\u001b[0;34m.\u001b[0m\u001b[0m_get_axis\u001b[0m\u001b[0;34m(\u001b[0m\u001b[0maxis\u001b[0m\u001b[0;34m)\u001b[0m\u001b[0;34m\u001b[0m\u001b[0;34m\u001b[0m\u001b[0m\n\u001b[1;32m   1796\u001b[0m         indexer = labels.slice_indexer(\n\u001b[0;32m-> 1797\u001b[0;31m             \u001b[0mslice_obj\u001b[0m\u001b[0;34m.\u001b[0m\u001b[0mstart\u001b[0m\u001b[0;34m,\u001b[0m \u001b[0mslice_obj\u001b[0m\u001b[0;34m.\u001b[0m\u001b[0mstop\u001b[0m\u001b[0;34m,\u001b[0m \u001b[0mslice_obj\u001b[0m\u001b[0;34m.\u001b[0m\u001b[0mstep\u001b[0m\u001b[0;34m,\u001b[0m \u001b[0mkind\u001b[0m\u001b[0;34m=\u001b[0m\u001b[0mself\u001b[0m\u001b[0;34m.\u001b[0m\u001b[0mname\u001b[0m\u001b[0;34m\u001b[0m\u001b[0;34m\u001b[0m\u001b[0m\n\u001b[0m\u001b[1;32m   1798\u001b[0m         )\n\u001b[1;32m   1799\u001b[0m \u001b[0;34m\u001b[0m\u001b[0m\n",
      "\u001b[0;32m/anaconda/envs/deepts/lib/python3.7/site-packages/pandas/core/indexes/base.py\u001b[0m in \u001b[0;36mslice_indexer\u001b[0;34m(self, start, end, step, kind)\u001b[0m\n\u001b[1;32m   4711\u001b[0m         \u001b[0mslice\u001b[0m\u001b[0;34m(\u001b[0m\u001b[0;36m1\u001b[0m\u001b[0;34m,\u001b[0m \u001b[0;36m3\u001b[0m\u001b[0;34m)\u001b[0m\u001b[0;34m\u001b[0m\u001b[0;34m\u001b[0m\u001b[0m\n\u001b[1;32m   4712\u001b[0m         \"\"\"\n\u001b[0;32m-> 4713\u001b[0;31m         \u001b[0mstart_slice\u001b[0m\u001b[0;34m,\u001b[0m \u001b[0mend_slice\u001b[0m \u001b[0;34m=\u001b[0m \u001b[0mself\u001b[0m\u001b[0;34m.\u001b[0m\u001b[0mslice_locs\u001b[0m\u001b[0;34m(\u001b[0m\u001b[0mstart\u001b[0m\u001b[0;34m,\u001b[0m \u001b[0mend\u001b[0m\u001b[0;34m,\u001b[0m \u001b[0mstep\u001b[0m\u001b[0;34m=\u001b[0m\u001b[0mstep\u001b[0m\u001b[0;34m,\u001b[0m \u001b[0mkind\u001b[0m\u001b[0;34m=\u001b[0m\u001b[0mkind\u001b[0m\u001b[0;34m)\u001b[0m\u001b[0;34m\u001b[0m\u001b[0;34m\u001b[0m\u001b[0m\n\u001b[0m\u001b[1;32m   4714\u001b[0m \u001b[0;34m\u001b[0m\u001b[0m\n\u001b[1;32m   4715\u001b[0m         \u001b[0;31m# return a slice\u001b[0m\u001b[0;34m\u001b[0m\u001b[0;34m\u001b[0m\u001b[0;34m\u001b[0m\u001b[0m\n",
      "\u001b[0;32m/anaconda/envs/deepts/lib/python3.7/site-packages/pandas/core/indexes/base.py\u001b[0m in \u001b[0;36mslice_locs\u001b[0;34m(self, start, end, step, kind)\u001b[0m\n\u001b[1;32m   4930\u001b[0m         \u001b[0mend_slice\u001b[0m \u001b[0;34m=\u001b[0m \u001b[0;32mNone\u001b[0m\u001b[0;34m\u001b[0m\u001b[0;34m\u001b[0m\u001b[0m\n\u001b[1;32m   4931\u001b[0m         \u001b[0;32mif\u001b[0m \u001b[0mend\u001b[0m \u001b[0;32mis\u001b[0m \u001b[0;32mnot\u001b[0m \u001b[0;32mNone\u001b[0m\u001b[0;34m:\u001b[0m\u001b[0;34m\u001b[0m\u001b[0;34m\u001b[0m\u001b[0m\n\u001b[0;32m-> 4932\u001b[0;31m             \u001b[0mend_slice\u001b[0m \u001b[0;34m=\u001b[0m \u001b[0mself\u001b[0m\u001b[0;34m.\u001b[0m\u001b[0mget_slice_bound\u001b[0m\u001b[0;34m(\u001b[0m\u001b[0mend\u001b[0m\u001b[0;34m,\u001b[0m \u001b[0;34m\"right\"\u001b[0m\u001b[0;34m,\u001b[0m \u001b[0mkind\u001b[0m\u001b[0;34m)\u001b[0m\u001b[0;34m\u001b[0m\u001b[0;34m\u001b[0m\u001b[0m\n\u001b[0m\u001b[1;32m   4933\u001b[0m         \u001b[0;32mif\u001b[0m \u001b[0mend_slice\u001b[0m \u001b[0;32mis\u001b[0m \u001b[0;32mNone\u001b[0m\u001b[0;34m:\u001b[0m\u001b[0;34m\u001b[0m\u001b[0;34m\u001b[0m\u001b[0m\n\u001b[1;32m   4934\u001b[0m             \u001b[0mend_slice\u001b[0m \u001b[0;34m=\u001b[0m \u001b[0mlen\u001b[0m\u001b[0;34m(\u001b[0m\u001b[0mself\u001b[0m\u001b[0;34m)\u001b[0m\u001b[0;34m\u001b[0m\u001b[0;34m\u001b[0m\u001b[0m\n",
      "\u001b[0;32m/anaconda/envs/deepts/lib/python3.7/site-packages/pandas/core/indexes/base.py\u001b[0m in \u001b[0;36mget_slice_bound\u001b[0;34m(self, label, side, kind)\u001b[0m\n\u001b[1;32m   4846\u001b[0m             \u001b[0;32mexcept\u001b[0m \u001b[0mValueError\u001b[0m\u001b[0;34m:\u001b[0m\u001b[0;34m\u001b[0m\u001b[0;34m\u001b[0m\u001b[0m\n\u001b[1;32m   4847\u001b[0m                 \u001b[0;31m# raise the original KeyError\u001b[0m\u001b[0;34m\u001b[0m\u001b[0;34m\u001b[0m\u001b[0;34m\u001b[0m\u001b[0m\n\u001b[0;32m-> 4848\u001b[0;31m                 \u001b[0;32mraise\u001b[0m \u001b[0merr\u001b[0m\u001b[0;34m\u001b[0m\u001b[0;34m\u001b[0m\u001b[0m\n\u001b[0m\u001b[1;32m   4849\u001b[0m \u001b[0;34m\u001b[0m\u001b[0m\n\u001b[1;32m   4850\u001b[0m         \u001b[0;32mif\u001b[0m \u001b[0misinstance\u001b[0m\u001b[0;34m(\u001b[0m\u001b[0mslc\u001b[0m\u001b[0;34m,\u001b[0m \u001b[0mnp\u001b[0m\u001b[0;34m.\u001b[0m\u001b[0mndarray\u001b[0m\u001b[0;34m)\u001b[0m\u001b[0;34m:\u001b[0m\u001b[0;34m\u001b[0m\u001b[0;34m\u001b[0m\u001b[0m\n",
      "\u001b[0;32m/anaconda/envs/deepts/lib/python3.7/site-packages/pandas/core/indexes/base.py\u001b[0m in \u001b[0;36mget_slice_bound\u001b[0;34m(self, label, side, kind)\u001b[0m\n\u001b[1;32m   4840\u001b[0m         \u001b[0;31m# we need to look up the label\u001b[0m\u001b[0;34m\u001b[0m\u001b[0;34m\u001b[0m\u001b[0;34m\u001b[0m\u001b[0m\n\u001b[1;32m   4841\u001b[0m         \u001b[0;32mtry\u001b[0m\u001b[0;34m:\u001b[0m\u001b[0;34m\u001b[0m\u001b[0;34m\u001b[0m\u001b[0m\n\u001b[0;32m-> 4842\u001b[0;31m             \u001b[0mslc\u001b[0m \u001b[0;34m=\u001b[0m \u001b[0mself\u001b[0m\u001b[0;34m.\u001b[0m\u001b[0mget_loc\u001b[0m\u001b[0;34m(\u001b[0m\u001b[0mlabel\u001b[0m\u001b[0;34m)\u001b[0m\u001b[0;34m\u001b[0m\u001b[0;34m\u001b[0m\u001b[0m\n\u001b[0m\u001b[1;32m   4843\u001b[0m         \u001b[0;32mexcept\u001b[0m \u001b[0mKeyError\u001b[0m \u001b[0;32mas\u001b[0m \u001b[0merr\u001b[0m\u001b[0;34m:\u001b[0m\u001b[0;34m\u001b[0m\u001b[0;34m\u001b[0m\u001b[0m\n\u001b[1;32m   4844\u001b[0m             \u001b[0;32mtry\u001b[0m\u001b[0;34m:\u001b[0m\u001b[0;34m\u001b[0m\u001b[0;34m\u001b[0m\u001b[0m\n",
      "\u001b[0;32m/anaconda/envs/deepts/lib/python3.7/site-packages/pandas/core/indexes/base.py\u001b[0m in \u001b[0;36mget_loc\u001b[0;34m(self, key, method, tolerance)\u001b[0m\n\u001b[1;32m   2646\u001b[0m                 \u001b[0;32mreturn\u001b[0m \u001b[0mself\u001b[0m\u001b[0;34m.\u001b[0m\u001b[0m_engine\u001b[0m\u001b[0;34m.\u001b[0m\u001b[0mget_loc\u001b[0m\u001b[0;34m(\u001b[0m\u001b[0mkey\u001b[0m\u001b[0;34m)\u001b[0m\u001b[0;34m\u001b[0m\u001b[0;34m\u001b[0m\u001b[0m\n\u001b[1;32m   2647\u001b[0m             \u001b[0;32mexcept\u001b[0m \u001b[0mKeyError\u001b[0m\u001b[0;34m:\u001b[0m\u001b[0;34m\u001b[0m\u001b[0;34m\u001b[0m\u001b[0m\n\u001b[0;32m-> 2648\u001b[0;31m                 \u001b[0;32mreturn\u001b[0m \u001b[0mself\u001b[0m\u001b[0;34m.\u001b[0m\u001b[0m_engine\u001b[0m\u001b[0;34m.\u001b[0m\u001b[0mget_loc\u001b[0m\u001b[0;34m(\u001b[0m\u001b[0mself\u001b[0m\u001b[0;34m.\u001b[0m\u001b[0m_maybe_cast_indexer\u001b[0m\u001b[0;34m(\u001b[0m\u001b[0mkey\u001b[0m\u001b[0;34m)\u001b[0m\u001b[0;34m)\u001b[0m\u001b[0;34m\u001b[0m\u001b[0;34m\u001b[0m\u001b[0m\n\u001b[0m\u001b[1;32m   2649\u001b[0m         \u001b[0mindexer\u001b[0m \u001b[0;34m=\u001b[0m \u001b[0mself\u001b[0m\u001b[0;34m.\u001b[0m\u001b[0mget_indexer\u001b[0m\u001b[0;34m(\u001b[0m\u001b[0;34m[\u001b[0m\u001b[0mkey\u001b[0m\u001b[0;34m]\u001b[0m\u001b[0;34m,\u001b[0m \u001b[0mmethod\u001b[0m\u001b[0;34m=\u001b[0m\u001b[0mmethod\u001b[0m\u001b[0;34m,\u001b[0m \u001b[0mtolerance\u001b[0m\u001b[0;34m=\u001b[0m\u001b[0mtolerance\u001b[0m\u001b[0;34m)\u001b[0m\u001b[0;34m\u001b[0m\u001b[0;34m\u001b[0m\u001b[0m\n\u001b[1;32m   2650\u001b[0m         \u001b[0;32mif\u001b[0m \u001b[0mindexer\u001b[0m\u001b[0;34m.\u001b[0m\u001b[0mndim\u001b[0m \u001b[0;34m>\u001b[0m \u001b[0;36m1\u001b[0m \u001b[0;32mor\u001b[0m \u001b[0mindexer\u001b[0m\u001b[0;34m.\u001b[0m\u001b[0msize\u001b[0m \u001b[0;34m>\u001b[0m \u001b[0;36m1\u001b[0m\u001b[0;34m:\u001b[0m\u001b[0;34m\u001b[0m\u001b[0;34m\u001b[0m\u001b[0m\n",
      "\u001b[0;32mpandas/_libs/index.pyx\u001b[0m in \u001b[0;36mpandas._libs.index.IndexEngine.get_loc\u001b[0;34m()\u001b[0m\n",
      "\u001b[0;32mpandas/_libs/index.pyx\u001b[0m in \u001b[0;36mpandas._libs.index.IndexEngine.get_loc\u001b[0;34m()\u001b[0m\n",
      "\u001b[0;32mpandas/_libs/hashtable_class_helper.pxi\u001b[0m in \u001b[0;36mpandas._libs.hashtable.PyObjectHashTable.get_item\u001b[0;34m()\u001b[0m\n",
      "\u001b[0;32mpandas/_libs/hashtable_class_helper.pxi\u001b[0m in \u001b[0;36mpandas._libs.hashtable.PyObjectHashTable.get_item\u001b[0;34m()\u001b[0m\n",
      "\u001b[0;31mKeyError\u001b[0m: 'sample320'"
     ]
    }
   ],
   "source": [
    "# sort the forcast lists based on their original time series\n",
    "sorted_forcast_list1 = get_sorted_csv(forcast_list1, num_samples, num_time_series=321)\n",
    "# sorted_forcast_list2 = get_sorted_csv(forcast_list2)"
   ]
  },
  {
   "cell_type": "code",
   "execution_count": 14,
   "metadata": {},
   "outputs": [
    {
     "output_type": "error",
     "ename": "NameError",
     "evalue": "name 'sorted_forcast_list1' is not defined",
     "traceback": [
      "\u001b[0;31m---------------------------------------------------------------------------\u001b[0m",
      "\u001b[0;31mNameError\u001b[0m                                 Traceback (most recent call last)",
      "\u001b[0;32m<ipython-input-14-72560a3170ed>\u001b[0m in \u001b[0;36m<module>\u001b[0;34m\u001b[0m\n\u001b[0;32m----> 1\u001b[0;31m \u001b[0msorted_forcast_list1\u001b[0m\u001b[0;34m[\u001b[0m\u001b[0;36m0\u001b[0m\u001b[0;34m]\u001b[0m\u001b[0;34m.\u001b[0m\u001b[0mhead\u001b[0m\u001b[0;34m(\u001b[0m\u001b[0;36m168\u001b[0m\u001b[0;34m)\u001b[0m\u001b[0;34m\u001b[0m\u001b[0;34m\u001b[0m\u001b[0m\n\u001b[0m",
      "\u001b[0;31mNameError\u001b[0m: name 'sorted_forcast_list1' is not defined"
     ]
    }
   ],
   "source": [
    "sorted_forcast_list1[0].head(168)"
   ]
  },
  {
   "cell_type": "code",
   "execution_count": 15,
   "metadata": {},
   "outputs": [],
   "source": [
    "target_forcast_series = get_forcast_target(forcast_list1)"
   ]
  },
  {
   "cell_type": "code",
   "execution_count": 16,
   "metadata": {},
   "outputs": [
    {
     "output_type": "error",
     "ename": "NameError",
     "evalue": "name 'sorted_forcast_list1' is not defined",
     "traceback": [
      "\u001b[0;31m---------------------------------------------------------------------------\u001b[0m",
      "\u001b[0;31mNameError\u001b[0m                                 Traceback (most recent call last)",
      "\u001b[0;32m<ipython-input-16-bc4f1420e185>\u001b[0m in \u001b[0;36m<module>\u001b[0;34m\u001b[0m\n\u001b[1;32m      1\u001b[0m \u001b[0;31m# this dataframe is just one time series\u001b[0m\u001b[0;34m\u001b[0m\u001b[0;34m\u001b[0m\u001b[0;34m\u001b[0m\u001b[0m\n\u001b[1;32m      2\u001b[0m \u001b[0mts_number\u001b[0m \u001b[0;34m=\u001b[0m \u001b[0;36m0\u001b[0m\u001b[0;34m\u001b[0m\u001b[0;34m\u001b[0m\u001b[0m\n\u001b[0;32m----> 3\u001b[0;31m \u001b[0mts_list1\u001b[0m \u001b[0;34m=\u001b[0m \u001b[0mget_ts_list\u001b[0m\u001b[0;34m(\u001b[0m\u001b[0msorted_forcast_list1\u001b[0m\u001b[0;34m,\u001b[0m \u001b[0mts_number\u001b[0m\u001b[0;34m)\u001b[0m\u001b[0;34m\u001b[0m\u001b[0;34m\u001b[0m\u001b[0m\n\u001b[0m\u001b[1;32m      4\u001b[0m \u001b[0;31m# ts_list2 = get_ts_list(sorted_forcast_list2, ts_number)\u001b[0m\u001b[0;34m\u001b[0m\u001b[0;34m\u001b[0m\u001b[0;34m\u001b[0m\u001b[0m\n",
      "\u001b[0;31mNameError\u001b[0m: name 'sorted_forcast_list1' is not defined"
     ]
    }
   ],
   "source": [
    "# this dataframe is just one time series\n",
    "ts_number = 0\n",
    "ts_list1 = get_ts_list(sorted_forcast_list1, ts_number)\n",
    "# ts_list2 = get_ts_list(sorted_forcast_list2, ts_number)"
   ]
  },
  {
   "cell_type": "code",
   "execution_count": 17,
   "metadata": {},
   "outputs": [
    {
     "output_type": "error",
     "ename": "NameError",
     "evalue": "name 'ts_list1' is not defined",
     "traceback": [
      "\u001b[0;31m---------------------------------------------------------------------------\u001b[0m",
      "\u001b[0;31mNameError\u001b[0m                                 Traceback (most recent call last)",
      "\u001b[0;32m<ipython-input-17-157883bcf9ae>\u001b[0m in \u001b[0;36m<module>\u001b[0;34m\u001b[0m\n\u001b[1;32m      2\u001b[0m \u001b[0mrep_no\u001b[0m \u001b[0;34m=\u001b[0m \u001b[0;36m0\u001b[0m\u001b[0;34m\u001b[0m\u001b[0;34m\u001b[0m\u001b[0m\n\u001b[1;32m      3\u001b[0m \u001b[0mplt\u001b[0m\u001b[0;34m.\u001b[0m\u001b[0mtitle\u001b[0m\u001b[0;34m(\u001b[0m\u001b[0;34mf'comparing two mean of expriments with repetition #{rep_no}, time_series #{ts_number}'\u001b[0m\u001b[0;34m)\u001b[0m\u001b[0;34m\u001b[0m\u001b[0;34m\u001b[0m\u001b[0m\n\u001b[0;32m----> 4\u001b[0;31m \u001b[0mts_list1\u001b[0m\u001b[0;34m[\u001b[0m\u001b[0mrep_no\u001b[0m\u001b[0;34m]\u001b[0m\u001b[0;34m[\u001b[0m\u001b[0;34m'mean'\u001b[0m\u001b[0;34m]\u001b[0m\u001b[0;34m.\u001b[0m\u001b[0mplot\u001b[0m\u001b[0;34m(\u001b[0m\u001b[0;34m)\u001b[0m\u001b[0;34m\u001b[0m\u001b[0;34m\u001b[0m\u001b[0m\n\u001b[0m\u001b[1;32m      5\u001b[0m \u001b[0;31m# ts_list2[rep_no]['mean'].plot()\u001b[0m\u001b[0;34m\u001b[0m\u001b[0;34m\u001b[0m\u001b[0;34m\u001b[0m\u001b[0m\n",
      "\u001b[0;31mNameError\u001b[0m: name 'ts_list1' is not defined"
     ]
    }
   ],
   "source": [
    "# plot mean of only one time series\n",
    "rep_no = 0\n",
    "plt.title(f'comparing two mean of expriments with repetition #{rep_no}, time_series #{ts_number}')\n",
    "ts_list1[rep_no]['mean'].plot()\n",
    "# ts_list2[rep_no]['mean'].plot()"
   ]
  },
  {
   "cell_type": "markdown",
   "metadata": {},
   "source": [
    "## We want to compare the number of time points on experiment underpredict. \n",
    "Question is are experiments with worst MAPE, underpredict most of the time?"
   ]
  },
  {
   "cell_type": "code",
   "execution_count": 18,
   "metadata": {},
   "outputs": [
    {
     "output_type": "error",
     "ename": "NameError",
     "evalue": "name 'sorted_forcast_list1' is not defined",
     "traceback": [
      "\u001b[0;31m---------------------------------------------------------------------------\u001b[0m",
      "\u001b[0;31mNameError\u001b[0m                                 Traceback (most recent call last)",
      "\u001b[0;32m<ipython-input-18-7acfdf2f451b>\u001b[0m in \u001b[0;36m<module>\u001b[0;34m\u001b[0m\n\u001b[1;32m      2\u001b[0m \u001b[0;31m# we need to use compare means, but I need to change the function\u001b[0m\u001b[0;34m\u001b[0m\u001b[0;34m\u001b[0m\u001b[0;34m\u001b[0m\u001b[0m\n\u001b[1;32m      3\u001b[0m \u001b[0;31m# experiment A\u001b[0m\u001b[0;34m\u001b[0m\u001b[0;34m\u001b[0m\u001b[0;34m\u001b[0m\u001b[0m\n\u001b[0;32m----> 4\u001b[0;31m \u001b[0mexpA_worst_compare\u001b[0m \u001b[0;34m=\u001b[0m \u001b[0;34m(\u001b[0m\u001b[0msorted_forcast_list1\u001b[0m\u001b[0;34m[\u001b[0m\u001b[0;36m9\u001b[0m\u001b[0;34m]\u001b[0m\u001b[0;34m[\u001b[0m\u001b[0;34m'mean'\u001b[0m\u001b[0;34m]\u001b[0m \u001b[0;34m<\u001b[0m \u001b[0msorted_forcast_list1\u001b[0m\u001b[0;34m[\u001b[0m\u001b[0;36m0\u001b[0m\u001b[0;34m]\u001b[0m\u001b[0;34m[\u001b[0m\u001b[0;34m'target'\u001b[0m\u001b[0;34m]\u001b[0m\u001b[0;34m)\u001b[0m\u001b[0;34m.\u001b[0m\u001b[0mvalue_counts\u001b[0m\u001b[0;34m(\u001b[0m\u001b[0;34m)\u001b[0m\u001b[0;34m\u001b[0m\u001b[0;34m\u001b[0m\u001b[0m\n\u001b[0m\u001b[1;32m      5\u001b[0m \u001b[0mexpA_best_compare\u001b[0m \u001b[0;34m=\u001b[0m \u001b[0;34m(\u001b[0m\u001b[0msorted_forcast_list1\u001b[0m\u001b[0;34m[\u001b[0m\u001b[0;36m64\u001b[0m\u001b[0;34m]\u001b[0m\u001b[0;34m[\u001b[0m\u001b[0;34m'mean'\u001b[0m\u001b[0;34m]\u001b[0m \u001b[0;34m<\u001b[0m \u001b[0msorted_forcast_list1\u001b[0m\u001b[0;34m[\u001b[0m\u001b[0;36m0\u001b[0m\u001b[0;34m]\u001b[0m\u001b[0;34m[\u001b[0m\u001b[0;34m'target'\u001b[0m\u001b[0;34m]\u001b[0m\u001b[0;34m)\u001b[0m\u001b[0;34m.\u001b[0m\u001b[0mvalue_counts\u001b[0m\u001b[0;34m(\u001b[0m\u001b[0;34m)\u001b[0m\u001b[0;34m\u001b[0m\u001b[0;34m\u001b[0m\u001b[0m\n\u001b[1;32m      6\u001b[0m \u001b[0mexpA_highest_compare\u001b[0m \u001b[0;34m=\u001b[0m \u001b[0;34m(\u001b[0m\u001b[0msorted_forcast_list1\u001b[0m\u001b[0;34m[\u001b[0m\u001b[0;36m17\u001b[0m\u001b[0;34m]\u001b[0m\u001b[0;34m[\u001b[0m\u001b[0;34m'mean'\u001b[0m\u001b[0;34m]\u001b[0m \u001b[0;34m<\u001b[0m \u001b[0msorted_forcast_list1\u001b[0m\u001b[0;34m[\u001b[0m\u001b[0;36m0\u001b[0m\u001b[0;34m]\u001b[0m\u001b[0;34m[\u001b[0m\u001b[0;34m'target'\u001b[0m\u001b[0;34m]\u001b[0m\u001b[0;34m)\u001b[0m\u001b[0;34m.\u001b[0m\u001b[0mvalue_counts\u001b[0m\u001b[0;34m(\u001b[0m\u001b[0;34m)\u001b[0m\u001b[0;34m\u001b[0m\u001b[0;34m\u001b[0m\u001b[0m\n",
      "\u001b[0;31mNameError\u001b[0m: name 'sorted_forcast_list1' is not defined"
     ]
    }
   ],
   "source": [
    "# question: is the worse one always underpredict?\n",
    "# we need to use compare means, but I need to change the function\n",
    "# experiment A\n",
    "expA_worst_compare = (sorted_forcast_list1[9]['mean'] < sorted_forcast_list1[0]['target']).value_counts()\n",
    "expA_best_compare = (sorted_forcast_list1[64]['mean'] < sorted_forcast_list1[0]['target']).value_counts()\n",
    "expA_highest_compare = (sorted_forcast_list1[17]['mean'] < sorted_forcast_list1[0]['target']).value_counts()\n",
    "expA_lowest_compare = (sorted_forcast_list1[40]['mean'] < sorted_forcast_list1[0]['target']).value_counts()\n",
    "\n",
    "# # experiment B\n",
    "# expB_worst_compare = (sorted_forcast_list2[63]['mean'] < sorted_forcast_list1[0]['target']).value_counts()\n",
    "# expB_best_compare = (sorted_forcast_list2[68]['mean'] < sorted_forcast_list1[0]['target']).value_counts()\n",
    "# expB_highest_compare = (sorted_forcast_list2[8]['mean'] < sorted_forcast_list2[0]['target']).value_counts()"
   ]
  },
  {
   "cell_type": "code",
   "execution_count": 19,
   "metadata": {
    "tags": []
   },
   "outputs": [
    {
     "output_type": "error",
     "ename": "NameError",
     "evalue": "name 'expA_best_compare' is not defined",
     "traceback": [
      "\u001b[0;31m---------------------------------------------------------------------------\u001b[0m",
      "\u001b[0;31mNameError\u001b[0m                                 Traceback (most recent call last)",
      "\u001b[0;32m<ipython-input-19-f5d3628eb9f9>\u001b[0m in \u001b[0;36m<module>\u001b[0;34m\u001b[0m\n\u001b[1;32m      3\u001b[0m     \u001b[0;32mreturn\u001b[0m \u001b[0mseriesTrue\u001b[0m\u001b[0;34m/\u001b[0m\u001b[0;34m(\u001b[0m\u001b[0mseriesTrue\u001b[0m \u001b[0;34m+\u001b[0m \u001b[0mseriesFalse\u001b[0m\u001b[0;34m)\u001b[0m\u001b[0;34m\u001b[0m\u001b[0;34m\u001b[0m\u001b[0m\n\u001b[1;32m      4\u001b[0m \u001b[0;34m\u001b[0m\u001b[0m\n\u001b[0;32m----> 5\u001b[0;31m \u001b[0munderpred_A_best\u001b[0m \u001b[0;34m=\u001b[0m \u001b[0mcompare_two_series\u001b[0m\u001b[0;34m(\u001b[0m\u001b[0mexpA_best_compare\u001b[0m\u001b[0;34m[\u001b[0m\u001b[0;32mTrue\u001b[0m\u001b[0;34m]\u001b[0m\u001b[0;34m,\u001b[0m \u001b[0mexpA_best_compare\u001b[0m\u001b[0;34m[\u001b[0m\u001b[0;32mFalse\u001b[0m\u001b[0;34m]\u001b[0m\u001b[0;34m)\u001b[0m\u001b[0;34m\u001b[0m\u001b[0;34m\u001b[0m\u001b[0m\n\u001b[0m\u001b[1;32m      6\u001b[0m \u001b[0munderpred_A_worst\u001b[0m \u001b[0;34m=\u001b[0m \u001b[0mcompare_two_series\u001b[0m\u001b[0;34m(\u001b[0m\u001b[0mexpA_worst_compare\u001b[0m\u001b[0;34m[\u001b[0m\u001b[0;32mTrue\u001b[0m\u001b[0;34m]\u001b[0m\u001b[0;34m,\u001b[0m \u001b[0mexpA_worst_compare\u001b[0m\u001b[0;34m[\u001b[0m\u001b[0;32mFalse\u001b[0m\u001b[0;34m]\u001b[0m\u001b[0;34m)\u001b[0m\u001b[0;34m\u001b[0m\u001b[0;34m\u001b[0m\u001b[0m\n\u001b[1;32m      7\u001b[0m \u001b[0munderpred_A_highest\u001b[0m \u001b[0;34m=\u001b[0m \u001b[0mcompare_two_series\u001b[0m\u001b[0;34m(\u001b[0m\u001b[0mexpA_highest_compare\u001b[0m\u001b[0;34m[\u001b[0m\u001b[0;32mTrue\u001b[0m\u001b[0;34m]\u001b[0m\u001b[0;34m,\u001b[0m \u001b[0mexpA_highest_compare\u001b[0m\u001b[0;34m[\u001b[0m\u001b[0;32mFalse\u001b[0m\u001b[0;34m]\u001b[0m\u001b[0;34m)\u001b[0m\u001b[0;34m\u001b[0m\u001b[0;34m\u001b[0m\u001b[0m\n",
      "\u001b[0;31mNameError\u001b[0m: name 'expA_best_compare' is not defined"
     ]
    }
   ],
   "source": [
    "# outputs the proportion of true experiences over all the experiences\n",
    "def compare_two_series(seriesTrue, seriesFalse):\n",
    "    return seriesTrue/(seriesTrue + seriesFalse)\n",
    "\n",
    "underpred_A_best = compare_two_series(expA_best_compare[True], expA_best_compare[False])\n",
    "underpred_A_worst = compare_two_series(expA_worst_compare[True], expA_worst_compare[False])\n",
    "underpred_A_highest = compare_two_series(expA_highest_compare[True], expA_highest_compare[False])\n",
    "underpred_A_lowest = compare_two_series(expA_lowest_compare[True], expA_lowest_compare[False])\n",
    "\n",
    "\n",
    "print(f'percentage of underprediction of worst repetition for experiment A = {underpred_A_worst}')\n",
    "print(f'percentage of underprediction of best repetition for experiment A = {underpred_A_best}')\n",
    "print(f'percentage of underprediction of highest repetition for experiment A = {underpred_A_highest}')\n",
    "print(f'percentage of underprediction of lowest repetition for experiment A = {underpred_A_lowest}')\n",
    "\n",
    "\n"
   ]
  },
  {
   "cell_type": "code",
   "execution_count": 20,
   "metadata": {},
   "outputs": [
    {
     "output_type": "error",
     "ename": "NameError",
     "evalue": "name 'sorted_forcast_list1' is not defined",
     "traceback": [
      "\u001b[0;31m---------------------------------------------------------------------------\u001b[0m",
      "\u001b[0;31mNameError\u001b[0m                                 Traceback (most recent call last)",
      "\u001b[0;32m<ipython-input-20-9a97b942ac99>\u001b[0m in \u001b[0;36m<module>\u001b[0;34m\u001b[0m\n\u001b[1;32m      1\u001b[0m \u001b[0;31m# find the one with the highest prediction\u001b[0m\u001b[0;34m\u001b[0m\u001b[0;34m\u001b[0m\u001b[0;34m\u001b[0m\u001b[0m\n\u001b[0;32m----> 2\u001b[0;31m \u001b[0mget_highest_prediction_id\u001b[0m\u001b[0;34m(\u001b[0m\u001b[0msorted_forcast_list1\u001b[0m\u001b[0;34m,\u001b[0m \u001b[0mhigh_flag\u001b[0m\u001b[0;34m=\u001b[0m\u001b[0;32mFalse\u001b[0m\u001b[0;34m)\u001b[0m\u001b[0;34m,\u001b[0m \u001b[0mget_highest_prediction_id\u001b[0m\u001b[0;34m(\u001b[0m\u001b[0msorted_forcast_list1\u001b[0m\u001b[0;34m,\u001b[0m \u001b[0mhigh_flag\u001b[0m\u001b[0;34m=\u001b[0m\u001b[0;32mTrue\u001b[0m\u001b[0;34m)\u001b[0m\u001b[0;34m\u001b[0m\u001b[0;34m\u001b[0m\u001b[0m\n\u001b[0m",
      "\u001b[0;31mNameError\u001b[0m: name 'sorted_forcast_list1' is not defined"
     ]
    }
   ],
   "source": [
    "# find the one with the highest prediction\n",
    "get_highest_prediction_id(sorted_forcast_list1, high_flag=False), get_highest_prediction_id(sorted_forcast_list1, high_flag=True)"
   ]
  },
  {
   "cell_type": "code",
   "execution_count": 21,
   "metadata": {},
   "outputs": [
    {
     "output_type": "error",
     "ename": "NameError",
     "evalue": "name 'sorted_forcast_list1' is not defined",
     "traceback": [
      "\u001b[0;31m---------------------------------------------------------------------------\u001b[0m",
      "\u001b[0;31mNameError\u001b[0m                                 Traceback (most recent call last)",
      "\u001b[0;32m<ipython-input-21-28f351382a0a>\u001b[0m in \u001b[0;36m<module>\u001b[0;34m\u001b[0m\n\u001b[1;32m      2\u001b[0m \u001b[0;31m# combined_forecast_list = sorted_forcast_list1 + sorted_forcast_list2\u001b[0m\u001b[0;34m\u001b[0m\u001b[0;34m\u001b[0m\u001b[0;34m\u001b[0m\u001b[0m\n\u001b[1;32m      3\u001b[0m \u001b[0;31m# combined_max_tuple, _ = get_max_difference_pair(combined_forecast_list)\u001b[0m\u001b[0;34m\u001b[0m\u001b[0;34m\u001b[0m\u001b[0;34m\u001b[0m\u001b[0m\n\u001b[0;32m----> 4\u001b[0;31m \u001b[0mexpA_max_tuple\u001b[0m\u001b[0;34m,\u001b[0m \u001b[0m_\u001b[0m \u001b[0;34m=\u001b[0m \u001b[0mget_max_difference_pair\u001b[0m\u001b[0;34m(\u001b[0m\u001b[0msorted_forcast_list1\u001b[0m\u001b[0;34m)\u001b[0m\u001b[0;34m\u001b[0m\u001b[0;34m\u001b[0m\u001b[0m\n\u001b[0m\u001b[1;32m      5\u001b[0m \u001b[0;31m# expB_max_tuple, _ = get_max_difference_pair(sorted_forcast_list2)\u001b[0m\u001b[0;34m\u001b[0m\u001b[0;34m\u001b[0m\u001b[0;34m\u001b[0m\u001b[0m\n",
      "\u001b[0;31mNameError\u001b[0m: name 'sorted_forcast_list1' is not defined"
     ]
    }
   ],
   "source": [
    "# find max difference between each experiments with itself and also combined\n",
    "# combined_forecast_list = sorted_forcast_list1 + sorted_forcast_list2\n",
    "# combined_max_tuple, _ = get_max_difference_pair(combined_forecast_list)\n",
    "expA_max_tuple, _ = get_max_difference_pair(sorted_forcast_list1)\n",
    "# expB_max_tuple, _ = get_max_difference_pair(sorted_forcast_list2)"
   ]
  },
  {
   "cell_type": "code",
   "execution_count": 22,
   "metadata": {
    "tags": []
   },
   "outputs": [
    {
     "output_type": "error",
     "ename": "NameError",
     "evalue": "name 'expA_max_tuple' is not defined",
     "traceback": [
      "\u001b[0;31m---------------------------------------------------------------------------\u001b[0m",
      "\u001b[0;31mNameError\u001b[0m                                 Traceback (most recent call last)",
      "\u001b[0;32m<ipython-input-22-8254c40a5fa3>\u001b[0m in \u001b[0;36m<module>\u001b[0;34m\u001b[0m\n\u001b[0;32m----> 1\u001b[0;31m \u001b[0mprint\u001b[0m\u001b[0;34m(\u001b[0m\u001b[0;34mf'the most different tuples of experiment A is: {expA_max_tuple}'\u001b[0m\u001b[0;34m)\u001b[0m\u001b[0;34m\u001b[0m\u001b[0;34m\u001b[0m\u001b[0m\n\u001b[0m\u001b[1;32m      2\u001b[0m \u001b[0;31m# print(f'the most different tuples of experiment B is: {expB_max_tuple}')\u001b[0m\u001b[0;34m\u001b[0m\u001b[0;34m\u001b[0m\u001b[0;34m\u001b[0m\u001b[0m\n\u001b[1;32m      3\u001b[0m \u001b[0;31m# print(f'the most different tuples of Combined experiments is: {combined_max_tuple}')\u001b[0m\u001b[0;34m\u001b[0m\u001b[0;34m\u001b[0m\u001b[0;34m\u001b[0m\u001b[0m\n",
      "\u001b[0;31mNameError\u001b[0m: name 'expA_max_tuple' is not defined"
     ]
    }
   ],
   "source": [
    "print(f'the most different tuples of experiment A is: {expA_max_tuple}')\n",
    "# print(f'the most different tuples of experiment B is: {expB_max_tuple}')\n",
    "# print(f'the most different tuples of Combined experiments is: {combined_max_tuple}')"
   ]
  },
  {
   "cell_type": "code",
   "execution_count": 23,
   "metadata": {},
   "outputs": [
    {
     "output_type": "error",
     "ename": "NameError",
     "evalue": "name 'sorted_forcast_list1' is not defined",
     "traceback": [
      "\u001b[0;31m---------------------------------------------------------------------------\u001b[0m",
      "\u001b[0;31mNameError\u001b[0m                                 Traceback (most recent call last)",
      "\u001b[0;32m<ipython-input-23-c3f66b2c7d06>\u001b[0m in \u001b[0;36m<module>\u001b[0;34m\u001b[0m\n\u001b[1;32m      1\u001b[0m \u001b[0mplt\u001b[0m\u001b[0;34m.\u001b[0m\u001b[0mtitle\u001b[0m\u001b[0;34m(\u001b[0m\u001b[0;34m'highest and lowest prediction and target of experiment A'\u001b[0m\u001b[0;34m)\u001b[0m\u001b[0;34m\u001b[0m\u001b[0;34m\u001b[0m\u001b[0m\n\u001b[0;32m----> 2\u001b[0;31m \u001b[0msorted_forcast_list1\u001b[0m\u001b[0;34m[\u001b[0m\u001b[0;36m0\u001b[0m\u001b[0;34m]\u001b[0m\u001b[0;34m[\u001b[0m\u001b[0;34m'target'\u001b[0m\u001b[0;34m]\u001b[0m\u001b[0;34m.\u001b[0m\u001b[0mplot\u001b[0m\u001b[0;34m(\u001b[0m\u001b[0mlegend\u001b[0m\u001b[0;34m=\u001b[0m\u001b[0;32mTrue\u001b[0m\u001b[0;34m)\u001b[0m\u001b[0;34m\u001b[0m\u001b[0;34m\u001b[0m\u001b[0m\n\u001b[0m\u001b[1;32m      3\u001b[0m \u001b[0msorted_forcast_list1\u001b[0m\u001b[0;34m[\u001b[0m\u001b[0;36m40\u001b[0m\u001b[0;34m]\u001b[0m\u001b[0;34m[\u001b[0m\u001b[0;34m'mean'\u001b[0m\u001b[0;34m]\u001b[0m\u001b[0;34m.\u001b[0m\u001b[0mplot\u001b[0m\u001b[0;34m(\u001b[0m\u001b[0mlegend\u001b[0m\u001b[0;34m=\u001b[0m\u001b[0;32mTrue\u001b[0m\u001b[0;34m)\u001b[0m\u001b[0;34m\u001b[0m\u001b[0;34m\u001b[0m\u001b[0m\n\u001b[1;32m      4\u001b[0m \u001b[0msorted_forcast_list1\u001b[0m\u001b[0;34m[\u001b[0m\u001b[0;36m17\u001b[0m\u001b[0;34m]\u001b[0m\u001b[0;34m[\u001b[0m\u001b[0;34m'mean'\u001b[0m\u001b[0;34m]\u001b[0m\u001b[0;34m.\u001b[0m\u001b[0mplot\u001b[0m\u001b[0;34m(\u001b[0m\u001b[0mlegend\u001b[0m\u001b[0;34m=\u001b[0m\u001b[0;32mTrue\u001b[0m\u001b[0;34m)\u001b[0m\u001b[0;34m\u001b[0m\u001b[0;34m\u001b[0m\u001b[0m\n\u001b[1;32m      5\u001b[0m \u001b[0mplt\u001b[0m\u001b[0;34m.\u001b[0m\u001b[0mxlim\u001b[0m\u001b[0;34m(\u001b[0m\u001b[0;34m[\u001b[0m\u001b[0;36m10500\u001b[0m\u001b[0;34m,\u001b[0m\u001b[0;36m10650\u001b[0m\u001b[0;34m]\u001b[0m\u001b[0;34m)\u001b[0m\u001b[0;34m\u001b[0m\u001b[0;34m\u001b[0m\u001b[0m\n",
      "\u001b[0;31mNameError\u001b[0m: name 'sorted_forcast_list1' is not defined"
     ]
    }
   ],
   "source": [
    "plt.title('highest and lowest prediction and target of experiment A')\n",
    "sorted_forcast_list1[0]['target'].plot(legend=True)\n",
    "sorted_forcast_list1[40]['mean'].plot(legend=True)\n",
    "sorted_forcast_list1[17]['mean'].plot(legend=True)\n",
    "plt.xlim([10500,10650])\n",
    "# plt.ylim([0.04,0.24])"
   ]
  },
  {
   "cell_type": "code",
   "execution_count": 24,
   "metadata": {},
   "outputs": [
    {
     "output_type": "error",
     "ename": "NameError",
     "evalue": "name 'sorted_forcast_list1' is not defined",
     "traceback": [
      "\u001b[0;31m---------------------------------------------------------------------------\u001b[0m",
      "\u001b[0;31mNameError\u001b[0m                                 Traceback (most recent call last)",
      "\u001b[0;32m<ipython-input-24-0476aa610726>\u001b[0m in \u001b[0;36m<module>\u001b[0;34m\u001b[0m\n\u001b[1;32m      1\u001b[0m \u001b[0mplt\u001b[0m\u001b[0;34m.\u001b[0m\u001b[0mtitle\u001b[0m\u001b[0;34m(\u001b[0m\u001b[0;34m'most different prediction and target of experiment A'\u001b[0m\u001b[0;34m)\u001b[0m\u001b[0;34m\u001b[0m\u001b[0;34m\u001b[0m\u001b[0m\n\u001b[1;32m      2\u001b[0m \u001b[0;31m# sorted_forcast_list1[0]['target'].plot(legend=True)\u001b[0m\u001b[0;34m\u001b[0m\u001b[0;34m\u001b[0m\u001b[0;34m\u001b[0m\u001b[0m\n\u001b[0;32m----> 3\u001b[0;31m \u001b[0msorted_forcast_list1\u001b[0m\u001b[0;34m[\u001b[0m\u001b[0;36m95\u001b[0m\u001b[0;34m]\u001b[0m\u001b[0;34m[\u001b[0m\u001b[0;34m'mean'\u001b[0m\u001b[0;34m]\u001b[0m\u001b[0;34m.\u001b[0m\u001b[0mplot\u001b[0m\u001b[0;34m(\u001b[0m\u001b[0mlegend\u001b[0m\u001b[0;34m=\u001b[0m\u001b[0;32mTrue\u001b[0m\u001b[0;34m)\u001b[0m\u001b[0;34m\u001b[0m\u001b[0;34m\u001b[0m\u001b[0m\n\u001b[0m\u001b[1;32m      4\u001b[0m \u001b[0msorted_forcast_list1\u001b[0m\u001b[0;34m[\u001b[0m\u001b[0;36m67\u001b[0m\u001b[0;34m]\u001b[0m\u001b[0;34m[\u001b[0m\u001b[0;34m'mean'\u001b[0m\u001b[0;34m]\u001b[0m\u001b[0;34m.\u001b[0m\u001b[0mplot\u001b[0m\u001b[0;34m(\u001b[0m\u001b[0mlegend\u001b[0m\u001b[0;34m=\u001b[0m\u001b[0;32mTrue\u001b[0m\u001b[0;34m)\u001b[0m\u001b[0;34m\u001b[0m\u001b[0;34m\u001b[0m\u001b[0m\n\u001b[1;32m      5\u001b[0m \u001b[0;31m# plt.xlim([10500,10650])\u001b[0m\u001b[0;34m\u001b[0m\u001b[0;34m\u001b[0m\u001b[0;34m\u001b[0m\u001b[0m\n",
      "\u001b[0;31mNameError\u001b[0m: name 'sorted_forcast_list1' is not defined"
     ]
    }
   ],
   "source": [
    "plt.title('most different prediction and target of experiment A')\n",
    "# sorted_forcast_list1[0]['target'].plot(legend=True)\n",
    "sorted_forcast_list1[95]['mean'].plot(legend=True)\n",
    "sorted_forcast_list1[67]['mean'].plot(legend=True)\n",
    "# plt.xlim([10500,10650])\n",
    "# plt.ylim([0.04,0.24])"
   ]
  },
  {
   "cell_type": "markdown",
   "metadata": {},
   "source": [
    "## take the average of experiment A and B and plot them\n",
    "the reults show that after running 100 times, the average of results are converging."
   ]
  },
  {
   "cell_type": "code",
   "execution_count": 25,
   "metadata": {},
   "outputs": [
    {
     "output_type": "error",
     "ename": "NameError",
     "evalue": "name 'sorted_forcast_list1' is not defined",
     "traceback": [
      "\u001b[0;31m---------------------------------------------------------------------------\u001b[0m",
      "\u001b[0;31mNameError\u001b[0m                                 Traceback (most recent call last)",
      "\u001b[0;32m<ipython-input-25-c289521734c7>\u001b[0m in \u001b[0;36m<module>\u001b[0;34m\u001b[0m\n\u001b[1;32m      2\u001b[0m \u001b[0;34m\u001b[0m\u001b[0m\n\u001b[1;32m      3\u001b[0m \u001b[0;31m# calculate the mean of all means for computer A\u001b[0m\u001b[0;34m\u001b[0m\u001b[0;34m\u001b[0m\u001b[0;34m\u001b[0m\u001b[0m\n\u001b[0;32m----> 4\u001b[0;31m \u001b[0mts_list1\u001b[0m \u001b[0;34m=\u001b[0m \u001b[0mget_ts_list\u001b[0m\u001b[0;34m(\u001b[0m\u001b[0msorted_forcast_list1\u001b[0m\u001b[0;34m,\u001b[0m \u001b[0mts_no\u001b[0m\u001b[0;34m)\u001b[0m\u001b[0;34m\u001b[0m\u001b[0;34m\u001b[0m\u001b[0m\n\u001b[0m\u001b[1;32m      5\u001b[0m \u001b[0;31m# ts_list2 = get_ts_list(sorted_forcast_list2, ts_no)\u001b[0m\u001b[0;34m\u001b[0m\u001b[0;34m\u001b[0m\u001b[0;34m\u001b[0m\u001b[0m\n\u001b[1;32m      6\u001b[0m \u001b[0;34m\u001b[0m\u001b[0m\n",
      "\u001b[0;31mNameError\u001b[0m: name 'sorted_forcast_list1' is not defined"
     ]
    }
   ],
   "source": [
    "ts_no = 1\n",
    "\n",
    "# calculate the mean of all means for computer A\n",
    "ts_list1 = get_ts_list(sorted_forcast_list1, ts_no)\n",
    "# ts_list2 = get_ts_list(sorted_forcast_list2, ts_no)\n",
    "\n",
    "\n",
    "means_A = np.zeros((len(ts_list1) , ts_list1[0]['mean'].shape[0]))\n",
    "# means_B = np.zeros((len(ts_list2) , ts_list2[0]['mean'].shape[0]))\n",
    "\n",
    "\n",
    "for idx, ts_df1 in enumerate(ts_list1):\n",
    "    means_A[idx] = ts_df1['mean'].to_numpy()\n",
    "# for idx, ts_df2 in enumerate(ts_list2):\n",
    "#     means_B[idx] = ts_df2['mean'].to_numpy()\n",
    "\n",
    "mean_means_A = means_A.mean(axis=0)\n",
    "# mean_means_B = means_B.mean(axis=0)\n",
    "\n",
    "plt.title(f'mean of experiment A and B on dataset {ts_no}')\n",
    "plt.plot(mean_means_A, color='blue')\n",
    "# plt.plot(mean_means_B, color='red')\n",
    "plt.plot(ts_list1[0]['target'].to_numpy())\n",
    "# mean1 = ts_list1[0]['mean'].to_numpy()\n",
    "# mean1.shape"
   ]
  },
  {
   "cell_type": "code",
   "execution_count": 26,
   "metadata": {},
   "outputs": [
    {
     "output_type": "error",
     "ename": "NameError",
     "evalue": "name 'sorted_forcast_list1' is not defined",
     "traceback": [
      "\u001b[0;31m---------------------------------------------------------------------------\u001b[0m",
      "\u001b[0;31mNameError\u001b[0m                                 Traceback (most recent call last)",
      "\u001b[0;32m<ipython-input-26-4c9e3e492020>\u001b[0m in \u001b[0;36m<module>\u001b[0;34m\u001b[0m\n\u001b[1;32m      1\u001b[0m \u001b[0;31m# this dataframe is just one time series\u001b[0m\u001b[0;34m\u001b[0m\u001b[0;34m\u001b[0m\u001b[0;34m\u001b[0m\u001b[0m\n\u001b[1;32m      2\u001b[0m \u001b[0mts_number\u001b[0m \u001b[0;34m=\u001b[0m \u001b[0;36m313\u001b[0m\u001b[0;34m\u001b[0m\u001b[0;34m\u001b[0m\u001b[0m\n\u001b[0;32m----> 3\u001b[0;31m \u001b[0mts_list1\u001b[0m \u001b[0;34m=\u001b[0m \u001b[0mget_ts_list\u001b[0m\u001b[0;34m(\u001b[0m\u001b[0msorted_forcast_list1\u001b[0m\u001b[0;34m,\u001b[0m \u001b[0mts_number\u001b[0m\u001b[0;34m)\u001b[0m\u001b[0;34m\u001b[0m\u001b[0;34m\u001b[0m\u001b[0m\n\u001b[0m\u001b[1;32m      4\u001b[0m \u001b[0;31m# ts_list2 = get_ts_list(sorted_forcast_list2, ts_number)\u001b[0m\u001b[0;34m\u001b[0m\u001b[0;34m\u001b[0m\u001b[0;34m\u001b[0m\u001b[0m\n\u001b[1;32m      5\u001b[0m \u001b[0;34m\u001b[0m\u001b[0m\n",
      "\u001b[0;31mNameError\u001b[0m: name 'sorted_forcast_list1' is not defined"
     ]
    }
   ],
   "source": [
    "# this dataframe is just one time series\n",
    "ts_number = 313\n",
    "ts_list1 = get_ts_list(sorted_forcast_list1, ts_number)\n",
    "# ts_list2 = get_ts_list(sorted_forcast_list2, ts_number)\n",
    "\n",
    "# plot mean of only one time series\n",
    "rep_no = 0\n",
    "plt.title(f'comparing two mean of expriments with repetition #{rep_no}, time_series #{ts_number}')\n",
    "ts_list1[rep_no]['mean'].plot()\n",
    "# ts_list2[rep_no]['mean'].plot()"
   ]
  },
  {
   "cell_type": "code",
   "execution_count": null,
   "metadata": {},
   "outputs": [],
   "source": []
  }
 ],
 "metadata": {
  "kernelspec": {
   "display_name": "Python 3.7.7 64-bit ('deepts': conda)",
   "language": "python",
   "name": "python_defaultSpec_1598267389632"
  },
  "language_info": {
   "codemirror_mode": {
    "name": "ipython",
    "version": 3
   },
   "file_extension": ".py",
   "mimetype": "text/x-python",
   "name": "python",
   "nbconvert_exporter": "python",
   "pygments_lexer": "ipython3",
   "version": "3.7.7-final"
  }
 },
 "nbformat": 4,
 "nbformat_minor": 4
}