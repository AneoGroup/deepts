{
 "cells": [
  {
   "cell_type": "markdown",
   "source": [
    "# In this analysis we will provide the ratio of statistical tests including u-test, t-test and brunner w test\n",
    "\n",
    "# In the end of notebook we add heatmap and line plots of the results"
   ],
   "metadata": {}
  },
  {
   "cell_type": "markdown",
   "source": [
    "## imports"
   ],
   "metadata": {}
  },
  {
   "cell_type": "code",
   "execution_count": 1,
   "source": [
    "conf_int = 0.999\n",
    "seed_lim = 5\n",
    "\"test type can be utest, brunner, t_test\"\n",
    "test_type = 't_test'\n",
    "estimated_max_val = 120\n",
    "sample_size = 10000\n",
    "seed_of_seed = 31"
   ],
   "outputs": [],
   "metadata": {}
  },
  {
   "cell_type": "code",
   "execution_count": 2,
   "source": [
    "# Third-party imports\n",
    "%matplotlib inline\n",
    "import json\n",
    "import matplotlib.pyplot as plt\n",
    "import yaml\n",
    "from IPython.display import display\n",
    "     "
   ],
   "outputs": [],
   "metadata": {}
  },
  {
   "cell_type": "code",
   "execution_count": 3,
   "source": [
    "from src.RQ1_forecast import *"
   ],
   "outputs": [],
   "metadata": {}
  },
  {
   "cell_type": "code",
   "execution_count": 4,
   "source": [
    "from numpy import random\n",
    "\n",
    "def sampling_group(all_mapes, seed_lim):\n",
    "    # assert (2 * seed_lim) < 100\n",
    "    # total_sample = random.choice(all_mapes, (2*seed_lim), replace=False)\n",
    "    func_sample_0 = random.choice(all_mapes, seed_lim, replace=False)\n",
    "    func_sample_1 = random.choice(all_mapes, seed_lim, replace=False)\n",
    "    # func_sample_0 = total_sample[0:seed_lim]\n",
    "    # func_sample_1 = total_sample[seed_lim:(2*seed_lim)]\n",
    "\n",
    "    return func_sample_0, func_sample_1\n",
    "\n",
    "\n",
    "def utest(sample_0, sample_1, confidence_interval, test_type):\n",
    "    # calculating the u test\n",
    "    from scipy.stats import mannwhitneyu, ttest_ind, brunnermunzel, ks_2samp, ttest_rel\n",
    "\n",
    "    # we use the alternative less whcih means. the distribution underlying x is stochastically less than the distribution underlying y\n",
    "    U1, p_utest = mannwhitneyu(sample_0, sample_1)\n",
    "    w, p_brunner = brunnermunzel(sample_0, sample_1, alternative='two-sided')\n",
    "    ks_prob, p_ks = ks_2samp(sample_0, sample_1)\n",
    "    stat_t, p_t = ttest_ind(sample_0, sample_1, alternative='two-sided')\n",
    "    # stat_t, p_t = ttest_rel(sample_0, sample_1)\n",
    "    # print(f'brunner is:{p_brunner} ttest is:{p_t}')\n",
    "    p_val_dict = {\n",
    "        'utest': p_utest,\n",
    "        'brunner': p_brunner,\n",
    "        't_test': p_t,\n",
    "        'ks': p_ks,\n",
    "    }\n",
    "\n",
    "    p = p_val_dict[test_type]\n",
    "    p_lim = 1.0 - confidence_interval\n",
    "    # print(f'pvalue{p}\\t plim{p_lim}')\n",
    "    # sample_0 is not lower than sample_1\n",
    "    if p > p_lim:\n",
    "        return 0\n",
    "    # sample_0 is lower than sample_1\n",
    "    else:\n",
    "        return 1\n",
    "        \n",
    "def ratio_exp(mape_arr, seed_lim, sampling_lim, confidence_interval, test_type):\n",
    "    \"gets an array of mape scores, then sample 2 sample of seed_lim size, afterwards perform the utest\"\n",
    "    ratio = np.zeros(sampling_lim)\n",
    "    for i in range(sampling_lim):\n",
    "        sample_0, sample_1 = sampling_group(mape_arr, seed_lim=seed_lim)\n",
    "        # sample_1 = sample_1*100\n",
    "        # sample_0 = sample_0*100\n",
    "        ratio[i] = utest(sample_0, sample_1, confidence_interval=confidence_interval, test_type=test_type)\n",
    "    return(ratio[ratio==1].shape[0])"
   ],
   "outputs": [],
   "metadata": {}
  },
  {
   "cell_type": "code",
   "execution_count": 5,
   "source": [
    "pd.options.display.max_columns = None"
   ],
   "outputs": [],
   "metadata": {}
  },
  {
   "cell_type": "code",
   "execution_count": 6,
   "source": [
    "def plot_kde(arr, conf_name, dataset_name, add_title=False):\n",
    "    pd.Series(arr).plot.kde(0.5, linewidth=3)\n",
    "    \n",
    "    plt.xlabel('MAPE')\n",
    "    # plt.title(f'deep{conf_name}_{dataset_name}')\n",
    "    if(dataset_name == 'electricity_both_ep100'):\n",
    "        plt.xlim(-1,12)\n",
    "        if add_title:\n",
    "            plt.title('electricity_both_ep100', fontsize=26)\n",
    "    elif(dataset_name == 'exchange_rate_both_ep100'):\n",
    "        plt.xlim(-1,12)\n",
    "        if add_title:\n",
    "            plt.title('exchange rate_both_ep100', fontsize=26)\n",
    "    elif(dataset_name == 'solar_nips_both_ep100'):\n",
    "        plt.xlim(-1,12)\n",
    "        if add_title:\n",
    "            plt.title('solar nips_both_ep100', fontsize=26)\n",
    "    elif(dataset_name == 'traffic_nips_both_ep100'):\n",
    "        plt.xlim(-1,6)\n",
    "        if add_title:\n",
    "            plt.title('traffic nips_both_ep100', fontsize=26)\n",
    "    plt.savefig(f\"/home/dev/deepts/plots/kde_func/epoch100/kde_{conf_name}_{dataset_name}\", dpi=900)\n",
    "    plt.show()\n",
    "\n",
    "\n",
    "def mape_mean_array_dataset(conf_name, dataset_name, add_title=False):\n",
    "    with open(f'/home/dev/deepts/configs/ks_config_{conf_name}.yaml', \"r\") as f:\n",
    "            config = yaml.load(f, Loader=yaml.FullLoader)\n",
    "    data_address_val=config[dataset_name]\n",
    "\n",
    "    metrics_list1_val = read_csv_result('metrics.csv', data_address_val)\n",
    "    mape_dataset = np.zeros(len(metrics_list1_val))\n",
    "    for idx, metric_elem in enumerate(metrics_list1_val):\n",
    "        mape_dataset[idx] = metric_elem['MAPE'].mean()\n",
    "    # plot_kde(mape_dataset, conf_name=conf_name, dataset_name=dataset_name, add_title=add_title)\n",
    "    return mape_dataset"
   ],
   "outputs": [],
   "metadata": {}
  },
  {
   "cell_type": "code",
   "execution_count": 7,
   "source": [
    "# fixing the seeds here\n",
    "np.random.seed(seed_of_seed)\n",
    "import random as rnd\n",
    "rnd.seed(seed_of_seed)\n",
    "\n"
   ],
   "outputs": [],
   "metadata": {}
  },
  {
   "cell_type": "code",
   "execution_count": 8,
   "source": [
    "mape1 = [0, 0, 3, 7, 4, 0, 0, 3]\n",
    "mape2 = [120, 237, 432, 345, 567]\n",
    "\n",
    "from scipy.stats import mannwhitneyu, ttest_ind\n",
    "mannwhitneyu(mape1, mape2, alternative='two-sided'), mannwhitneyu(mape1, mape2, alternative='less'), mannwhitneyu(mape1, mape2, alternative='greater'), ttest_ind(mape1, mape2)"
   ],
   "outputs": [
    {
     "output_type": "execute_result",
     "data": {
      "text/plain": [
       "(MannwhitneyuResult(statistic=0.0, pvalue=0.0037478271960266754),\n",
       " MannwhitneyuResult(statistic=0.0, pvalue=0.0018739135980133377),\n",
       " MannwhitneyuResult(statistic=0.0, pvalue=0.9988454265660994),\n",
       " Ttest_indResult(statistic=-5.699802926825022, pvalue=0.00013823142015013308))"
      ]
     },
     "metadata": {},
     "execution_count": 8
    }
   ],
   "metadata": {}
  },
  {
   "cell_type": "code",
   "execution_count": 9,
   "source": [
    "mape1 = [0, 0, 3, 7, 4, 0, 0, 3, 0, 0, 3, 7, 4, 0, 0, 3, 0, 0, 3, 7, 4, 0, 0, 3, 0, 0, 3, 7, 4, 0, 0, 3]\n",
    "mape2 = [120, 237, 432, 345, 567, 120, 237, 432, 345, 567, 120, 237, 432, 345, 567, 120, 237, 432, 345, 567]\n",
    "\n",
    "from scipy.stats import mannwhitneyu, ttest_ind\n",
    "mannwhitneyu(mape1, mape2, alternative='two-sided'), mannwhitneyu(mape1, mape2, alternative='less'), mannwhitneyu(mape1, mape2, alternative='greater'), ttest_ind(mape1, mape2)"
   ],
   "outputs": [
    {
     "output_type": "execute_result",
     "data": {
      "text/plain": [
       "(MannwhitneyuResult(statistic=0.0, pvalue=9.39578290184341e-10),\n",
       " MannwhitneyuResult(statistic=0.0, pvalue=4.697891450921705e-10),\n",
       " MannwhitneyuResult(statistic=0.0, pvalue=0.9999999995834861),\n",
       " Ttest_indResult(statistic=-12.152020670848998, pvalue=1.5362613279816154e-16))"
      ]
     },
     "metadata": {},
     "execution_count": 9
    }
   ],
   "metadata": {}
  },
  {
   "cell_type": "code",
   "execution_count": 10,
   "source": [
    "# sampele_0, sample_1 = sampling_group(deepstate_mape_traf_arr, seed_lim=20)"
   ],
   "outputs": [],
   "metadata": {}
  },
  {
   "cell_type": "code",
   "execution_count": 11,
   "source": [
    "# pd.Series(sample_1).plot.kde(0.5, linewidth=3)"
   ],
   "outputs": [],
   "metadata": {}
  },
  {
   "cell_type": "code",
   "execution_count": 12,
   "source": [
    "# pd.Series(sampele_0).plot.kde(0.5, linewidth=3)"
   ],
   "outputs": [],
   "metadata": {}
  },
  {
   "cell_type": "markdown",
   "source": [
    "## Get all the mapes"
   ],
   "metadata": {}
  },
  {
   "cell_type": "code",
   "execution_count": 13,
   "source": [
    "# deepstate_mape_elec_arr = mape_mean_array_dataset(conf_name = 'state', dataset_name = \"electricity\")\n",
    "# deepstate_mape_exch_arr = mape_mean_array_dataset(conf_name = 'state', dataset_name = \"exchange_rate\")\n",
    "# deepstate_mape_traf_arr = mape_mean_array_dataset(conf_name = 'state', dataset_name = \"traffic_nips\")\n",
    "# deepstate_mape_sola_arr = mape_mean_array_dataset(conf_name = 'state', dataset_name = \"solar_nips\")\n"
   ],
   "outputs": [],
   "metadata": {
    "tags": []
   }
  },
  {
   "cell_type": "code",
   "execution_count": 14,
   "source": [
    "# deepar_mape_elec_arr = mape_mean_array_dataset(conf_name = 'ar', dataset_name = \"electricity\", add_title=True)\n",
    "# deepar_mape_exch_arr = mape_mean_array_dataset(conf_name = 'ar', dataset_name = \"exchange_rate\", add_title=True)\n",
    "# deepar_mape_traf_arr = mape_mean_array_dataset(conf_name = 'ar', dataset_name = \"traffic_nips\", add_title=True)\n",
    "# deepar_mape_sola_arr = mape_mean_array_dataset(conf_name = 'ar', dataset_name = \"solar_nips\", add_title=True)"
   ],
   "outputs": [],
   "metadata": {
    "tags": []
   }
  },
  {
   "cell_type": "code",
   "execution_count": 15,
   "source": [
    "# deepfactor_mape_elec_arr = mape_mean_array_dataset(conf_name = 'factor', dataset_name = \"electricity\")\n",
    "# deepfactor_mape_exch_arr = mape_mean_array_dataset(conf_name = 'factor', dataset_name = \"exchange_rate\")\n",
    "# deepfactor_mape_traf_arr = mape_mean_array_dataset(conf_name = 'factor', dataset_name = \"traffic_nips\")\n",
    "# deepfactor_mape_sola_arr = mape_mean_array_dataset(conf_name = 'factor', dataset_name = \"solar_nips\")"
   ],
   "outputs": [],
   "metadata": {
    "tags": []
   }
  },
  {
   "cell_type": "code",
   "execution_count": 16,
   "source": [
    "# nbeats_mape_elec_arr = mape_mean_array_dataset(conf_name = 'nbeats', dataset_name = \"electricity\")\n",
    "# nbeats_mape_exch_arr = mape_mean_array_dataset(conf_name = 'nbeats', dataset_name = \"exchange_rate\")\n",
    "# nbeats_mape_traf_arr = mape_mean_array_dataset(conf_name = 'nbeats', dataset_name = \"traffic_nips\")\n",
    "# nbeats_mape_sola_arr = mape_mean_array_dataset(conf_name = 'nbeats', dataset_name = \"solar_nips\")"
   ],
   "outputs": [],
   "metadata": {
    "tags": []
   }
  },
  {
   "cell_type": "code",
   "execution_count": 17,
   "source": [
    "# lstm_mape_elec_arr = mape_mean_array_dataset(conf_name = 'lstm', dataset_name = \"electricity\")\n",
    "# lstm_mape_exch_arr = mape_mean_array_dataset(conf_name = 'lstm', dataset_name = \"exchange_rate\")\n",
    "# lstm_mape_traf_arr = mape_mean_array_dataset(conf_name = 'lstm', dataset_name = \"traffic_nips\")\n",
    "# lstm_mape_sola_arr = mape_mean_array_dataset(conf_name = 'lstm', dataset_name = \"solar_nips\")"
   ],
   "outputs": [],
   "metadata": {}
  },
  {
   "cell_type": "markdown",
   "source": [
    "## Sample mape values, then perform the utest"
   ],
   "metadata": {}
  },
  {
   "cell_type": "code",
   "execution_count": 18,
   "source": [
    "# fix the seed for 20 epochs to 0\n",
    "# fixing the seeds here\n",
    "np.random.seed(seed_of_seed)\n",
    "import random as rnd\n",
    "rnd.seed(seed_of_seed)"
   ],
   "outputs": [],
   "metadata": {}
  },
  {
   "cell_type": "code",
   "execution_count": 19,
   "source": [
    "# deepar_elec_ratio = ratio_exp(deepar_mape_elec_arr, seed_lim=seed_lim, sampling_lim=sample_size, confidence_interval=conf_int, test_type=test_type)\n",
    "# deepar_exch_ratio = ratio_exp(deepar_mape_exch_arr, seed_lim=seed_lim, sampling_lim=sample_size, confidence_interval=conf_int, test_type=test_type)\n",
    "# deepar_traf_ratio = ratio_exp(deepar_mape_traf_arr, seed_lim=seed_lim, sampling_lim=sample_size, confidence_interval=conf_int, test_type=test_type)\n",
    "# deepar_sola_ratio = ratio_exp(deepar_mape_sola_arr, seed_lim=seed_lim, sampling_lim=sample_size, confidence_interval=conf_int, test_type=test_type)\n",
    "\n",
    "# deepstate_elec_ratio = ratio_exp(deepstate_mape_elec_arr, seed_lim=seed_lim, sampling_lim=sample_size, confidence_interval=conf_int, test_type=test_type)\n",
    "# deepstate_exch_ratio = ratio_exp(deepstate_mape_exch_arr, seed_lim=seed_lim, sampling_lim=sample_size, confidence_interval=conf_int, test_type=test_type)\n",
    "# deepstate_traf_ratio = ratio_exp(deepstate_mape_traf_arr, seed_lim=seed_lim, sampling_lim=sample_size, confidence_interval=conf_int, test_type=test_type)\n",
    "# deepstate_sola_ratio = ratio_exp(deepstate_mape_sola_arr, seed_lim=seed_lim, sampling_lim=sample_size, confidence_interval=conf_int, test_type=test_type)\n",
    "\n",
    "# deepfactor_elec_ratio = ratio_exp(deepfactor_mape_elec_arr, seed_lim=seed_lim, sampling_lim=sample_size, confidence_interval=conf_int, test_type=test_type)\n",
    "# deepfactor_exch_ratio = ratio_exp(deepfactor_mape_exch_arr, seed_lim=seed_lim, sampling_lim=sample_size, confidence_interval=conf_int, test_type=test_type)\n",
    "# deepfactor_traf_ratio = ratio_exp(deepfactor_mape_traf_arr, seed_lim=seed_lim, sampling_lim=sample_size, confidence_interval=conf_int, test_type=test_type)\n",
    "# deepfactor_sola_ratio = ratio_exp(deepfactor_mape_sola_arr, seed_lim=seed_lim, sampling_lim=sample_size, confidence_interval=conf_int, test_type=test_type)\n",
    "\n",
    "# nbeats_elec_ratio = ratio_exp(nbeats_mape_elec_arr, seed_lim=seed_lim, sampling_lim=sample_size, confidence_interval=conf_int, test_type=test_type)\n",
    "# nbeats_exch_ratio = ratio_exp(nbeats_mape_exch_arr, seed_lim=seed_lim, sampling_lim=sample_size, confidence_interval=conf_int, test_type=test_type)\n",
    "# nbeats_traf_ratio = ratio_exp(nbeats_mape_traf_arr, seed_lim=seed_lim, sampling_lim=sample_size, confidence_interval=conf_int, test_type=test_type)\n",
    "# nbeats_sola_ratio = ratio_exp(nbeats_mape_sola_arr, seed_lim=seed_lim, sampling_lim=sample_size, confidence_interval=conf_int, test_type=test_type)\n",
    "\n",
    "# lstm_elec_ratio = ratio_exp(lstm_mape_elec_arr, seed_lim=seed_lim, sampling_lim=sample_size, confidence_interval=conf_int, test_type=test_type)\n",
    "# lstm_exch_ratio = ratio_exp(lstm_mape_exch_arr, seed_lim=seed_lim, sampling_lim=sample_size, confidence_interval=conf_int, test_type=test_type)\n",
    "# lstm_traf_ratio = ratio_exp(lstm_mape_traf_arr, seed_lim=seed_lim, sampling_lim=sample_size, confidence_interval=conf_int, test_type=test_type)\n",
    "# lstm_sola_ratio = ratio_exp(lstm_mape_sola_arr, seed_lim=seed_lim, sampling_lim=sample_size, confidence_interval=conf_int, test_type=test_type)\n",
    "\n",
    "# [deepstate_elec_ratio, deepstate_exch_ratio, deepstate_traf_ratio, deepstate_sola_ratio]"
   ],
   "outputs": [],
   "metadata": {}
  },
  {
   "cell_type": "code",
   "execution_count": 20,
   "source": [
    "# experiments_array_ep20 = np.array([     [deepar_elec_ratio, deepar_exch_ratio, deepar_traf_ratio, deepar_sola_ratio],\n",
    "#                                         [deepstate_elec_ratio, deepstate_exch_ratio, deepstate_traf_ratio, deepstate_sola_ratio],\n",
    "#                                         [deepfactor_elec_ratio, deepfactor_exch_ratio, deepfactor_traf_ratio, deepfactor_sola_ratio],\n",
    "#                                         [nbeats_elec_ratio, nbeats_exch_ratio, nbeats_traf_ratio, nbeats_sola_ratio],\n",
    "#                                         [lstm_elec_ratio, lstm_exch_ratio, lstm_traf_ratio, lstm_sola_ratio],\n",
    "#                              ]\n",
    "#                      )"
   ],
   "outputs": [],
   "metadata": {}
  },
  {
   "cell_type": "code",
   "execution_count": 21,
   "source": [
    "# experiments_df_ep20 = pd.DataFrame(data=experiments_array_ep20, \n",
    "#                               index=['deepar', 'deepstate', 'deepfactor', 'nbeats', 'lstm'], \n",
    "#                               columns=['electricity', 'exchange_rate', 'trafics', 'solar'])\n",
    "# experiments_df_ep20"
   ],
   "outputs": [],
   "metadata": {}
  },
  {
   "cell_type": "code",
   "execution_count": 22,
   "source": [
    "# import seaborn as sb\n",
    "# fig, ax = plt.subplots(figsize=(20, 10))\n",
    "# sb.heatmap(experiments_df_ep20, cmap=\"Blues\")\n",
    "# # plt.savefig(f\"/home/dev/deepts/plots/heatmap_epoch20_seeds{seed_lim}_{test_type}_size{sample_size}_conf{conf_int}.png\", dpi=1000)\n",
    "# plt.show()"
   ],
   "outputs": [],
   "metadata": {}
  },
  {
   "cell_type": "markdown",
   "source": [
    "# 100 epochs"
   ],
   "metadata": {}
  },
  {
   "cell_type": "code",
   "execution_count": 23,
   "source": [
    "# fix the seed for 100 epochs to 0\n",
    "# fixing the seeds here\n",
    "np.random.seed(seed_of_seed)\n",
    "import random as rnd\n",
    "rnd.seed(seed_of_seed)"
   ],
   "outputs": [],
   "metadata": {}
  },
  {
   "cell_type": "code",
   "execution_count": 24,
   "source": [
    "deepstate_mape_elec_arr = mape_mean_array_dataset(conf_name = 'state', dataset_name = \"electricity_both_ep100\")\n",
    "deepstate_mape_exch_arr = mape_mean_array_dataset(conf_name = 'state', dataset_name = \"exchange_rate_both_ep100\")\n",
    "deepstate_mape_traf_arr = mape_mean_array_dataset(conf_name = 'state', dataset_name = \"traffic_nips_both_ep100\")\n",
    "deepstate_mape_sola_arr = mape_mean_array_dataset(conf_name = 'state', dataset_name = \"solar_nips_both_ep100\")\n",
    "\n",
    "deepar_mape_elec_arr = mape_mean_array_dataset(conf_name = 'ar', dataset_name = \"electricity_both_ep100\")\n",
    "deepar_mape_exch_arr = mape_mean_array_dataset(conf_name = 'ar', dataset_name = \"exchange_rate_both_ep100\")\n",
    "deepar_mape_traf_arr = mape_mean_array_dataset(conf_name = 'ar', dataset_name = \"traffic_nips_both_ep100\")\n",
    "deepar_mape_sola_arr = mape_mean_array_dataset(conf_name = 'ar', dataset_name = \"solar_nips_both_ep100\")\n",
    "\n",
    "deepfactor_mape_elec_arr = mape_mean_array_dataset(conf_name = 'factor', dataset_name = \"electricity_both_ep100\")\n",
    "deepfactor_mape_exch_arr = mape_mean_array_dataset(conf_name = 'factor', dataset_name = \"exchange_rate_both_ep100\")\n",
    "deepfactor_mape_traf_arr = mape_mean_array_dataset(conf_name = 'factor', dataset_name = \"traffic_nips_both_ep100\")\n",
    "deepfactor_mape_sola_arr = mape_mean_array_dataset(conf_name = 'factor', dataset_name = \"solar_nips_both_ep100\")\n",
    "\n",
    "nbeats_mape_elec_arr = mape_mean_array_dataset(conf_name = 'nbeats', dataset_name = \"electricity_both_ep100\")\n",
    "nbeats_mape_exch_arr = mape_mean_array_dataset(conf_name = 'nbeats', dataset_name = \"exchange_rate_both_ep100\")\n",
    "nbeats_mape_traf_arr = mape_mean_array_dataset(conf_name = 'nbeats', dataset_name = \"traffic_nips_both_ep100\")\n",
    "nbeats_mape_sola_arr = mape_mean_array_dataset(conf_name = 'nbeats', dataset_name = \"solar_nips_both_ep100\")\n",
    "\n",
    "lstm_mape_elec_arr = mape_mean_array_dataset(conf_name = 'lstm', dataset_name = \"electricity_both_ep100\")\n",
    "lstm_mape_exch_arr = mape_mean_array_dataset(conf_name = 'lstm', dataset_name = \"exchange_rate_both_ep100\")\n",
    "lstm_mape_traf_arr = mape_mean_array_dataset(conf_name = 'lstm', dataset_name = \"traffic_nips_both_ep100\")\n",
    "lstm_mape_sola_arr = mape_mean_array_dataset(conf_name = 'lstm', dataset_name = \"solar_nips_both_ep100\")"
   ],
   "outputs": [
    {
     "output_type": "stream",
     "name": "stderr",
     "text": [
      "101it [00:00, 31444.83it/s]\n",
      "100%|##########| 100/100 [00:00<00:00, 130.61it/s]\n",
      "101it [00:00, 29757.28it/s]\n",
      "100%|##########| 100/100 [00:00<00:00, 407.42it/s]\n",
      "101it [00:00, 35586.75it/s]\n",
      "100%|###########| 100/100 [00:01<00:00, 59.09it/s]\n",
      "101it [00:00, 37271.22it/s]\n",
      "100%|##########| 100/100 [00:00<00:00, 230.61it/s]\n",
      "101it [00:00, 34045.22it/s]\n",
      "100%|##########| 100/100 [00:00<00:00, 134.94it/s]\n",
      "105it [00:00, 34446.77it/s]\n",
      "100%|##########| 104/104 [00:00<00:00, 409.29it/s]\n",
      "101it [00:00, 31675.24it/s]\n",
      "100%|###########| 100/100 [00:01<00:00, 57.82it/s]\n",
      "101it [00:00, 40002.33it/s]\n",
      "100%|##########| 100/100 [00:00<00:00, 215.37it/s]\n",
      "101it [00:00, 34737.57it/s]\n",
      "100%|##########| 100/100 [00:00<00:00, 138.84it/s]\n",
      "101it [00:00, 28843.51it/s]\n",
      "100%|##########| 100/100 [00:00<00:00, 411.52it/s]\n",
      "101it [00:00, 30553.53it/s]\n",
      "100%|###########| 100/100 [00:01<00:00, 57.25it/s]\n",
      "101it [00:00, 35464.60it/s]\n",
      "100%|##########| 100/100 [00:00<00:00, 217.55it/s]\n",
      "101it [00:00, 36216.53it/s]\n",
      "100%|##########| 100/100 [00:00<00:00, 136.67it/s]\n",
      "104it [00:00, 35943.28it/s]\n",
      "100%|##########| 103/103 [00:00<00:00, 413.14it/s]\n",
      "101it [00:00, 34946.77it/s]\n",
      "100%|###########| 100/100 [00:01<00:00, 58.86it/s]\n",
      "101it [00:00, 32984.87it/s]\n",
      "100%|##########| 100/100 [00:00<00:00, 204.52it/s]\n",
      "101it [00:00, 29948.72it/s]\n",
      "100%|##########| 100/100 [00:00<00:00, 131.19it/s]\n",
      "105it [00:00, 33262.98it/s]\n",
      "100%|##########| 104/104 [00:00<00:00, 378.52it/s]\n",
      "101it [00:00, 33113.79it/s]\n",
      "100%|###########| 100/100 [00:01<00:00, 58.42it/s]\n",
      "101it [00:00, 34592.90it/s]\n",
      "100%|##########| 100/100 [00:00<00:00, 218.17it/s]\n"
     ]
    }
   ],
   "metadata": {}
  },
  {
   "cell_type": "code",
   "execution_count": 25,
   "source": [
    "deepar_elec_ratio = ratio_exp(deepar_mape_elec_arr, seed_lim=seed_lim, sampling_lim=sample_size, confidence_interval=conf_int, test_type=test_type)\n",
    "deepar_exch_ratio = ratio_exp(deepar_mape_exch_arr, seed_lim=seed_lim, sampling_lim=sample_size, confidence_interval=conf_int, test_type=test_type)\n",
    "deepar_traf_ratio = ratio_exp(deepar_mape_traf_arr, seed_lim=seed_lim, sampling_lim=sample_size, confidence_interval=conf_int, test_type=test_type)\n",
    "deepar_sola_ratio = ratio_exp(deepar_mape_sola_arr, seed_lim=seed_lim, sampling_lim=sample_size, confidence_interval=conf_int, test_type=test_type)\n",
    "\n",
    "deepstate_elec_ratio = ratio_exp(deepstate_mape_elec_arr, seed_lim=seed_lim, sampling_lim=sample_size, confidence_interval=conf_int, test_type=test_type)\n",
    "deepstate_exch_ratio = ratio_exp(deepstate_mape_exch_arr, seed_lim=seed_lim, sampling_lim=sample_size, confidence_interval=conf_int, test_type=test_type)\n",
    "deepstate_traf_ratio = ratio_exp(deepstate_mape_traf_arr, seed_lim=seed_lim, sampling_lim=sample_size, confidence_interval=conf_int, test_type=test_type)\n",
    "deepstate_sola_ratio = ratio_exp(deepstate_mape_sola_arr, seed_lim=seed_lim, sampling_lim=sample_size, confidence_interval=conf_int, test_type=test_type)\n",
    "\n",
    "deepfactor_elec_ratio = ratio_exp(deepfactor_mape_elec_arr, seed_lim=seed_lim, sampling_lim=sample_size, confidence_interval=conf_int, test_type=test_type)\n",
    "deepfactor_exch_ratio = ratio_exp(deepfactor_mape_exch_arr, seed_lim=seed_lim, sampling_lim=sample_size, confidence_interval=conf_int, test_type=test_type)\n",
    "deepfactor_traf_ratio = ratio_exp(deepfactor_mape_traf_arr, seed_lim=seed_lim, sampling_lim=sample_size, confidence_interval=conf_int, test_type=test_type)\n",
    "deepfactor_sola_ratio = ratio_exp(deepfactor_mape_sola_arr, seed_lim=seed_lim, sampling_lim=sample_size, confidence_interval=conf_int, test_type=test_type)\n",
    "\n",
    "nbeats_elec_ratio = ratio_exp(nbeats_mape_elec_arr, seed_lim=seed_lim, sampling_lim=sample_size, confidence_interval=conf_int, test_type=test_type)\n",
    "nbeats_exch_ratio = ratio_exp(nbeats_mape_exch_arr, seed_lim=seed_lim, sampling_lim=sample_size, confidence_interval=conf_int, test_type=test_type)\n",
    "nbeats_traf_ratio = ratio_exp(nbeats_mape_traf_arr, seed_lim=seed_lim, sampling_lim=sample_size, confidence_interval=conf_int, test_type=test_type)\n",
    "nbeats_sola_ratio = ratio_exp(nbeats_mape_sola_arr, seed_lim=seed_lim, sampling_lim=sample_size, confidence_interval=conf_int, test_type=test_type)\n",
    "\n",
    "lstm_elec_ratio = ratio_exp(lstm_mape_elec_arr, seed_lim=seed_lim, sampling_lim=sample_size, confidence_interval=conf_int, test_type=test_type)\n",
    "lstm_exch_ratio = ratio_exp(lstm_mape_exch_arr, seed_lim=seed_lim, sampling_lim=sample_size, confidence_interval=conf_int, test_type=test_type)\n",
    "lstm_traf_ratio = ratio_exp(lstm_mape_traf_arr, seed_lim=seed_lim, sampling_lim=sample_size, confidence_interval=conf_int, test_type=test_type)\n",
    "lstm_sola_ratio = ratio_exp(lstm_mape_sola_arr, seed_lim=seed_lim, sampling_lim=sample_size, confidence_interval=conf_int, test_type=test_type)"
   ],
   "outputs": [],
   "metadata": {}
  },
  {
   "cell_type": "code",
   "execution_count": 26,
   "source": [
    "experiments_array_ep100 = np.array([[deepar_elec_ratio, deepar_exch_ratio, deepar_traf_ratio, deepar_sola_ratio],\n",
    "                              [deepstate_elec_ratio, deepstate_exch_ratio, deepstate_traf_ratio, deepstate_sola_ratio],\n",
    "                              [deepfactor_elec_ratio, deepfactor_exch_ratio, deepfactor_traf_ratio, deepfactor_sola_ratio],\n",
    "                              [nbeats_elec_ratio, nbeats_exch_ratio, nbeats_traf_ratio, nbeats_sola_ratio],\n",
    "                              [lstm_elec_ratio, lstm_exch_ratio, lstm_traf_ratio, lstm_sola_ratio],\n",
    "                             ]\n",
    "                     )"
   ],
   "outputs": [],
   "metadata": {}
  },
  {
   "cell_type": "code",
   "execution_count": 27,
   "source": [
    "experiments_df_ep100 = pd.DataFrame(data=experiments_array_ep100, \n",
    "                              index=['deepar', 'deepstate', 'deepfactor', 'nbeats', 'lstm'], \n",
    "                              columns=['electricity', 'exchange_rate', 'trafics', 'solar'])\n",
    "experiments_df_ep100"
   ],
   "outputs": [
    {
     "output_type": "execute_result",
     "data": {
      "text/html": [
       "<div>\n",
       "<style scoped>\n",
       "    .dataframe tbody tr th:only-of-type {\n",
       "        vertical-align: middle;\n",
       "    }\n",
       "\n",
       "    .dataframe tbody tr th {\n",
       "        vertical-align: top;\n",
       "    }\n",
       "\n",
       "    .dataframe thead th {\n",
       "        text-align: right;\n",
       "    }\n",
       "</style>\n",
       "<table border=\"1\" class=\"dataframe\">\n",
       "  <thead>\n",
       "    <tr style=\"text-align: right;\">\n",
       "      <th></th>\n",
       "      <th>electricity</th>\n",
       "      <th>exchange_rate</th>\n",
       "      <th>trafics</th>\n",
       "      <th>solar</th>\n",
       "    </tr>\n",
       "  </thead>\n",
       "  <tbody>\n",
       "    <tr>\n",
       "      <th>deepar</th>\n",
       "      <td>1</td>\n",
       "      <td>0</td>\n",
       "      <td>2</td>\n",
       "      <td>0</td>\n",
       "    </tr>\n",
       "    <tr>\n",
       "      <th>deepstate</th>\n",
       "      <td>3</td>\n",
       "      <td>2</td>\n",
       "      <td>2</td>\n",
       "      <td>4</td>\n",
       "    </tr>\n",
       "    <tr>\n",
       "      <th>deepfactor</th>\n",
       "      <td>4</td>\n",
       "      <td>3</td>\n",
       "      <td>2</td>\n",
       "      <td>7</td>\n",
       "    </tr>\n",
       "    <tr>\n",
       "      <th>nbeats</th>\n",
       "      <td>2</td>\n",
       "      <td>2</td>\n",
       "      <td>2</td>\n",
       "      <td>1</td>\n",
       "    </tr>\n",
       "    <tr>\n",
       "      <th>lstm</th>\n",
       "      <td>1</td>\n",
       "      <td>0</td>\n",
       "      <td>1</td>\n",
       "      <td>1</td>\n",
       "    </tr>\n",
       "  </tbody>\n",
       "</table>\n",
       "</div>"
      ],
      "text/plain": [
       "            electricity  exchange_rate  trafics  solar\n",
       "deepar                1              0        2      0\n",
       "deepstate             3              2        2      4\n",
       "deepfactor            4              3        2      7\n",
       "nbeats                2              2        2      1\n",
       "lstm                  1              0        1      1"
      ]
     },
     "metadata": {},
     "execution_count": 27
    }
   ],
   "metadata": {}
  },
  {
   "cell_type": "code",
   "execution_count": 28,
   "source": [
    "import seaborn as sb\n",
    "fig, ax = plt.subplots(figsize=(20, 10))\n",
    "sb.heatmap(experiments_df_ep100, cmap=\"Blues\")\n",
    "# plt.savefig(f\"/home/dev/deepts/plots/heatmap_epoch100_seeds{seed_lim}_{test_type}_size{sample_size}_conf{conf_int}.png\", dpi=1000)\n",
    "plt.show()"
   ],
   "outputs": [
    {
     "output_type": "display_data",
     "data": {
      "image/png": "[encoded data removed]",
      "text/plain": [
       "<Figure size 1440x720 with 2 Axes>"
      ]
     },
     "metadata": {
      "needs_background": "light"
     }
    }
   ],
   "metadata": {}
  },
  {
   "cell_type": "code",
   "execution_count": 29,
   "source": [
    "# # plot both of them together\n",
    "# import seaborn as sb\n",
    "\n",
    "# actual_max_val = max(experiments_array_ep100.max(), experiments_array_ep20.max())\n",
    "\n",
    "\n",
    "\n",
    "# fig, axis = plt.subplots(1, 2, figsize=(20, 10)) \n",
    "# sb.heatmap(experiments_df_ep100, cmap=\"Blues\", vmin=0, vmax=estimated_max_val, ax=axis[0], cbar=False)\n",
    "# sb.heatmap(experiments_df_ep20, cmap=\"Blues\", vmin=0, vmax=estimated_max_val, ax=axis[1])\n",
    "# axis[0].set_title(\"trained for 100 epochs\")\n",
    "# axis[1].set_title(\"trained for 20 epochs\")\n",
    "# # plt.savefig(f\"/home/dev/deepts/plots/heatmap_both__seeds{seed_lim}_{test_type}_size{sample_size}_conf{conf_int}.png\", dpi=1000)\n",
    "# plt.show()"
   ],
   "outputs": [],
   "metadata": {}
  },
  {
   "cell_type": "code",
   "execution_count": 30,
   "source": [
    "# actual_max_val"
   ],
   "outputs": [],
   "metadata": {}
  },
  {
   "cell_type": "code",
   "execution_count": 31,
   "source": [
    "experiments_df_ep100.to_csv(f\"/home/dev/deepts/experiments/image_classification/heatmap/complete/heatmap_ep100_seeds{seed_lim}_{test_type}_size{sample_size}_conf{conf_int}_withlstm.csv\")\n",
    "# experiments_df_ep20.to_csv(f\"/home/dev/deepts/experiments/image_classification/heatmap/complete/heatmap_ep20_seeds{seed_lim}_{test_type}_size{sample_size}_conf{conf_int}_withlstm.csv\")"
   ],
   "outputs": [],
   "metadata": {}
  },
  {
   "cell_type": "markdown",
   "source": [
    "# Read the csv of the results"
   ],
   "metadata": {}
  },
  {
   "cell_type": "code",
   "execution_count": 8,
   "source": [
    "\"test type can be utest, brunner, t_test\"\n",
    "test_type_df = test_type\n",
    "# estimated_max_val = 120\n",
    "sample_size_df = 10000\n",
    "\n",
    "ep_seed5_ep100_df = pd.read_csv(f\"/home/dev/deepts/experiments/image_classification/heatmap/complete/heatmap_ep100_seeds5_{test_type_df}_size{sample_size_df}_conf{conf_int}_withlstm.csv\",  index_col=[0])\n",
    "ep_seed10_ep100_df = pd.read_csv(f\"/home/dev/deepts/experiments/image_classification/heatmap/complete/heatmap_ep100_seeds10_{test_type_df}_size{sample_size_df}_conf{conf_int}_withlstm.csv\",  index_col=[0])\n",
    "ep_seed15_ep100_df = pd.read_csv(f\"/home/dev/deepts/experiments/image_classification/heatmap/complete/heatmap_ep100_seeds15_{test_type_df}_size{sample_size_df}_conf{conf_int}_withlstm.csv\",  index_col=[0])\n",
    "ep_seed20_ep100_df = pd.read_csv(f\"/home/dev/deepts/experiments/image_classification/heatmap/complete/heatmap_ep100_seeds20_{test_type_df}_size{sample_size_df}_conf{conf_int}_withlstm.csv\",  index_col=[0])\n",
    "ep_seed25_ep100_df = pd.read_csv(f\"/home/dev/deepts/experiments/image_classification/heatmap/complete/heatmap_ep100_seeds25_{test_type_df}_size{sample_size_df}_conf{conf_int}_withlstm.csv\",  index_col=[0])\n",
    "ep_seed30_ep100_df = pd.read_csv(f\"/home/dev/deepts/experiments/image_classification/heatmap/complete/heatmap_ep100_seeds30_{test_type_df}_size{sample_size_df}_conf{conf_int}_withlstm.csv\",  index_col=[0])\n"
   ],
   "outputs": [],
   "metadata": {}
  },
  {
   "cell_type": "markdown",
   "source": [
    "# make the heatmap"
   ],
   "metadata": {}
  },
  {
   "cell_type": "code",
   "execution_count": 33,
   "source": [
    "# ploting all the 100 seeds in a row\n",
    "import seaborn as sb\n",
    "\n",
    "max_val = max(ep_seed5_ep100_df.max().max(), ep_seed10_ep100_df.max().max(), ep_seed15_ep100_df.max().max(), ep_seed20_ep100_df.max().max(), ep_seed30_ep100_df.max().max())\n",
    "# max_val = 400\n",
    "\n",
    "fig, axis = plt.subplots(1, 6, figsize=(15, 6)) \n",
    "sb.heatmap(ep_seed5_ep100_df, cmap=\"Blues\", vmin=0, vmax=max_val, ax=axis[0], cbar=False)\n",
    "axis[0].set_title(\"5 seeds\")\n",
    "sb.heatmap(ep_seed10_ep100_df, cmap=\"Blues\", vmin=0, vmax=max_val, ax=axis[1], cbar=False)\n",
    "axis[1].set_title(\"10 seeds\")\n",
    "axis[1].set_yticks([])\n",
    "\n",
    "sb.heatmap(ep_seed15_ep100_df, cmap=\"Blues\", vmin=0, vmax=max_val, ax=axis[2], cbar=False)\n",
    "axis[2].set_title(\"15 seeds\")\n",
    "axis[2].set_yticks([])\n",
    "\n",
    "sb.heatmap(ep_seed20_ep100_df, cmap=\"Blues\", vmin=0, vmax=max_val, ax=axis[3], cbar=False)\n",
    "axis[3].set_title(\"20 seeds\")\n",
    "axis[3].set_yticks([])\n",
    "\n",
    "sb.heatmap(ep_seed25_ep100_df, cmap=\"Blues\", vmin=0, vmax=max_val, ax=axis[4], cbar=False)\n",
    "axis[4].set_title(\"25 seeds\")\n",
    "axis[4].set_yticks([])\n",
    "\n",
    "sb.heatmap(ep_seed30_ep100_df, cmap=\"Blues\", vmin=0, vmax=max_val, ax=axis[5])\n",
    "axis[5].set_title(\"30 seeds\")\n",
    "axis[5].set_yticks([])\n",
    "\n",
    "plt.savefig(f\"/home/dev/deepts/experiments/image_classification/heatmap/complete/heatmap_all_{test_type_df}_conf{conf_int}_unmasked.png\", dpi=500)\n",
    "plt.show()"
   ],
   "outputs": [
    {
     "output_type": "display_data",
     "data": {
      "image/png": "[encoded data removed]",
      "text/plain": [
       "<Figure size 1080x432 with 7 Axes>"
      ]
     },
     "metadata": {
      "needs_background": "light"
     }
    }
   ],
   "metadata": {}
  },
  {
   "cell_type": "code",
   "execution_count": 34,
   "source": [
    "ep_seed5_ep100_df.max().max()"
   ],
   "outputs": [
    {
     "output_type": "execute_result",
     "data": {
      "text/plain": [
       "14"
      ]
     },
     "metadata": {},
     "execution_count": 34
    }
   ],
   "metadata": {}
  },
  {
   "cell_type": "code",
   "execution_count": 35,
   "source": [
    "def mask_df(my_df, threshold=5):\n",
    "    masked_df = my_df.mask(my_df < threshold, 0)\n",
    "    masked_df = masked_df.mask(masked_df >= threshold, 1)\n",
    "    return masked_df"
   ],
   "outputs": [],
   "metadata": {}
  },
  {
   "cell_type": "code",
   "execution_count": 36,
   "source": [
    "threshold = 100\n",
    "\n",
    "ep_seed5_ep100_df_masked  =   mask_df(ep_seed5_ep100_df    , threshold=threshold)  \n",
    "ep_seed10_ep100_df_masked =   mask_df(ep_seed10_ep100_df   , threshold=threshold)\n",
    "ep_seed15_ep100_df_masked =   mask_df(ep_seed15_ep100_df   , threshold=threshold)\n",
    "ep_seed20_ep100_df_masked =   mask_df(ep_seed20_ep100_df   , threshold=threshold)\n",
    "ep_seed25_ep100_df_masked =   mask_df(ep_seed25_ep100_df   , threshold=threshold)\n",
    "ep_seed30_ep100_df_masked =   mask_df(ep_seed30_ep100_df   , threshold=threshold)"
   ],
   "outputs": [],
   "metadata": {}
  },
  {
   "cell_type": "code",
   "execution_count": 37,
   "source": [
    "# ploting all the 100 seeds in a row\n",
    "import seaborn as sb\n",
    "\n",
    "# max_val = max(ep_seed5_ep100_df.max(), ep_seed10_ep100_df.max(), ep_seed15_ep100_df.max(), ep_seed20_ep100_df.max(), ep_seed30_ep100_df.max())\n",
    "max_val = 1\n",
    "\n",
    "fig, axis = plt.subplots(1, 6, figsize=(15, 6)) \n",
    "sb.heatmap(ep_seed5_ep100_df_masked, cmap=\"YlGnBu\", vmin=0, vmax=max_val, ax=axis[0], cbar=False, center=0.5)\n",
    "axis[0].set_title(\"5 seeds\")\n",
    "sb.heatmap(ep_seed10_ep100_df_masked, cmap=\"YlGnBu\", vmin=0, vmax=max_val, ax=axis[1], cbar=False, center=0.5)\n",
    "axis[1].set_title(\"10 seeds\")\n",
    "axis[1].set_yticks([])\n",
    "\n",
    "sb.heatmap(ep_seed15_ep100_df_masked, cmap=\"YlGnBu\", vmin=0, vmax=max_val, ax=axis[2], cbar=False, center=0.5)\n",
    "axis[2].set_title(\"15 seeds\")\n",
    "axis[2].set_yticks([])\n",
    "\n",
    "sb.heatmap(ep_seed20_ep100_df_masked, cmap=\"YlGnBu\", vmin=0, vmax=max_val, ax=axis[3], cbar=False, center=0.5)\n",
    "axis[3].set_title(\"20 seeds\")\n",
    "axis[3].set_yticks([])\n",
    "\n",
    "sb.heatmap(ep_seed25_ep100_df_masked, cmap=\"YlGnBu\", vmin=0, vmax=max_val, ax=axis[4], cbar=False, center=0.5)\n",
    "axis[4].set_title(\"25 seeds\")\n",
    "axis[4].set_yticks([])\n",
    "\n",
    "sb.heatmap(ep_seed30_ep100_df_masked, cmap=\"YlGnBu\", vmin=0, vmax=max_val, ax=axis[5], cbar=False, center=0.5)\n",
    "axis[5].set_title(\"30 seeds\")\n",
    "axis[5].set_yticks([])\n",
    "\n",
    "plt.savefig(f\"/home/dev/deepts/experiments/image_classification/heatmap/complete/heatmap_all_{test_type_df}_conf{conf_int}__masked{threshold}.png\", dpi=500)\n",
    "plt.show()"
   ],
   "outputs": [
    {
     "output_type": "display_data",
     "data": {
      "image/png": "[encoded data removed]",
      "text/plain": [
       "<Figure size 1080x432 with 6 Axes>"
      ]
     },
     "metadata": {
      "needs_background": "light"
     }
    }
   ],
   "metadata": {}
  },
  {
   "cell_type": "markdown",
   "source": [
    "# Make line plot"
   ],
   "metadata": {}
  },
  {
   "cell_type": "code",
   "execution_count": 9,
   "source": [
    "def change_df_format(df_func, sample_size):\n",
    "    df_func['model'] = df_func.index\n",
    "    df_func = pd.melt(df_func, id_vars=['model'], value_vars=['electricity', 'exchange_rate', 'trafics', 'solar'], var_name='dataset', value_name='ratio')\n",
    "    df_func['sample'] = sample_size\n",
    "    df_func['ratio'] = df_func['ratio'] / 10000\n",
    "    return df_func"
   ],
   "outputs": [],
   "metadata": {}
  },
  {
   "cell_type": "code",
   "execution_count": 10,
   "source": [
    "df_seed5 = change_df_format(ep_seed5_ep100_df, 5)\n",
    "df_seed10 = change_df_format(ep_seed10_ep100_df, 10)\n",
    "df_seed15 = change_df_format(ep_seed15_ep100_df, 15)\n",
    "df_seed20 = change_df_format(ep_seed20_ep100_df, 20)\n",
    "df_seed25 = change_df_format(ep_seed25_ep100_df, 25)\n",
    "df_seed30 = change_df_format(ep_seed30_ep100_df, 30)\n",
    "df_total = pd.concat([df_seed5, df_seed10, df_seed15, df_seed20, df_seed25, df_seed30])\n",
    "df_total\n"
   ],
   "outputs": [
    {
     "output_type": "execute_result",
     "data": {
      "text/html": [
       "<div>\n",
       "<style scoped>\n",
       "    .dataframe tbody tr th:only-of-type {\n",
       "        vertical-align: middle;\n",
       "    }\n",
       "\n",
       "    .dataframe tbody tr th {\n",
       "        vertical-align: top;\n",
       "    }\n",
       "\n",
       "    .dataframe thead th {\n",
       "        text-align: right;\n",
       "    }\n",
       "</style>\n",
       "<table border=\"1\" class=\"dataframe\">\n",
       "  <thead>\n",
       "    <tr style=\"text-align: right;\">\n",
       "      <th></th>\n",
       "      <th>model</th>\n",
       "      <th>dataset</th>\n",
       "      <th>ratio</th>\n",
       "      <th>sample</th>\n",
       "    </tr>\n",
       "  </thead>\n",
       "  <tbody>\n",
       "    <tr>\n",
       "      <th>0</th>\n",
       "      <td>deepar</td>\n",
       "      <td>electricity</td>\n",
       "      <td>0.0004</td>\n",
       "      <td>5</td>\n",
       "    </tr>\n",
       "    <tr>\n",
       "      <th>1</th>\n",
       "      <td>deepstate</td>\n",
       "      <td>electricity</td>\n",
       "      <td>0.0004</td>\n",
       "      <td>5</td>\n",
       "    </tr>\n",
       "    <tr>\n",
       "      <th>2</th>\n",
       "      <td>deepfactor</td>\n",
       "      <td>electricity</td>\n",
       "      <td>0.0002</td>\n",
       "      <td>5</td>\n",
       "    </tr>\n",
       "    <tr>\n",
       "      <th>3</th>\n",
       "      <td>nbeats</td>\n",
       "      <td>electricity</td>\n",
       "      <td>0.0005</td>\n",
       "      <td>5</td>\n",
       "    </tr>\n",
       "    <tr>\n",
       "      <th>4</th>\n",
       "      <td>lstm</td>\n",
       "      <td>electricity</td>\n",
       "      <td>0.0008</td>\n",
       "      <td>5</td>\n",
       "    </tr>\n",
       "    <tr>\n",
       "      <th>...</th>\n",
       "      <td>...</td>\n",
       "      <td>...</td>\n",
       "      <td>...</td>\n",
       "      <td>...</td>\n",
       "    </tr>\n",
       "    <tr>\n",
       "      <th>15</th>\n",
       "      <td>deepar</td>\n",
       "      <td>solar</td>\n",
       "      <td>0.0001</td>\n",
       "      <td>30</td>\n",
       "    </tr>\n",
       "    <tr>\n",
       "      <th>16</th>\n",
       "      <td>deepstate</td>\n",
       "      <td>solar</td>\n",
       "      <td>0.0000</td>\n",
       "      <td>30</td>\n",
       "    </tr>\n",
       "    <tr>\n",
       "      <th>17</th>\n",
       "      <td>deepfactor</td>\n",
       "      <td>solar</td>\n",
       "      <td>0.0001</td>\n",
       "      <td>30</td>\n",
       "    </tr>\n",
       "    <tr>\n",
       "      <th>18</th>\n",
       "      <td>nbeats</td>\n",
       "      <td>solar</td>\n",
       "      <td>0.0000</td>\n",
       "      <td>30</td>\n",
       "    </tr>\n",
       "    <tr>\n",
       "      <th>19</th>\n",
       "      <td>lstm</td>\n",
       "      <td>solar</td>\n",
       "      <td>0.0002</td>\n",
       "      <td>30</td>\n",
       "    </tr>\n",
       "  </tbody>\n",
       "</table>\n",
       "<p>120 rows × 4 columns</p>\n",
       "</div>"
      ],
      "text/plain": [
       "         model      dataset   ratio  sample\n",
       "0       deepar  electricity  0.0004       5\n",
       "1    deepstate  electricity  0.0004       5\n",
       "2   deepfactor  electricity  0.0002       5\n",
       "3       nbeats  electricity  0.0005       5\n",
       "4         lstm  electricity  0.0008       5\n",
       "..         ...          ...     ...     ...\n",
       "15      deepar        solar  0.0001      30\n",
       "16   deepstate        solar  0.0000      30\n",
       "17  deepfactor        solar  0.0001      30\n",
       "18      nbeats        solar  0.0000      30\n",
       "19        lstm        solar  0.0002      30\n",
       "\n",
       "[120 rows x 4 columns]"
      ]
     },
     "metadata": {},
     "execution_count": 10
    }
   ],
   "metadata": {}
  },
  {
   "cell_type": "code",
   "execution_count": 11,
   "source": [
    "import seaborn as sb\n",
    "ALPHA = 0.001\n",
    "\n",
    "fig = sb.lineplot(data=df_total, x='sample', y='ratio', hue='model', style='dataset', ci=None)\n",
    "fig.set(yscale='log')\n",
    "plt.plot([0, plt.xlim()[-1]], [ALPHA, ALPHA],\n",
    "        color='black', marker=None, linestyle='dashed', linewidth=2, )\n",
    "\n",
    "plt.ylabel(fr'fraction of rejection $\\alpha$ = {round(1 - conf_int, 3)}')\n",
    "plt.xlabel(r'Size ($n$)')\n",
    "\n",
    "plt.grid(True, which='both')\n",
    "plt.savefig(f\"/home/dev/deepts/experiments/image_classification/heatmap/complete/line_all_{test_type_df}_conf{conf_int}_log2.png\", dpi=500)\n",
    "plt.show()"
   ],
   "outputs": [
    {
     "output_type": "display_data",
     "data": {
      "image/png": "[encoded data removed]",
      "text/plain": [
       "<Figure size 432x288 with 1 Axes>"
      ]
     },
     "metadata": {
      "needs_background": "light"
     }
    }
   ],
   "metadata": {}
  },
  {
   "cell_type": "code",
   "execution_count": null,
   "source": [],
   "outputs": [],
   "metadata": {}
  }
 ],
 "metadata": {
  "interpreter": {
   "hash": "738ff3c92fc808ea13297e45eb88efc4bddcd3c575f99aa91d6d1058f7d74d3e"
  },
  "kernelspec": {
   "name": "python3",
   "display_name": "Python 3.7.7 64-bit ('deepts': conda)"
  },
  "language_info": {
   "codemirror_mode": {
    "name": "ipython",
    "version": 3
   },
   "file_extension": ".py",
   "mimetype": "text/x-python",
   "name": "python",
   "nbconvert_exporter": "python",
   "pygments_lexer": "ipython3",
   "version": "3.7.7"
  }
 },
 "nbformat": 4,
 "nbformat_minor": 4
}