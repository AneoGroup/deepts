{
 "metadata": {
  "language_info": {
   "codemirror_mode": {
    "name": "ipython",
    "version": 3
   },
   "file_extension": ".py",
   "mimetype": "text/x-python",
   "name": "python",
   "nbconvert_exporter": "python",
   "pygments_lexer": "ipython3",
   "version": "3.7.7-final"
  },
  "orig_nbformat": 2,
  "kernelspec": {
   "name": "python_defaultSpec_1599637729140",
   "display_name": "Python 3.7.7 64-bit ('deepts': conda)"
  }
 },
 "nbformat": 4,
 "nbformat_minor": 2,
 "cells": [
  {
   "source": [
    "# Sampling the mean performance when using less seeds\n",
    "\n",
    "How close do we get to the expected performance of 100 seeds when we sample 5, 10, 15, 20, ... random seeds from our experiments? How many different seeds should we run to verify our experiments?\n",
    "\n",
    "This notebook is unfinished"
   ],
   "cell_type": "markdown",
   "metadata": {}
  },
  {
   "cell_type": "code",
   "execution_count": 1,
   "metadata": {},
   "outputs": [],
   "source": [
    "import matplotlib as plt\n",
    "import numpy as np\n",
    "\n",
    "from scipy import stats\n",
    "\n",
    "from src.metrics import *"
   ]
  },
  {
   "cell_type": "code",
   "execution_count": 2,
   "metadata": {},
   "outputs": [],
   "source": [
    "datapath = \"/datadrive/experiments\"\n",
    "metrics = [\"MAPE\"]"
   ]
  },
  {
   "cell_type": "code",
   "execution_count": 3,
   "metadata": {},
   "outputs": [],
   "source": [
    "da_elec = da_elec = load_data(f\"{datapath}/deep_ar/electricity/5A\")\n",
    "da_elec_arr = calculate_timeseries_means(da_elec, metrics, 321)\n",
    "da_elec_means = da_elec_arr.mean(axis=1)"
   ]
  },
  {
   "cell_type": "code",
   "execution_count": 4,
   "metadata": {},
   "outputs": [],
   "source": [
    "def ratio_bounds(means, lower_bound, upper_bound, num_repetitions_per_sample, num_samples=100000):\n",
    "    samples = np.random.randint(0, 100, size=(num_samples, num_repetitions_per_sample))\n",
    "    trues = 0\n",
    "    for idx in samples:\n",
    "        mean = means[idx].mean()\n",
    "        if lower_bound < mean < upper_bound:\n",
    "            trues += 1\n",
    "    return trues / num_samples"
   ]
  },
  {
   "cell_type": "code",
   "execution_count": 5,
   "metadata": {},
   "outputs": [
    {
     "output_type": "execute_result",
     "data": {
      "text/plain": "(0.09182808441008568, 0.1437868060675496)"
     },
     "metadata": {},
     "execution_count": 5
    }
   ],
   "source": [
    "lower_bound = da_elec_means.mean() - da_elec_means.std()\n",
    "upper_bound = da_elec_means.mean() + da_elec_means.std()\n",
    "\n",
    "lower_bound, upper_bound"
   ]
  },
  {
   "cell_type": "code",
   "execution_count": 6,
   "metadata": {
    "tags": []
   },
   "outputs": [
    {
     "output_type": "stream",
     "name": "stdout",
     "text": "5: 0.95819\n10: 0.99162\n20: 0.99945\n40: 1.0\n60: 1.0\n80: 1.0\n100: 1.0\n"
    }
   ],
   "source": [
    "for num_reps_per_sample in [5, 10, 20, 40, 60, 80, 100]:\n",
    "    print(f\"{num_reps_per_sample}: {ratio_bounds(da_elec_means, lower_bound, upper_bound, num_reps_per_sample)}\")"
   ]
  },
  {
   "cell_type": "code",
   "execution_count": 14,
   "metadata": {},
   "outputs": [],
   "source": [
    "# Is the mean of the n samples identical to the true mean?\n",
    "def ratio_ttest_1samp(means, true_mean, num_repetitions_per_sample, num_samples=100000):\n",
    "    samples = np.random.randint(0, 100, size=(num_samples, num_repetitions_per_sample))\n",
    "    trues = 0\n",
    "    for idx in samples:\n",
    "        p_value = stats.ttest_1samp(da_elec_means[idx], true_mean)[-1][0]\n",
    "        if p_value > 0.05:\n",
    "            trues += 1\n",
    "    return trues / num_samples"
   ]
  },
  {
   "cell_type": "code",
   "execution_count": 15,
   "metadata": {},
   "outputs": [
    {
     "output_type": "execute_result",
     "data": {
      "text/plain": "Ttest_1sampResult(statistic=array([0.]), pvalue=array([1.]))"
     },
     "metadata": {},
     "execution_count": 15
    }
   ],
   "source": [
    "### Do the individual repetitions get a high p-value when comparing it to the mean for all repetitions?\n",
    "stats.ttest_1samp(da_elec_means, da_elec_means.mean())"
   ]
  },
  {
   "cell_type": "code",
   "execution_count": 16,
   "metadata": {
    "tags": []
   },
   "outputs": [
    {
     "output_type": "stream",
     "name": "stdout",
     "text": "5: 0.81305\n10: 0.84473\n20: 0.87886\n40: 0.89312\n60: 0.90753\n80: 0.91899\n100: 0.92528\n"
    }
   ],
   "source": [
    "for num_reps_per_sample in [5, 10, 20, 40, 60, 80, 100]:\n",
    "    print(f\"{num_reps_per_sample}: {ratio_ttest_1samp(da_elec_means, da_elec_means.mean(), num_reps_per_sample)}\")"
   ]
  }
 ]
}