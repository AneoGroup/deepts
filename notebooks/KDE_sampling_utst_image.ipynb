{
 "cells": [
  {
   "cell_type": "markdown",
   "source": [
    "# In this analysis we will provide the ratio of statistical tests for image calssification task"
   ],
   "metadata": {}
  },
  {
   "cell_type": "markdown",
   "source": [
    "## imports"
   ],
   "metadata": {}
  },
  {
   "cell_type": "code",
   "execution_count": 1,
   "source": [
    "conf_int = 0.95\n",
    "seed_lim = 5\n",
    "\"test type can be utest, brunner, t_test\"\n",
    "test_type = 'brunner'\n",
    "estimated_max_val = 120\n",
    "sample_size = 10000"
   ],
   "outputs": [],
   "metadata": {}
  },
  {
   "cell_type": "code",
   "execution_count": 2,
   "source": [
    "# Third-party imports\n",
    "%matplotlib inline\n",
    "import json\n",
    "import matplotlib.pyplot as plt\n",
    "import yaml\n",
    "from IPython.display import display\n",
    "     "
   ],
   "outputs": [],
   "metadata": {}
  },
  {
   "cell_type": "code",
   "execution_count": 3,
   "source": [
    "from src.RQ1_forecast import *"
   ],
   "outputs": [],
   "metadata": {}
  },
  {
   "cell_type": "code",
   "execution_count": 4,
   "source": [
    "from numpy import random\n",
    "\n",
    "def sampling_group(all_mapes, seed_lim):\n",
    "    # assert (2 * seed_lim) < 100\n",
    "    # total_sample = random.choice(all_mapes, (2*seed_lim), replace=False)\n",
    "    func_sample_0 = random.choice(all_mapes, seed_lim, replace=False)\n",
    "    func_sample_1 = random.choice(all_mapes, seed_lim, replace=False)\n",
    "    # func_sample_0 = total_sample[0:seed_lim]\n",
    "    # func_sample_1 = total_sample[seed_lim:(2*seed_lim)]\n",
    "\n",
    "    return func_sample_0, func_sample_1\n",
    "\n",
    "\n",
    "def utest(sample_0, sample_1, confidence_interval, test_type):\n",
    "    # calculating the u test\n",
    "    from scipy.stats import mannwhitneyu, ttest_ind, brunnermunzel, ks_2samp\n",
    "\n",
    "    # we use the alternative less whcih means. the distribution underlying x is stochastically less than the distribution underlying y\n",
    "    U1, p_utest = mannwhitneyu(sample_0, sample_1)\n",
    "    w, p_brunner = brunnermunzel(sample_0, sample_1, alternative='two-sided')\n",
    "    ks_prob, p_ks = ks_2samp(sample_0, sample_1)\n",
    "    stat_t, p_t = ttest_ind(sample_0, sample_1)\n",
    "\n",
    "    p_val_dict = {\n",
    "        'utest': p_utest,\n",
    "        'brunner': p_brunner,\n",
    "        't_test': p_t,\n",
    "        'ks': p_ks,\n",
    "    }\n",
    "\n",
    "    p = p_val_dict[test_type]\n",
    "    p_lim = 1.0 - confidence_interval\n",
    "    # print(f'pvalue{p}\\t plim{p_lim}')\n",
    "    # sample_0 is not lower than sample_1\n",
    "    if p > p_lim:\n",
    "        return 0\n",
    "    # sample_0 is lower than sample_1\n",
    "    else:\n",
    "        return 1\n",
    "        \n",
    "def ratio_exp(mape_arr, seed_lim, sampling_lim, confidence_interval, test_type):\n",
    "    \"gets an array of mape scores, then sample 2 sample of seed_lim size, afterwards perform the utest\"\n",
    "    ratio = np.zeros(sampling_lim)\n",
    "    for i in range(sampling_lim):\n",
    "        sample_0, sample_1 = sampling_group(mape_arr, seed_lim=seed_lim)\n",
    "        # sample_1 = sample_1*100\n",
    "        # sample_0 = sample_0*100\n",
    "        ratio[i] = utest(sample_0, sample_1, confidence_interval=confidence_interval, test_type=test_type)\n",
    "    return(ratio[ratio==1].shape[0])"
   ],
   "outputs": [],
   "metadata": {}
  },
  {
   "cell_type": "code",
   "execution_count": 5,
   "source": [
    "pd.options.display.max_columns = None"
   ],
   "outputs": [],
   "metadata": {}
  },
  {
   "cell_type": "code",
   "execution_count": 6,
   "source": [
    "def plot_kde(arr, conf_name, dataset_name, add_title=False):\n",
    "    pd.Series(arr).plot.kde(0.5, linewidth=3)\n",
    "    \n",
    "    plt.xlabel('MAPE')\n",
    "    # plt.title(f'deep{conf_name}_{dataset_name}')\n",
    "    if(dataset_name == 'electricity_both_ep100'):\n",
    "        plt.xlim(-1,12)\n",
    "        if add_title:\n",
    "            plt.title('electricity_both_ep100', fontsize=26)\n",
    "    elif(dataset_name == 'exchange_rate_both_ep100'):\n",
    "        plt.xlim(-1,12)\n",
    "        if add_title:\n",
    "            plt.title('exchange rate_both_ep100', fontsize=26)\n",
    "    elif(dataset_name == 'solar_nips_both_ep100'):\n",
    "        plt.xlim(-1,12)\n",
    "        if add_title:\n",
    "            plt.title('solar nips_both_ep100', fontsize=26)\n",
    "    elif(dataset_name == 'traffic_nips_both_ep100'):\n",
    "        plt.xlim(-1,6)\n",
    "        if add_title:\n",
    "            plt.title('traffic nips_both_ep100', fontsize=26)\n",
    "    plt.savefig(f\"/home/dev/deepts/plots/kde_func/epoch100/kde_{conf_name}_{dataset_name}\", dpi=900)\n",
    "    plt.show()\n",
    "\n",
    "\n",
    "def mape_mean_array_dataset(conf_name, dataset_name, add_title=False):\n",
    "    with open(f'/home/dev/deepts/configs/ks_config_{conf_name}.yaml', \"r\") as f:\n",
    "            config = yaml.load(f, Loader=yaml.FullLoader)\n",
    "    data_address_val=config[dataset_name]\n",
    "\n",
    "    metrics_list1_val = read_csv_result('metrics.csv', data_address_val)\n",
    "    mape_dataset = np.zeros(len(metrics_list1_val))\n",
    "    for idx, metric_elem in enumerate(metrics_list1_val):\n",
    "        mape_dataset[idx] = metric_elem['MAPE'].mean()\n",
    "    # plot_kde(mape_dataset, conf_name=conf_name, dataset_name=dataset_name, add_title=add_title)\n",
    "    return mape_dataset"
   ],
   "outputs": [],
   "metadata": {}
  },
  {
   "cell_type": "code",
   "execution_count": 7,
   "source": [
    "# fixing the seeds here\n",
    "seed_of_seed = 0\n",
    "np.random.seed(seed_of_seed)\n",
    "import random as rnd\n",
    "rnd.seed(seed_of_seed)"
   ],
   "outputs": [],
   "metadata": {}
  },
  {
   "cell_type": "code",
   "execution_count": 8,
   "source": [
    "# reading the csv files\n",
    "mobile_add = f'/datadrive2/image_classification/exp/mobilenet_cifar10_accuracy.csv'\n",
    "resnet_add = f'/datadrive2/image_classification/exp/resnet_cifar10_accuracy.csv'\n",
    "dnsnet_add = f'/datadrive2/image_classification/exp/densenet_cifar10_accuracy.csv'\n",
    "\n",
    "mobile_acc_list = list(pd.read_csv(mobile_add, index_col=[0])['accuracy'])\n",
    "resnet_acc_list = list(pd.read_csv(resnet_add, index_col=[0])['accuracy'])\n",
    "dnsnet_acc_list = list(pd.read_csv(dnsnet_add, index_col=[0])['accuracy'])"
   ],
   "outputs": [],
   "metadata": {}
  },
  {
   "cell_type": "markdown",
   "source": [
    "## Sample mape values, then perform the utest"
   ],
   "metadata": {}
  },
  {
   "cell_type": "code",
   "execution_count": 9,
   "source": [
    "mobile_ratio = ratio_exp(mobile_acc_list, seed_lim=seed_lim, sampling_lim=sample_size, confidence_interval=conf_int, test_type=test_type)\n",
    "dense_ratio = ratio_exp(dnsnet_acc_list, seed_lim=seed_lim, sampling_lim=sample_size, confidence_interval=conf_int, test_type=test_type)\n",
    "res_ratio = ratio_exp(resnet_acc_list, seed_lim=seed_lim, sampling_lim=sample_size, confidence_interval=conf_int, test_type=test_type)\n",
    "\n",
    "\n",
    "[mobile_ratio, dense_ratio, res_ratio]"
   ],
   "outputs": [
    {
     "output_type": "execute_result",
     "data": {
      "text/plain": [
       "[199, 237, 198]"
      ]
     },
     "metadata": {},
     "execution_count": 9
    }
   ],
   "metadata": {}
  },
  {
   "cell_type": "code",
   "execution_count": 10,
   "source": [
    "experiments_array_ep20 = np.array([     \n",
    "                                        [mobile_ratio],\n",
    "                                        [dense_ratio],\n",
    "                                        [res_ratio],\n",
    "                             ]\n",
    "                     )"
   ],
   "outputs": [],
   "metadata": {}
  },
  {
   "cell_type": "markdown",
   "source": [],
   "metadata": {}
  },
  {
   "cell_type": "code",
   "execution_count": 11,
   "source": [
    "experiments_df_ep20 = pd.DataFrame(data=experiments_array_ep20, \n",
    "                              index=['MobileNet', 'DenseNet', 'ResNet'], \n",
    "                              columns=['CIFAR10'])\n",
    "experiments_df_ep20"
   ],
   "outputs": [
    {
     "output_type": "execute_result",
     "data": {
      "text/html": [
       "<div>\n",
       "<style scoped>\n",
       "    .dataframe tbody tr th:only-of-type {\n",
       "        vertical-align: middle;\n",
       "    }\n",
       "\n",
       "    .dataframe tbody tr th {\n",
       "        vertical-align: top;\n",
       "    }\n",
       "\n",
       "    .dataframe thead th {\n",
       "        text-align: right;\n",
       "    }\n",
       "</style>\n",
       "<table border=\"1\" class=\"dataframe\">\n",
       "  <thead>\n",
       "    <tr style=\"text-align: right;\">\n",
       "      <th></th>\n",
       "      <th>CIFAR10</th>\n",
       "    </tr>\n",
       "  </thead>\n",
       "  <tbody>\n",
       "    <tr>\n",
       "      <th>MobileNet</th>\n",
       "      <td>199</td>\n",
       "    </tr>\n",
       "    <tr>\n",
       "      <th>DenseNet</th>\n",
       "      <td>237</td>\n",
       "    </tr>\n",
       "    <tr>\n",
       "      <th>ResNet</th>\n",
       "      <td>198</td>\n",
       "    </tr>\n",
       "  </tbody>\n",
       "</table>\n",
       "</div>"
      ],
      "text/plain": [
       "           CIFAR10\n",
       "MobileNet      199\n",
       "DenseNet       237\n",
       "ResNet         198"
      ]
     },
     "metadata": {},
     "execution_count": 11
    }
   ],
   "metadata": {}
  },
  {
   "cell_type": "code",
   "execution_count": 12,
   "source": [
    "experiments_df_ep20.to_csv(f\"/datadrive2/image_classification/exp/heatmap/heatmap_seeds{seed_lim}_{test_type}_size{sample_size}_conf{conf_int}.csv\")"
   ],
   "outputs": [],
   "metadata": {}
  },
  {
   "cell_type": "code",
   "execution_count": 13,
   "source": [
    "import seaborn as sb\n",
    "fig, ax = plt.subplots(figsize=(20, 10))\n",
    "sb.heatmap(experiments_df_ep20, cmap=\"Blues\")\n",
    "# plt.savefig(f\"/home/dev/deepts/plots/heatmap_epoch20_seeds{seed_lim}_{test_type}_size{sample_size}_conf{conf_int}.png\", dpi=1000)\n",
    "plt.show()"
   ],
   "outputs": [
    {
     "output_type": "display_data",
     "data": {
      "image/png": "[encoded data removed]",
      "text/plain": [
       "<Figure size 1440x720 with 2 Axes>"
      ]
     },
     "metadata": {
      "needs_background": "light"
     }
    }
   ],
   "metadata": {}
  },
  {
   "cell_type": "markdown",
   "source": [
    "# Read the csv and plot "
   ],
   "metadata": {}
  },
  {
   "cell_type": "code",
   "execution_count": 8,
   "source": [
    "# conf_int_df = 0.99\n",
    "\"test type can be utest, brunner, t_test\"\n",
    "# test_type = 't_test'\n",
    "# estimated_max_val = 120\n",
    "# sample_size_df = 10000\n",
    "\n",
    "ep_seed5_ep100_df  = pd.read_csv(f\"/datadrive2/image_classification/exp/heatmap/heatmap_seeds5_{test_type}_size{sample_size}_conf{conf_int}.csv\",  index_col=[0])\n",
    "ep_seed10_ep100_df = pd.read_csv(f\"/datadrive2/image_classification/exp/heatmap/heatmap_seeds10_{test_type}_size{sample_size}_conf{conf_int}.csv\",  index_col=[0])\n",
    "ep_seed15_ep100_df = pd.read_csv(f\"/datadrive2/image_classification/exp/heatmap/heatmap_seeds15_{test_type}_size{sample_size}_conf{conf_int}.csv\",  index_col=[0])\n",
    "ep_seed20_ep100_df = pd.read_csv(f\"/datadrive2/image_classification/exp/heatmap/heatmap_seeds20_{test_type}_size{sample_size}_conf{conf_int}.csv\",  index_col=[0])\n",
    "ep_seed25_ep100_df = pd.read_csv(f\"/datadrive2/image_classification/exp/heatmap/heatmap_seeds25_{test_type}_size{sample_size}_conf{conf_int}.csv\",  index_col=[0])\n",
    "ep_seed30_ep100_df = pd.read_csv(f\"/datadrive2/image_classification/exp/heatmap/heatmap_seeds30_{test_type}_size{sample_size}_conf{conf_int}.csv\",  index_col=[0])\n"
   ],
   "outputs": [],
   "metadata": {}
  },
  {
   "cell_type": "markdown",
   "source": [
    "# Make heatmap"
   ],
   "metadata": {}
  },
  {
   "cell_type": "code",
   "execution_count": 22,
   "source": [
    "# ploting all the 100 seeds in a row\n",
    "import seaborn as sb\n",
    "\n",
    "max_val = max(ep_seed5_ep100_df.max().max(), ep_seed10_ep100_df.max().max(), ep_seed15_ep100_df.max().max(), ep_seed20_ep100_df.max().max(), ep_seed30_ep100_df.max().max())\n",
    "# max_val = 400\n",
    "\n",
    "fig, axis = plt.subplots(1, 6, figsize=(30, 10)) \n",
    "sb.heatmap(ep_seed5_ep100_df, cmap=\"Blues\", vmin=0, vmax=max_val, ax=axis[0], cbar=False)\n",
    "axis[0].set_title(\"5 seeds\")\n",
    "sb.heatmap(ep_seed10_ep100_df, cmap=\"Blues\", vmin=0, vmax=max_val, ax=axis[1], cbar=False)\n",
    "axis[1].set_title(\"10 seeds\")\n",
    "sb.heatmap(ep_seed15_ep100_df, cmap=\"Blues\", vmin=0, vmax=max_val, ax=axis[2], cbar=False)\n",
    "axis[2].set_title(\"15 seeds\")\n",
    "sb.heatmap(ep_seed20_ep100_df, cmap=\"Blues\", vmin=0, vmax=max_val, ax=axis[3], cbar=False)\n",
    "axis[3].set_title(\"20 seeds\")\n",
    "sb.heatmap(ep_seed25_ep100_df, cmap=\"Blues\", vmin=0, vmax=max_val, ax=axis[4], cbar=False)\n",
    "axis[4].set_title(\"25 seeds\")\n",
    "sb.heatmap(ep_seed30_ep100_df, cmap=\"Blues\", vmin=0, vmax=max_val, ax=axis[5])\n",
    "axis[5].set_title(\"30 seeds\")\n",
    "\n",
    "# plt.savefig(f\"/datadrive2/image_classification/exp/heatmap/heatmap_all_{test_type}_{conf_int}_unmasked.png\", dpi=1000)\n",
    "plt.show()"
   ],
   "outputs": [
    {
     "output_type": "display_data",
     "data": {
      "image/png": "[encoded data removed]",
      "text/plain": [
       "<Figure size 2160x720 with 7 Axes>"
      ]
     },
     "metadata": {
      "needs_background": "light"
     }
    }
   ],
   "metadata": {}
  },
  {
   "cell_type": "code",
   "execution_count": 16,
   "source": [
    "ep_seed5_ep100_df.max().max()"
   ],
   "outputs": [
    {
     "output_type": "execute_result",
     "data": {
      "text/plain": [
       "458"
      ]
     },
     "metadata": {},
     "execution_count": 16
    }
   ],
   "metadata": {}
  },
  {
   "cell_type": "code",
   "execution_count": 17,
   "source": [
    "def mask_df(my_df, threshold=5):\n",
    "    masked_df = my_df.mask(my_df < threshold, 0)\n",
    "    masked_df = masked_df.mask(masked_df >= threshold, 1)\n",
    "    return masked_df"
   ],
   "outputs": [],
   "metadata": {}
  },
  {
   "cell_type": "code",
   "execution_count": 18,
   "source": [
    "threshold = 100\n",
    "\n",
    "ep_seed5_ep100_df_masked  =   mask_df(ep_seed5_ep100_df    , threshold=threshold)  \n",
    "ep_seed10_ep100_df_masked =   mask_df(ep_seed10_ep100_df   , threshold=threshold)\n",
    "ep_seed15_ep100_df_masked =   mask_df(ep_seed15_ep100_df   , threshold=threshold)\n",
    "ep_seed20_ep100_df_masked =   mask_df(ep_seed20_ep100_df   , threshold=threshold)\n",
    "ep_seed25_ep100_df_masked =   mask_df(ep_seed25_ep100_df   , threshold=threshold)\n",
    "ep_seed30_ep100_df_masked =   mask_df(ep_seed30_ep100_df   , threshold=threshold)"
   ],
   "outputs": [],
   "metadata": {}
  },
  {
   "cell_type": "code",
   "execution_count": 19,
   "source": [
    "# ploting all the 100 seeds in a row\n",
    "import seaborn as sb\n",
    "\n",
    "# max_val = max(ep_seed5_ep100_df.max(), ep_seed10_ep100_df.max(), ep_seed15_ep100_df.max(), ep_seed20_ep100_df.max(), ep_seed30_ep100_df.max())\n",
    "max_val = 1\n",
    "\n",
    "fig, axis = plt.subplots(1, 6, figsize=(30, 10)) \n",
    "sb.heatmap(ep_seed5_ep100_df_masked, cmap=\"YlGnBu\", vmin=0, vmax=max_val, ax=axis[0], cbar=False, center=0.5)\n",
    "axis[0].set_title(\"5 seeds\")\n",
    "sb.heatmap(ep_seed10_ep100_df_masked, cmap=\"YlGnBu\", vmin=0, vmax=max_val, ax=axis[1], cbar=False, center=0.5)\n",
    "axis[1].set_title(\"10 seeds\")\n",
    "sb.heatmap(ep_seed15_ep100_df_masked, cmap=\"YlGnBu\", vmin=0, vmax=max_val, ax=axis[2], cbar=False, center=0.5)\n",
    "axis[2].set_title(\"15 seeds\")\n",
    "sb.heatmap(ep_seed20_ep100_df_masked, cmap=\"YlGnBu\", vmin=0, vmax=max_val, ax=axis[3], cbar=False, center=0.5)\n",
    "axis[3].set_title(\"20 seeds\")\n",
    "sb.heatmap(ep_seed25_ep100_df_masked, cmap=\"YlGnBu\", vmin=0, vmax=max_val, ax=axis[4], cbar=False, center=0.5)\n",
    "axis[4].set_title(\"25 seeds\")\n",
    "sb.heatmap(ep_seed30_ep100_df_masked, cmap=\"YlGnBu\", vmin=0, vmax=max_val, ax=axis[5], cbar=False, center=0.5)\n",
    "axis[5].set_title(\"30 seeds\")\n",
    "\n",
    "# plt.savefig(f\"/datadrive2/image_classification/exp/heatmap/heatmap_all_{test_type}_masked{threshold}.png\", dpi=1000)\n",
    "plt.show()"
   ],
   "outputs": [
    {
     "output_type": "display_data",
     "data": {
      "image/png": "[encoded data removed]",
      "text/plain": [
       "<Figure size 2160x720 with 6 Axes>"
      ]
     },
     "metadata": {
      "needs_background": "light"
     }
    }
   ],
   "metadata": {}
  },
  {
   "cell_type": "code",
   "execution_count": 20,
   "source": [
    "ep_seed5_ep100_df"
   ],
   "outputs": [
    {
     "output_type": "execute_result",
     "data": {
      "text/html": [
       "<div>\n",
       "<style scoped>\n",
       "    .dataframe tbody tr th:only-of-type {\n",
       "        vertical-align: middle;\n",
       "    }\n",
       "\n",
       "    .dataframe tbody tr th {\n",
       "        vertical-align: top;\n",
       "    }\n",
       "\n",
       "    .dataframe thead th {\n",
       "        text-align: right;\n",
       "    }\n",
       "</style>\n",
       "<table border=\"1\" class=\"dataframe\">\n",
       "  <thead>\n",
       "    <tr style=\"text-align: right;\">\n",
       "      <th></th>\n",
       "      <th>CIFAR10</th>\n",
       "    </tr>\n",
       "  </thead>\n",
       "  <tbody>\n",
       "    <tr>\n",
       "      <th>MobileNet</th>\n",
       "      <td>443</td>\n",
       "    </tr>\n",
       "    <tr>\n",
       "      <th>DenseNet</th>\n",
       "      <td>293</td>\n",
       "    </tr>\n",
       "    <tr>\n",
       "      <th>ResNet</th>\n",
       "      <td>458</td>\n",
       "    </tr>\n",
       "  </tbody>\n",
       "</table>\n",
       "</div>"
      ],
      "text/plain": [
       "           CIFAR10\n",
       "MobileNet      443\n",
       "DenseNet       293\n",
       "ResNet         458"
      ]
     },
     "metadata": {},
     "execution_count": 20
    }
   ],
   "metadata": {}
  },
  {
   "cell_type": "markdown",
   "source": [
    "# Make line plot"
   ],
   "metadata": {}
  },
  {
   "cell_type": "code",
   "execution_count": 9,
   "source": [
    "def change_df_format(df_func, sample_size):\n",
    "    df_func['model'] = df_func.index\n",
    "    df_func = pd.melt(df_func, id_vars=['model'], value_vars=['CIFAR10'], var_name='dataset', value_name='ratio')\n",
    "    df_func['Size(n)'] = sample_size\n",
    "    df_func['ratio'] = df_func['ratio'] / 10000\n",
    "    return df_func"
   ],
   "outputs": [],
   "metadata": {}
  },
  {
   "cell_type": "code",
   "execution_count": 10,
   "source": [
    "df_seed5 = change_df_format(ep_seed5_ep100_df, 5)\n",
    "df_seed10 = change_df_format(ep_seed10_ep100_df, 10)\n",
    "df_seed15 = change_df_format(ep_seed15_ep100_df, 15)\n",
    "df_seed20 = change_df_format(ep_seed20_ep100_df, 20)\n",
    "df_seed25 = change_df_format(ep_seed25_ep100_df, 25)\n",
    "df_seed30 = change_df_format(ep_seed30_ep100_df, 30)\n",
    "df_total = pd.concat([df_seed5, df_seed10, df_seed15, df_seed20, df_seed25, df_seed30])\n",
    "df_total\n"
   ],
   "outputs": [
    {
     "output_type": "execute_result",
     "data": {
      "text/html": [
       "<div>\n",
       "<style scoped>\n",
       "    .dataframe tbody tr th:only-of-type {\n",
       "        vertical-align: middle;\n",
       "    }\n",
       "\n",
       "    .dataframe tbody tr th {\n",
       "        vertical-align: top;\n",
       "    }\n",
       "\n",
       "    .dataframe thead th {\n",
       "        text-align: right;\n",
       "    }\n",
       "</style>\n",
       "<table border=\"1\" class=\"dataframe\">\n",
       "  <thead>\n",
       "    <tr style=\"text-align: right;\">\n",
       "      <th></th>\n",
       "      <th>model</th>\n",
       "      <th>dataset</th>\n",
       "      <th>ratio</th>\n",
       "      <th>Size(n)</th>\n",
       "    </tr>\n",
       "  </thead>\n",
       "  <tbody>\n",
       "    <tr>\n",
       "      <th>0</th>\n",
       "      <td>MobileNet</td>\n",
       "      <td>CIFAR10</td>\n",
       "      <td>0.0669</td>\n",
       "      <td>5</td>\n",
       "    </tr>\n",
       "    <tr>\n",
       "      <th>1</th>\n",
       "      <td>DenseNet</td>\n",
       "      <td>CIFAR10</td>\n",
       "      <td>0.0708</td>\n",
       "      <td>5</td>\n",
       "    </tr>\n",
       "    <tr>\n",
       "      <th>2</th>\n",
       "      <td>ResNet</td>\n",
       "      <td>CIFAR10</td>\n",
       "      <td>0.0689</td>\n",
       "      <td>5</td>\n",
       "    </tr>\n",
       "    <tr>\n",
       "      <th>0</th>\n",
       "      <td>MobileNet</td>\n",
       "      <td>CIFAR10</td>\n",
       "      <td>0.0481</td>\n",
       "      <td>10</td>\n",
       "    </tr>\n",
       "    <tr>\n",
       "      <th>1</th>\n",
       "      <td>DenseNet</td>\n",
       "      <td>CIFAR10</td>\n",
       "      <td>0.0482</td>\n",
       "      <td>10</td>\n",
       "    </tr>\n",
       "    <tr>\n",
       "      <th>2</th>\n",
       "      <td>ResNet</td>\n",
       "      <td>CIFAR10</td>\n",
       "      <td>0.0467</td>\n",
       "      <td>10</td>\n",
       "    </tr>\n",
       "    <tr>\n",
       "      <th>0</th>\n",
       "      <td>MobileNet</td>\n",
       "      <td>CIFAR10</td>\n",
       "      <td>0.0394</td>\n",
       "      <td>15</td>\n",
       "    </tr>\n",
       "    <tr>\n",
       "      <th>1</th>\n",
       "      <td>DenseNet</td>\n",
       "      <td>CIFAR10</td>\n",
       "      <td>0.0396</td>\n",
       "      <td>15</td>\n",
       "    </tr>\n",
       "    <tr>\n",
       "      <th>2</th>\n",
       "      <td>ResNet</td>\n",
       "      <td>CIFAR10</td>\n",
       "      <td>0.0381</td>\n",
       "      <td>15</td>\n",
       "    </tr>\n",
       "    <tr>\n",
       "      <th>0</th>\n",
       "      <td>MobileNet</td>\n",
       "      <td>CIFAR10</td>\n",
       "      <td>0.0338</td>\n",
       "      <td>20</td>\n",
       "    </tr>\n",
       "    <tr>\n",
       "      <th>1</th>\n",
       "      <td>DenseNet</td>\n",
       "      <td>CIFAR10</td>\n",
       "      <td>0.0332</td>\n",
       "      <td>20</td>\n",
       "    </tr>\n",
       "    <tr>\n",
       "      <th>2</th>\n",
       "      <td>ResNet</td>\n",
       "      <td>CIFAR10</td>\n",
       "      <td>0.0320</td>\n",
       "      <td>20</td>\n",
       "    </tr>\n",
       "    <tr>\n",
       "      <th>0</th>\n",
       "      <td>MobileNet</td>\n",
       "      <td>CIFAR10</td>\n",
       "      <td>0.0253</td>\n",
       "      <td>25</td>\n",
       "    </tr>\n",
       "    <tr>\n",
       "      <th>1</th>\n",
       "      <td>DenseNet</td>\n",
       "      <td>CIFAR10</td>\n",
       "      <td>0.0270</td>\n",
       "      <td>25</td>\n",
       "    </tr>\n",
       "    <tr>\n",
       "      <th>2</th>\n",
       "      <td>ResNet</td>\n",
       "      <td>CIFAR10</td>\n",
       "      <td>0.0247</td>\n",
       "      <td>25</td>\n",
       "    </tr>\n",
       "    <tr>\n",
       "      <th>0</th>\n",
       "      <td>MobileNet</td>\n",
       "      <td>CIFAR10</td>\n",
       "      <td>0.0193</td>\n",
       "      <td>30</td>\n",
       "    </tr>\n",
       "    <tr>\n",
       "      <th>1</th>\n",
       "      <td>DenseNet</td>\n",
       "      <td>CIFAR10</td>\n",
       "      <td>0.0200</td>\n",
       "      <td>30</td>\n",
       "    </tr>\n",
       "    <tr>\n",
       "      <th>2</th>\n",
       "      <td>ResNet</td>\n",
       "      <td>CIFAR10</td>\n",
       "      <td>0.0198</td>\n",
       "      <td>30</td>\n",
       "    </tr>\n",
       "  </tbody>\n",
       "</table>\n",
       "</div>"
      ],
      "text/plain": [
       "       model  dataset   ratio  Size(n)\n",
       "0  MobileNet  CIFAR10  0.0669        5\n",
       "1   DenseNet  CIFAR10  0.0708        5\n",
       "2     ResNet  CIFAR10  0.0689        5\n",
       "0  MobileNet  CIFAR10  0.0481       10\n",
       "1   DenseNet  CIFAR10  0.0482       10\n",
       "2     ResNet  CIFAR10  0.0467       10\n",
       "0  MobileNet  CIFAR10  0.0394       15\n",
       "1   DenseNet  CIFAR10  0.0396       15\n",
       "2     ResNet  CIFAR10  0.0381       15\n",
       "0  MobileNet  CIFAR10  0.0338       20\n",
       "1   DenseNet  CIFAR10  0.0332       20\n",
       "2     ResNet  CIFAR10  0.0320       20\n",
       "0  MobileNet  CIFAR10  0.0253       25\n",
       "1   DenseNet  CIFAR10  0.0270       25\n",
       "2     ResNet  CIFAR10  0.0247       25\n",
       "0  MobileNet  CIFAR10  0.0193       30\n",
       "1   DenseNet  CIFAR10  0.0200       30\n",
       "2     ResNet  CIFAR10  0.0198       30"
      ]
     },
     "metadata": {},
     "execution_count": 10
    }
   ],
   "metadata": {}
  },
  {
   "cell_type": "code",
   "execution_count": 12,
   "source": [
    "import seaborn as sb\n",
    "import matplotlib\n",
    "ALPHA = 0.05\n",
    "\n",
    "fig = sb.lineplot(data=df_total, x='Size(n)', y='ratio', hue='model', style='dataset', ci=None)\n",
    "# fig.set(yscale='log')\n",
    "plt.plot([0, plt.xlim()[-1]], [ALPHA, ALPHA],\n",
    "        color='black', marker=None, linestyle='dashed', linewidth=2, )\n",
    "\n",
    "plt.ylabel(fr'fraction of rejection $\\alpha$ = {round(1 - conf_int, 3)}')\n",
    "plt.xlabel(r'Size ($n$)')\n",
    "# plt.ticklabel_format(style='plain', axis='y', scilimits=(-1000000,1000000))\n",
    "# from matplotlib.ticker import StrMethodFormatter\n",
    "# plt.gca().yaxis.set_major_formatter(StrMethodFormatter('{x:,.2f}'))\n",
    "# plt.gca().yaxis.set_major_formatter(\n",
    "#     matplotlib.ticker.FuncFormatter(lambda x, p: format(int(x), ',')))\n",
    "\n",
    "plt.grid(True, which='both')\n",
    "plt.savefig(f\"/datadrive2/image_classification/exp/heatmap/complete/line_all_{test_type}_conf{conf_int}_image.png\", dpi=500)\n",
    "plt.show()"
   ],
   "outputs": [
    {
     "output_type": "display_data",
     "data": {
      "image/png": "[encoded data removed]",
      "text/plain": [
       "<Figure size 432x288 with 1 Axes>"
      ]
     },
     "metadata": {
      "needs_background": "light"
     }
    }
   ],
   "metadata": {}
  },
  {
   "cell_type": "code",
   "execution_count": null,
   "source": [],
   "outputs": [],
   "metadata": {}
  }
 ],
 "metadata": {
  "interpreter": {
   "hash": "738ff3c92fc808ea13297e45eb88efc4bddcd3c575f99aa91d6d1058f7d74d3e"
  },
  "kernelspec": {
   "name": "python3",
   "display_name": "Python 3.7.7 64-bit ('deepts': conda)"
  },
  "language_info": {
   "codemirror_mode": {
    "name": "ipython",
    "version": 3
   },
   "file_extension": ".py",
   "mimetype": "text/x-python",
   "name": "python",
   "nbconvert_exporter": "python",
   "pygments_lexer": "ipython3",
   "version": "3.7.7"
  }
 },
 "nbformat": 4,
 "nbformat_minor": 4
}