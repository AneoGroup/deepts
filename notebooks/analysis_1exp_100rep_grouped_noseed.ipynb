{
 "cells": [
  {
   "cell_type": "markdown",
   "metadata": {},
   "source": [
    "# in this notebook results of same time series are shown together\n",
    "1. comparing the evaluation metrics\n",
    "2. comparing the prediction itself"
   ]
  },
  {
   "cell_type": "code",
   "execution_count": 1,
   "metadata": {},
   "outputs": [],
   "source": [
    "import os\n",
    "import matplotlib.pyplot as plt\n",
    "import numpy as np\n",
    "import pandas as pd\n",
    "from tqdm import tqdm"
   ]
  },
  {
   "cell_type": "markdown",
   "metadata": {},
   "source": [
    "## dataset info:\n",
    "\n",
    ".321  train series\n",
    ".2247 test series\n",
    "\n",
    "for the last part we have 24(prediction_length) * 2247 = 53,928"
   ]
  },
  {
   "cell_type": "markdown",
   "metadata": {},
   "source": [
    "## imports"
   ]
  },
  {
   "cell_type": "code",
   "execution_count": 2,
   "metadata": {},
   "outputs": [],
   "source": [
    "# Third-party imports\n",
    "%matplotlib inline\n",
    "import mxnet as mx\n",
    "from mxnet import gluon\n",
    "import numpy as np\n",
    "import pandas as pd\n",
    "import matplotlib.pyplot as plt\n",
    "import json"
   ]
  },
  {
   "cell_type": "code",
   "execution_count": 3,
   "metadata": {},
   "outputs": [],
   "source": [
    "import os\n",
    "import matplotlib.pyplot as plt\n",
    "import numpy as np\n",
    "import pandas as pd\n",
    "from tqdm import tqdm"
   ]
  },
  {
   "cell_type": "code",
   "execution_count": 4,
   "metadata": {},
   "outputs": [],
   "source": [
    "from gluonts.dataset.repository.datasets import get_dataset, dataset_recipes\n",
    "from gluonts.dataset.util import to_pandas\n",
    "from gluonts.model.simple_feedforward import SimpleFeedForwardEstimator\n",
    "from gluonts.trainer import Trainer\n",
    "from gluonts.model.forecast import SampleForecast"
   ]
  },
  {
   "cell_type": "markdown",
   "metadata": {},
   "source": [
    "## global variable"
   ]
  },
  {
   "cell_type": "code",
   "execution_count": 5,
   "metadata": {},
   "outputs": [],
   "source": [
    "num_samples = 100"
   ]
  },
  {
   "cell_type": "code",
   "execution_count": 26,
   "metadata": {},
   "outputs": [],
   "source": [
    "data_address = r'D:\\ntnu\\summer internship\\code stuff\\results' # this is for 100 resutls"
   ]
  },
  {
   "cell_type": "markdown",
   "metadata": {},
   "source": [
    "### plot functions"
   ]
  },
  {
   "cell_type": "code",
   "execution_count": 7,
   "metadata": {},
   "outputs": [],
   "source": [
    "# function to plot the sample forcast of one experiment as well as target value for a specific area\n",
    "def plot_forscast(sample_forcast_list_val,\n",
    "                  exp_n_val,\n",
    "                  sample_n_val,\n",
    "                  forcast_list_val=None):\n",
    "    # make the sample object to use gluonts library\n",
    "    sample_np = sample_forcast_list_val[exp_n_val].iloc[:, sample_n_val : sample_n_val + 24].to_numpy()\n",
    "    tms = pd.Timestamp(1).now()\n",
    "    sample_obj = SampleForecast(\n",
    "            samples=sample_np,\n",
    "            start_date=tms,\n",
    "#             )h\n",
    "            freq='H',\n",
    "#             item_id=self.item_id,\n",
    "#             info=self.info,\n",
    "            )\n",
    "    fig, (ax1,ax2) = plt.subplots(nrows = 1, ncols=2, figsize=(20,10))\n",
    "    prediction_intervals = (50, 99.99)\n",
    "    legend = [\"median prediction\", \"mean\"] + [f\"{k}% prediction interval\" for k in prediction_intervals][::-1]\n",
    "    ax2 = sample_obj.plot(prediction_intervals=prediction_intervals, color='g', show_mean=True)\n",
    "    # if forcast_list_val is passed, the target will be plotted as well\n",
    "    if forcast_list_val is not None:\n",
    "        # extra part\n",
    "        target_forcast_series = get_forcast_target(forcast_list)\n",
    "        target_slice = target_forcast_series.iloc[sample_n_val : sample_n_val + 24]\n",
    "        target_date_range = pd.date_range(tms, periods=len(target_slice), freq='H')\n",
    "        target_slice.index = target_date_range\n",
    "        ax2 = target_slice.plot()\n",
    "    plt.legend(legend, loc=\"upper left\")\n",
    "    sample_forcast_list_val[exp_n_val].iloc[:, sample_n_val : sample_n_val + 24].T.plot(legend=False, ax=ax1)\n",
    "    return fig"
   ]
  },
  {
   "cell_type": "code",
   "execution_count": 8,
   "metadata": {},
   "outputs": [],
   "source": [
    "# plots a same area for all the samples\n",
    "def plot_forscast_same(sample_forcast_list_val,\n",
    "                       sample_n_val,\n",
    "                       lim=10):\n",
    "    color_list = ['g','b','r','y','cyan', 'orange', 'brown', 'purple', 'pink', 'gray']\n",
    "    for idx, sample_el in enumerate(sample_forcast_list_val):\n",
    "        # check if we have more than 10 diagrams\n",
    "        if idx > lim:\n",
    "            break\n",
    "        sample_np = sample_el.iloc[:, sample_n_val : sample_n_val + 24].to_numpy()\n",
    "        tms = pd.Timestamp(1).now()\n",
    "        sample_obj = SampleForecast(\n",
    "                samples=sample_np,\n",
    "                start_date=tms,\n",
    "                freq='H',\n",
    "                )\n",
    "        prediction_intervals = (25, 50)\n",
    "        legend = [\"median prediction\", \"mean\"] + [f\"{k}% prediction interval\" for k in prediction_intervals][::-1]\n",
    "        sample_obj.plot(prediction_intervals=prediction_intervals, color=color_list[idx], show_mean=True)\n",
    "\n",
    "    plt.legend(legend, loc=\"upper left\")\n",
    "    plt.show()"
   ]
  },
  {
   "cell_type": "code",
   "execution_count": 9,
   "metadata": {},
   "outputs": [],
   "source": [
    "# this is the plot function we call which uses plot_forcast to plot multiple plots and save the results\n",
    "def save_plot_exp(exp_lim, sample_n):\n",
    "    for idx in range(exp_lim):\n",
    "        a=plot_forscast(sample_forcast_list, idx, sample_n)\n",
    "        a.savefig(f'plots/result_sample{sample_n}_exp{idx}')"
   ]
  },
  {
   "cell_type": "code",
   "execution_count": 10,
   "metadata": {},
   "outputs": [],
   "source": [
    "def show_pred_plots(sorted_forcast_list, point, lim=100):\n",
    "    for i in range(lim):\n",
    "        plt.plot(sorted_forcast_list[i].iloc[point-50:point+50]['mean'].to_numpy())\n",
    "\n",
    "    plt.plot(sorted_forcast_list[i].iloc[point-50:point+50]['target'].to_numpy())"
   ]
  },
  {
   "cell_type": "markdown",
   "metadata": {},
   "source": [
    "### Dataloading functions"
   ]
  },
  {
   "cell_type": "markdown",
   "metadata": {},
   "source": [
    "read each metrics as a dataframe first"
   ]
  },
  {
   "cell_type": "code",
   "execution_count": 11,
   "metadata": {},
   "outputs": [],
   "source": [
    "def read_csv_result(result_type, address, n_files=None):\n",
    "    rootdir = address\n",
    "    os.path.isdir(rootdir)\n",
    "\n",
    "    df_list = []\n",
    "    filenames = []\n",
    "\n",
    "    for subdir, _, files in tqdm(os.walk(rootdir)):\n",
    "        filenames += [os.path.join(subdir, file) for file in files if file == result_type]\n",
    "\n",
    "    if n_files is not None:\n",
    "        filenames = filenames[:n_files]\n",
    "        \n",
    "    for filename in tqdm(filenames, ascii=True, ncols=50):\n",
    "        df = pd.read_csv(filename)\n",
    "        df_list.append(df)\n",
    "        \n",
    "    return df_list"
   ]
  },
  {
   "cell_type": "markdown",
   "metadata": {},
   "source": [
    "### metrics function"
   ]
  },
  {
   "cell_type": "code",
   "execution_count": 12,
   "metadata": {},
   "outputs": [],
   "source": [
    "# it returns a dataframe of metrics of all test datas for all the experiements\n",
    "\n",
    "def get_metric_df(metric_list_val, metric_name = 'MAPE'): \n",
    "    metric_df_list = []\n",
    "    # number of testseries\n",
    "    test_set_len = metric_list_val[0].shape[0]\n",
    "    \n",
    "    # number of experiments we did\n",
    "    exp_len = 0\n",
    "    # we need to set a name for it\n",
    "    for metrics_experiment in metric_list_val:\n",
    "        exp_len += 1\n",
    "        current_mse_series = metrics_experiment[metric_name]\n",
    "        current_mse_series.name = f'rep_{exp_len}'\n",
    "        metric_df_list.append(current_mse_series)\n",
    "    metric_dataframe = pd.concat(metric_df_list, axis=1).T\n",
    "    return metric_dataframe"
   ]
  },
  {
   "cell_type": "code",
   "execution_count": 13,
   "metadata": {},
   "outputs": [],
   "source": [
    "# plots limited number of elements of list of dataframes\n",
    "def plot_df_list(sample_forcast_list_val, no_plot = 5):\n",
    "    for i, forcast_el in enumerate(sample_forcast_list_val):\n",
    "        if i > no_plot:\n",
    "            break\n",
    "        forcast_el[0].plot()"
   ]
  },
  {
   "cell_type": "markdown",
   "metadata": {},
   "source": [
    "### forcast function"
   ]
  },
  {
   "cell_type": "code",
   "execution_count": 14,
   "metadata": {},
   "outputs": [],
   "source": [
    "# returns list of all dfs with only samples column\n",
    "def get_forcast_samples(forcast_list_val):\n",
    "    num_exp = len(forcast_list_val)\n",
    "    \n",
    "    # get just samples columns\n",
    "    sample_forcast_list_val = []\n",
    "    for forcast_el_val in forcast_list_val:\n",
    "        sample_forcast_list_val.append(forcast_el_val.loc[:, 'sample0':f'sample{num_samples-1}'].T)\n",
    "    return sample_forcast_list_val"
   ]
  },
  {
   "cell_type": "code",
   "execution_count": 15,
   "metadata": {},
   "outputs": [],
   "source": [
    "# returns list of all dfs with only samples column\n",
    "def get_forcast_distrib(forcast_list_val):\n",
    "    num_exp = len(forcast_list_val)\n",
    "    \n",
    "    # get just samples columns\n",
    "    distrib_forcast_list = []\n",
    "    for forcast_el_val in forcast_list_val:\n",
    "        # first get the samples\n",
    "        sample_forcast_elm = forcast_el_val.loc[:, 'sample0':f'sample{num_samples-1}'].T\n",
    "            \n",
    "        mean  = sample_forcast_elm.mean()\n",
    "        sigma = sample_forcast_elm.std(ddof=1)\n",
    "        forcast_distrib_dict = {'mean' : mean, 'sigma' : sigma} \n",
    "        forcast_distrib_df = pd.DataFrame(forcast_distrib_dict).T\n",
    "        forcast_distrib_df\n",
    "        distrib_forcast_list.append(forcast_distrib_df)\n",
    "    return distrib_forcast_list"
   ]
  },
  {
   "cell_type": "code",
   "execution_count": 16,
   "metadata": {},
   "outputs": [],
   "source": [
    "# returns list of all dfs with only samples column\n",
    "def get_forcast_distrib_sample(sample_forcast_list_val):\n",
    "    num_exp = len(sample_forcast_list_val)\n",
    "    \n",
    "    # get just samples columns\n",
    "    distrib_forcast_list = []\n",
    "    for sample_forcast_elm in sample_forcast_list_val:\n",
    "        mean  = sample_forcast_elm.mean()\n",
    "        sigma = sample_forcast_elm.std(ddof=1)\n",
    "        forcast_distrib_dict = {'mean' : mean, 'sigma' : sigma} \n",
    "        forcast_distrib_df = pd.DataFrame(forcast_distrib_dict).T\n",
    "        forcast_distrib_df\n",
    "        distrib_forcast_list.append(forcast_distrib_df)\n",
    "    return distrib_forcast_list"
   ]
  },
  {
   "cell_type": "code",
   "execution_count": 17,
   "metadata": {},
   "outputs": [],
   "source": [
    "# outputs numpy 3d array of shape [num_exp, num_samples, num_test * prediction_length]\n",
    "def get_np_forcast(sample_forcast_list_val):\n",
    "    num_exp = len(sample_forcast_list_val)\n",
    "    forcast_np = np.zeros((num_exp,*sample_forcast_list_val[0].shape))\n",
    "    for idx in range(num_exp):\n",
    "        forcast_np[idx] = sample_forcast_list_val[idx].to_numpy()\n",
    "    return forcast_np"
   ]
  },
  {
   "cell_type": "code",
   "execution_count": 18,
   "metadata": {},
   "outputs": [],
   "source": [
    "# calculate the std of 3d np array, shape of output = [num_samples, num_test * prediction_length]\n",
    "def get_std_np(forcast_np, sample_forcast_list_val):\n",
    "    forcast_std_np = np.zeros(sample_forcast_list_val[0].shape)\n",
    "    for idx in range(forcast_np.shape[-1]):\n",
    "        forcast_std_np[:,idx] = forcast_np[:,:,idx].std(axis = 0)\n",
    "    return forcast_std_np"
   ]
  },
  {
   "cell_type": "code",
   "execution_count": 19,
   "metadata": {},
   "outputs": [],
   "source": [
    "# returns the target serie\n",
    "def get_forcast_target(forcast_list):\n",
    "    return forcast_list[0].loc[:, 'target'].T"
   ]
  },
  {
   "cell_type": "code",
   "execution_count": 20,
   "metadata": {},
   "outputs": [],
   "source": [
    "def convert_df2np_mean_std(sorted_forcast_list):\n",
    "    num_exp = len(sorted_forcast_list)\n",
    "    sorted_forcast_list[0].shape\n",
    "    sorted_forcast_np = np.zeros((num_exp, sorted_forcast_list[0].shape[0], 2))\n",
    "    for idx in range(num_exp):\n",
    "        sorted_forcast_np[idx] = sorted_forcast_list[idx].loc[:, 'mean':'std'].to_numpy()\n",
    "    return sorted_forcast_np"
   ]
  },
  {
   "cell_type": "code",
   "execution_count": 21,
   "metadata": {},
   "outputs": [],
   "source": [
    "def get_avg_mean_sorted_train_series(forcast_list_el):\n",
    "    forcast_list_el['train_series_number'] = forcast_list_el['series_number']%321\n",
    "    forcast_list_el.set_index('train_series_number', inplace=True)\n",
    "    forcast_list_el.sort_values(by=['train_series_number', 'timestamp'], inplace=True)\n",
    "    forcast_list_el['mean'] = forcast_list_el.loc[:, 'sample0':f'sample{num_samples-1}'].mean(axis=1)\n",
    "    forcast_list_el['std'] = forcast_list_el.loc[:, 'sample0':f'sample{num_samples-1}'].std(axis=1)\n",
    "    return forcast_list_el"
   ]
  },
  {
   "cell_type": "code",
   "execution_count": 22,
   "metadata": {},
   "outputs": [],
   "source": [
    "def get_sorted_csv(forcast_list):\n",
    "    for forcast_list_element in forcast_list:\n",
    "        forcast_list_element = get_avg_mean_sorted_train_series(forcast_list_element)\n",
    "    return forcast_list"
   ]
  },
  {
   "cell_type": "markdown",
   "metadata": {},
   "source": [
    "### quantile filter functions"
   ]
  },
  {
   "cell_type": "code",
   "execution_count": 23,
   "metadata": {},
   "outputs": [],
   "source": [
    "# get the interval of 0.25 to 0.75 quantile of sample forcast\n",
    "def make_50ps_intervals(sample_forcast_list_element_val):\n",
    "    my_df1 = sample_forcast_list_element_val\n",
    "    q11 = my_df1.quantile(0.25)\n",
    "    q21 = my_df1.quantile(0.75)\n",
    "    mask1 = (my_df1 < q21) & (q11 < my_df1)\n",
    "    return my_df1[mask1]"
   ]
  },
  {
   "cell_type": "code",
   "execution_count": 24,
   "metadata": {},
   "outputs": [],
   "source": [
    "# make a list of 50% intervals\n",
    "def make_50ps_interval_list(sample_forcast_list_val, list_lim=None):\n",
    "    quantile_sample_list = []\n",
    "    \n",
    "    if list_lim is not None:\n",
    "        sample_forcast_list_val = sample_forcast_list_val[:list_lim]\n",
    "        \n",
    "    for sample_forcast_list_element in sample_forcast_list_val:\n",
    "        quantile_sample_list.append(make_50ps_intervals(sample_forcast_list_element))\n",
    "    return quantile_sample_list"
   ]
  },
  {
   "cell_type": "markdown",
   "metadata": {},
   "source": [
    "# forcast"
   ]
  },
  {
   "cell_type": "code",
   "execution_count": 27,
   "metadata": {},
   "outputs": [
    {
     "name": "stderr",
     "output_type": "stream",
     "text": [
      "101it [00:00, 3616.67it/s]\n",
      "100%|###########| 100/100 [02:47<00:00,  1.68s/it]\n"
     ]
    }
   ],
   "source": [
    "# read the forcast file\n",
    "forcast_list = read_csv_result('forcasts.csv', data_address)"
   ]
  },
  {
   "cell_type": "code",
   "execution_count": 43,
   "metadata": {},
   "outputs": [],
   "source": [
    "target_forcast_series = get_forcast_target(forcast_list)"
   ]
  },
  {
   "cell_type": "code",
   "execution_count": 29,
   "metadata": {},
   "outputs": [
    {
     "data": {
      "text/plain": [
       "100"
      ]
     },
     "execution_count": 29,
     "metadata": {},
     "output_type": "execute_result"
    }
   ],
   "source": [
    "len(forcast_list)"
   ]
  },
  {
   "cell_type": "code",
   "execution_count": 30,
   "metadata": {},
   "outputs": [],
   "source": [
    "sorted_forcast_list = get_sorted_csv(forcast_list)"
   ]
  },
  {
   "cell_type": "code",
   "execution_count": 31,
   "metadata": {},
   "outputs": [
    {
     "data": {
      "text/html": [
       "<div>\n",
       "<style scoped>\n",
       "    .dataframe tbody tr th:only-of-type {\n",
       "        vertical-align: middle;\n",
       "    }\n",
       "\n",
       "    .dataframe tbody tr th {\n",
       "        vertical-align: top;\n",
       "    }\n",
       "\n",
       "    .dataframe thead th {\n",
       "        text-align: right;\n",
       "    }\n",
       "</style>\n",
       "<table border=\"1\" class=\"dataframe\">\n",
       "  <thead>\n",
       "    <tr style=\"text-align: right;\">\n",
       "      <th></th>\n",
       "      <th>fold_num</th>\n",
       "      <th>series_number</th>\n",
       "      <th>timestamp</th>\n",
       "      <th>target</th>\n",
       "      <th>sample0</th>\n",
       "      <th>sample1</th>\n",
       "      <th>sample2</th>\n",
       "      <th>sample3</th>\n",
       "      <th>sample4</th>\n",
       "      <th>sample5</th>\n",
       "      <th>...</th>\n",
       "      <th>sample192</th>\n",
       "      <th>sample193</th>\n",
       "      <th>sample194</th>\n",
       "      <th>sample195</th>\n",
       "      <th>sample196</th>\n",
       "      <th>sample197</th>\n",
       "      <th>sample198</th>\n",
       "      <th>sample199</th>\n",
       "      <th>mean</th>\n",
       "      <th>std</th>\n",
       "    </tr>\n",
       "    <tr>\n",
       "      <th>train_series_number</th>\n",
       "      <th></th>\n",
       "      <th></th>\n",
       "      <th></th>\n",
       "      <th></th>\n",
       "      <th></th>\n",
       "      <th></th>\n",
       "      <th></th>\n",
       "      <th></th>\n",
       "      <th></th>\n",
       "      <th></th>\n",
       "      <th></th>\n",
       "      <th></th>\n",
       "      <th></th>\n",
       "      <th></th>\n",
       "      <th></th>\n",
       "      <th></th>\n",
       "      <th></th>\n",
       "      <th></th>\n",
       "      <th></th>\n",
       "      <th></th>\n",
       "      <th></th>\n",
       "    </tr>\n",
       "  </thead>\n",
       "  <tbody>\n",
       "    <tr>\n",
       "      <th>0</th>\n",
       "      <td>1</td>\n",
       "      <td>0</td>\n",
       "      <td>2014-05-26 20:00:00</td>\n",
       "      <td>9.0</td>\n",
       "      <td>15.892927</td>\n",
       "      <td>18.794500</td>\n",
       "      <td>18.420332</td>\n",
       "      <td>17.061580</td>\n",
       "      <td>16.810068</td>\n",
       "      <td>14.809458</td>\n",
       "      <td>...</td>\n",
       "      <td>15.053331</td>\n",
       "      <td>20.764126</td>\n",
       "      <td>15.472470</td>\n",
       "      <td>18.485811</td>\n",
       "      <td>13.345155</td>\n",
       "      <td>15.998700</td>\n",
       "      <td>17.309755</td>\n",
       "      <td>18.525433</td>\n",
       "      <td>16.152926</td>\n",
       "      <td>6.072224</td>\n",
       "    </tr>\n",
       "    <tr>\n",
       "      <th>0</th>\n",
       "      <td>1</td>\n",
       "      <td>0</td>\n",
       "      <td>2014-05-26 21:00:00</td>\n",
       "      <td>10.0</td>\n",
       "      <td>11.395522</td>\n",
       "      <td>27.619148</td>\n",
       "      <td>22.450666</td>\n",
       "      <td>19.784697</td>\n",
       "      <td>25.118587</td>\n",
       "      <td>22.732674</td>\n",
       "      <td>...</td>\n",
       "      <td>31.275389</td>\n",
       "      <td>18.833230</td>\n",
       "      <td>20.418943</td>\n",
       "      <td>28.459894</td>\n",
       "      <td>20.115650</td>\n",
       "      <td>12.570258</td>\n",
       "      <td>17.264938</td>\n",
       "      <td>35.590595</td>\n",
       "      <td>24.933873</td>\n",
       "      <td>15.715126</td>\n",
       "    </tr>\n",
       "    <tr>\n",
       "      <th>0</th>\n",
       "      <td>1</td>\n",
       "      <td>0</td>\n",
       "      <td>2014-05-26 22:00:00</td>\n",
       "      <td>22.0</td>\n",
       "      <td>15.177665</td>\n",
       "      <td>23.064526</td>\n",
       "      <td>21.949125</td>\n",
       "      <td>20.139013</td>\n",
       "      <td>27.152613</td>\n",
       "      <td>26.541948</td>\n",
       "      <td>...</td>\n",
       "      <td>23.767262</td>\n",
       "      <td>23.887754</td>\n",
       "      <td>20.911710</td>\n",
       "      <td>23.528688</td>\n",
       "      <td>23.562187</td>\n",
       "      <td>17.816390</td>\n",
       "      <td>32.024067</td>\n",
       "      <td>20.031101</td>\n",
       "      <td>23.615871</td>\n",
       "      <td>5.219006</td>\n",
       "    </tr>\n",
       "    <tr>\n",
       "      <th>0</th>\n",
       "      <td>1</td>\n",
       "      <td>0</td>\n",
       "      <td>2014-05-26 23:00:00</td>\n",
       "      <td>20.0</td>\n",
       "      <td>26.110151</td>\n",
       "      <td>23.727999</td>\n",
       "      <td>24.061516</td>\n",
       "      <td>25.099686</td>\n",
       "      <td>27.715292</td>\n",
       "      <td>27.110880</td>\n",
       "      <td>...</td>\n",
       "      <td>26.369158</td>\n",
       "      <td>26.690603</td>\n",
       "      <td>37.453197</td>\n",
       "      <td>23.301653</td>\n",
       "      <td>23.394472</td>\n",
       "      <td>31.798910</td>\n",
       "      <td>24.638493</td>\n",
       "      <td>25.139648</td>\n",
       "      <td>25.168595</td>\n",
       "      <td>2.844431</td>\n",
       "    </tr>\n",
       "    <tr>\n",
       "      <th>0</th>\n",
       "      <td>1</td>\n",
       "      <td>0</td>\n",
       "      <td>2014-05-27 00:00:00</td>\n",
       "      <td>13.0</td>\n",
       "      <td>18.620432</td>\n",
       "      <td>24.962437</td>\n",
       "      <td>23.973990</td>\n",
       "      <td>24.638863</td>\n",
       "      <td>24.656963</td>\n",
       "      <td>23.977100</td>\n",
       "      <td>...</td>\n",
       "      <td>35.998410</td>\n",
       "      <td>23.383220</td>\n",
       "      <td>24.781548</td>\n",
       "      <td>25.899340</td>\n",
       "      <td>26.582882</td>\n",
       "      <td>25.278630</td>\n",
       "      <td>29.250034</td>\n",
       "      <td>25.048786</td>\n",
       "      <td>25.140975</td>\n",
       "      <td>2.834288</td>\n",
       "    </tr>\n",
       "    <tr>\n",
       "      <th>...</th>\n",
       "      <td>...</td>\n",
       "      <td>...</td>\n",
       "      <td>...</td>\n",
       "      <td>...</td>\n",
       "      <td>...</td>\n",
       "      <td>...</td>\n",
       "      <td>...</td>\n",
       "      <td>...</td>\n",
       "      <td>...</td>\n",
       "      <td>...</td>\n",
       "      <td>...</td>\n",
       "      <td>...</td>\n",
       "      <td>...</td>\n",
       "      <td>...</td>\n",
       "      <td>...</td>\n",
       "      <td>...</td>\n",
       "      <td>...</td>\n",
       "      <td>...</td>\n",
       "      <td>...</td>\n",
       "      <td>...</td>\n",
       "      <td>...</td>\n",
       "    </tr>\n",
       "    <tr>\n",
       "      <th>320</th>\n",
       "      <td>1</td>\n",
       "      <td>2246</td>\n",
       "      <td>2014-06-02 15:00:00</td>\n",
       "      <td>4209.0</td>\n",
       "      <td>3556.128200</td>\n",
       "      <td>3495.187500</td>\n",
       "      <td>3573.766800</td>\n",
       "      <td>3583.237000</td>\n",
       "      <td>3648.945600</td>\n",
       "      <td>3070.738000</td>\n",
       "      <td>...</td>\n",
       "      <td>3549.334500</td>\n",
       "      <td>3433.842500</td>\n",
       "      <td>3605.771500</td>\n",
       "      <td>3279.942600</td>\n",
       "      <td>3466.019800</td>\n",
       "      <td>3350.491000</td>\n",
       "      <td>3399.727800</td>\n",
       "      <td>3461.791300</td>\n",
       "      <td>3458.142844</td>\n",
       "      <td>206.789298</td>\n",
       "    </tr>\n",
       "    <tr>\n",
       "      <th>320</th>\n",
       "      <td>1</td>\n",
       "      <td>2246</td>\n",
       "      <td>2014-06-02 16:00:00</td>\n",
       "      <td>4120.0</td>\n",
       "      <td>3568.239500</td>\n",
       "      <td>3379.677500</td>\n",
       "      <td>3231.048300</td>\n",
       "      <td>3156.940700</td>\n",
       "      <td>3719.435800</td>\n",
       "      <td>3752.326200</td>\n",
       "      <td>...</td>\n",
       "      <td>3607.235800</td>\n",
       "      <td>3358.222000</td>\n",
       "      <td>3766.255900</td>\n",
       "      <td>3362.689700</td>\n",
       "      <td>3818.466300</td>\n",
       "      <td>3380.908700</td>\n",
       "      <td>3474.055200</td>\n",
       "      <td>3640.999800</td>\n",
       "      <td>3495.386250</td>\n",
       "      <td>408.821272</td>\n",
       "    </tr>\n",
       "    <tr>\n",
       "      <th>320</th>\n",
       "      <td>1</td>\n",
       "      <td>2246</td>\n",
       "      <td>2014-06-02 17:00:00</td>\n",
       "      <td>3951.0</td>\n",
       "      <td>3807.390900</td>\n",
       "      <td>3334.639200</td>\n",
       "      <td>3423.653800</td>\n",
       "      <td>3244.171100</td>\n",
       "      <td>3672.534400</td>\n",
       "      <td>3492.841800</td>\n",
       "      <td>...</td>\n",
       "      <td>4042.393600</td>\n",
       "      <td>3210.830600</td>\n",
       "      <td>3346.973900</td>\n",
       "      <td>3557.066400</td>\n",
       "      <td>3782.202400</td>\n",
       "      <td>3503.328400</td>\n",
       "      <td>3578.726800</td>\n",
       "      <td>3528.385700</td>\n",
       "      <td>3494.222665</td>\n",
       "      <td>264.781334</td>\n",
       "    </tr>\n",
       "    <tr>\n",
       "      <th>320</th>\n",
       "      <td>1</td>\n",
       "      <td>2246</td>\n",
       "      <td>2014-06-02 18:00:00</td>\n",
       "      <td>3907.0</td>\n",
       "      <td>3134.394300</td>\n",
       "      <td>3386.880400</td>\n",
       "      <td>3290.959200</td>\n",
       "      <td>3354.667500</td>\n",
       "      <td>3618.219500</td>\n",
       "      <td>3277.405000</td>\n",
       "      <td>...</td>\n",
       "      <td>3319.155000</td>\n",
       "      <td>3560.719000</td>\n",
       "      <td>3390.349000</td>\n",
       "      <td>3182.812300</td>\n",
       "      <td>3535.145500</td>\n",
       "      <td>3509.474600</td>\n",
       "      <td>3532.247000</td>\n",
       "      <td>3510.738000</td>\n",
       "      <td>3387.870682</td>\n",
       "      <td>272.513014</td>\n",
       "    </tr>\n",
       "    <tr>\n",
       "      <th>320</th>\n",
       "      <td>1</td>\n",
       "      <td>2246</td>\n",
       "      <td>2014-06-02 19:00:00</td>\n",
       "      <td>3814.0</td>\n",
       "      <td>3577.325400</td>\n",
       "      <td>3045.645300</td>\n",
       "      <td>2966.772700</td>\n",
       "      <td>3275.634300</td>\n",
       "      <td>3188.810300</td>\n",
       "      <td>3052.307900</td>\n",
       "      <td>...</td>\n",
       "      <td>3198.255600</td>\n",
       "      <td>3673.710200</td>\n",
       "      <td>3061.067400</td>\n",
       "      <td>3171.774000</td>\n",
       "      <td>3115.589600</td>\n",
       "      <td>2671.881800</td>\n",
       "      <td>3129.909400</td>\n",
       "      <td>3421.837400</td>\n",
       "      <td>3154.702784</td>\n",
       "      <td>444.599832</td>\n",
       "    </tr>\n",
       "  </tbody>\n",
       "</table>\n",
       "<p>53928 rows × 206 columns</p>\n",
       "</div>"
      ],
      "text/plain": [
       "                     fold_num  series_number            timestamp  target  \\\n",
       "train_series_number                                                         \n",
       "0                           1              0  2014-05-26 20:00:00     9.0   \n",
       "0                           1              0  2014-05-26 21:00:00    10.0   \n",
       "0                           1              0  2014-05-26 22:00:00    22.0   \n",
       "0                           1              0  2014-05-26 23:00:00    20.0   \n",
       "0                           1              0  2014-05-27 00:00:00    13.0   \n",
       "...                       ...            ...                  ...     ...   \n",
       "320                         1           2246  2014-06-02 15:00:00  4209.0   \n",
       "320                         1           2246  2014-06-02 16:00:00  4120.0   \n",
       "320                         1           2246  2014-06-02 17:00:00  3951.0   \n",
       "320                         1           2246  2014-06-02 18:00:00  3907.0   \n",
       "320                         1           2246  2014-06-02 19:00:00  3814.0   \n",
       "\n",
       "                         sample0      sample1      sample2      sample3  \\\n",
       "train_series_number                                                       \n",
       "0                      15.892927    18.794500    18.420332    17.061580   \n",
       "0                      11.395522    27.619148    22.450666    19.784697   \n",
       "0                      15.177665    23.064526    21.949125    20.139013   \n",
       "0                      26.110151    23.727999    24.061516    25.099686   \n",
       "0                      18.620432    24.962437    23.973990    24.638863   \n",
       "...                          ...          ...          ...          ...   \n",
       "320                  3556.128200  3495.187500  3573.766800  3583.237000   \n",
       "320                  3568.239500  3379.677500  3231.048300  3156.940700   \n",
       "320                  3807.390900  3334.639200  3423.653800  3244.171100   \n",
       "320                  3134.394300  3386.880400  3290.959200  3354.667500   \n",
       "320                  3577.325400  3045.645300  2966.772700  3275.634300   \n",
       "\n",
       "                         sample4      sample5  ...    sample192    sample193  \\\n",
       "train_series_number                            ...                             \n",
       "0                      16.810068    14.809458  ...    15.053331    20.764126   \n",
       "0                      25.118587    22.732674  ...    31.275389    18.833230   \n",
       "0                      27.152613    26.541948  ...    23.767262    23.887754   \n",
       "0                      27.715292    27.110880  ...    26.369158    26.690603   \n",
       "0                      24.656963    23.977100  ...    35.998410    23.383220   \n",
       "...                          ...          ...  ...          ...          ...   \n",
       "320                  3648.945600  3070.738000  ...  3549.334500  3433.842500   \n",
       "320                  3719.435800  3752.326200  ...  3607.235800  3358.222000   \n",
       "320                  3672.534400  3492.841800  ...  4042.393600  3210.830600   \n",
       "320                  3618.219500  3277.405000  ...  3319.155000  3560.719000   \n",
       "320                  3188.810300  3052.307900  ...  3198.255600  3673.710200   \n",
       "\n",
       "                       sample194    sample195    sample196    sample197  \\\n",
       "train_series_number                                                       \n",
       "0                      15.472470    18.485811    13.345155    15.998700   \n",
       "0                      20.418943    28.459894    20.115650    12.570258   \n",
       "0                      20.911710    23.528688    23.562187    17.816390   \n",
       "0                      37.453197    23.301653    23.394472    31.798910   \n",
       "0                      24.781548    25.899340    26.582882    25.278630   \n",
       "...                          ...          ...          ...          ...   \n",
       "320                  3605.771500  3279.942600  3466.019800  3350.491000   \n",
       "320                  3766.255900  3362.689700  3818.466300  3380.908700   \n",
       "320                  3346.973900  3557.066400  3782.202400  3503.328400   \n",
       "320                  3390.349000  3182.812300  3535.145500  3509.474600   \n",
       "320                  3061.067400  3171.774000  3115.589600  2671.881800   \n",
       "\n",
       "                       sample198    sample199         mean         std  \n",
       "train_series_number                                                     \n",
       "0                      17.309755    18.525433    16.152926    6.072224  \n",
       "0                      17.264938    35.590595    24.933873   15.715126  \n",
       "0                      32.024067    20.031101    23.615871    5.219006  \n",
       "0                      24.638493    25.139648    25.168595    2.844431  \n",
       "0                      29.250034    25.048786    25.140975    2.834288  \n",
       "...                          ...          ...          ...         ...  \n",
       "320                  3399.727800  3461.791300  3458.142844  206.789298  \n",
       "320                  3474.055200  3640.999800  3495.386250  408.821272  \n",
       "320                  3578.726800  3528.385700  3494.222665  264.781334  \n",
       "320                  3532.247000  3510.738000  3387.870682  272.513014  \n",
       "320                  3129.909400  3421.837400  3154.702784  444.599832  \n",
       "\n",
       "[53928 rows x 206 columns]"
      ]
     },
     "execution_count": 31,
     "metadata": {},
     "output_type": "execute_result"
    }
   ],
   "source": [
    "sorted_forcast_list[1]"
   ]
  },
  {
   "cell_type": "code",
   "execution_count": 32,
   "metadata": {},
   "outputs": [
    {
     "data": {
      "text/plain": [
       "<matplotlib.axes._subplots.AxesSubplot at 0x1b67f5b8f08>"
      ]
     },
     "execution_count": 32,
     "metadata": {},
     "output_type": "execute_result"
    },
    {
     "data": {
      "image/png": "[encoded data removed]",
      "text/plain": [
       "<Figure size 432x288 with 1 Axes>"
      ]
     },
     "metadata": {
      "needs_background": "light"
     },
     "output_type": "display_data"
    }
   ],
   "source": [
    "sorted_forcast_list[0].loc[:, 'std'].plot()\n",
    "sorted_forcast_list[1].loc[:, 'std'].plot()\n",
    "sorted_forcast_list[2].loc[:, 'std'].plot()"
   ]
  },
  {
   "cell_type": "markdown",
   "metadata": {},
   "source": [
    "### now we need to get the 3d numpy array of std and avg"
   ]
  },
  {
   "cell_type": "code",
   "execution_count": 33,
   "metadata": {},
   "outputs": [
    {
     "data": {
      "text/plain": [
       "array([[  16.15292598,    6.07222439],\n",
       "       [  24.93387295,   15.71512571],\n",
       "       [  23.61587132,    5.21900573],\n",
       "       ...,\n",
       "       [3494.222665  ,  264.78133429],\n",
       "       [3387.870682  ,  272.51301387],\n",
       "       [3154.7027841 ,  444.59983165]])"
      ]
     },
     "execution_count": 33,
     "metadata": {},
     "output_type": "execute_result"
    }
   ],
   "source": [
    "sorted_forcast_np = convert_df2np_mean_std(sorted_forcast_list)\n",
    "sorted_forcast_np[1]"
   ]
  },
  {
   "cell_type": "code",
   "execution_count": 34,
   "metadata": {},
   "outputs": [
    {
     "data": {
      "text/plain": [
       "(53928, 2)"
      ]
     },
     "execution_count": 34,
     "metadata": {},
     "output_type": "execute_result"
    }
   ],
   "source": [
    "std_sorted = sorted_forcast_np.std(axis=0)\n",
    "std_sorted.shape"
   ]
  },
  {
   "cell_type": "code",
   "execution_count": 35,
   "metadata": {},
   "outputs": [
    {
     "data": {
      "text/html": [
       "<div>\n",
       "<style scoped>\n",
       "    .dataframe tbody tr th:only-of-type {\n",
       "        vertical-align: middle;\n",
       "    }\n",
       "\n",
       "    .dataframe tbody tr th {\n",
       "        vertical-align: top;\n",
       "    }\n",
       "\n",
       "    .dataframe thead th {\n",
       "        text-align: right;\n",
       "    }\n",
       "</style>\n",
       "<table border=\"1\" class=\"dataframe\">\n",
       "  <thead>\n",
       "    <tr style=\"text-align: right;\">\n",
       "      <th></th>\n",
       "      <th>0</th>\n",
       "      <th>1</th>\n",
       "    </tr>\n",
       "  </thead>\n",
       "  <tbody>\n",
       "    <tr>\n",
       "      <th>0</th>\n",
       "      <td>1.456205</td>\n",
       "      <td>3.096828</td>\n",
       "    </tr>\n",
       "    <tr>\n",
       "      <th>1</th>\n",
       "      <td>2.242264</td>\n",
       "      <td>9.025018</td>\n",
       "    </tr>\n",
       "    <tr>\n",
       "      <th>2</th>\n",
       "      <td>2.178647</td>\n",
       "      <td>2.446077</td>\n",
       "    </tr>\n",
       "    <tr>\n",
       "      <th>3</th>\n",
       "      <td>2.065511</td>\n",
       "      <td>2.022185</td>\n",
       "    </tr>\n",
       "    <tr>\n",
       "      <th>4</th>\n",
       "      <td>2.282157</td>\n",
       "      <td>1.130348</td>\n",
       "    </tr>\n",
       "    <tr>\n",
       "      <th>...</th>\n",
       "      <td>...</td>\n",
       "      <td>...</td>\n",
       "    </tr>\n",
       "    <tr>\n",
       "      <th>53923</th>\n",
       "      <td>210.244221</td>\n",
       "      <td>66.198003</td>\n",
       "    </tr>\n",
       "    <tr>\n",
       "      <th>53924</th>\n",
       "      <td>214.669200</td>\n",
       "      <td>89.578699</td>\n",
       "    </tr>\n",
       "    <tr>\n",
       "      <th>53925</th>\n",
       "      <td>219.079365</td>\n",
       "      <td>59.015864</td>\n",
       "    </tr>\n",
       "    <tr>\n",
       "      <th>53926</th>\n",
       "      <td>216.648398</td>\n",
       "      <td>59.951770</td>\n",
       "    </tr>\n",
       "    <tr>\n",
       "      <th>53927</th>\n",
       "      <td>221.283900</td>\n",
       "      <td>77.213764</td>\n",
       "    </tr>\n",
       "  </tbody>\n",
       "</table>\n",
       "<p>53928 rows × 2 columns</p>\n",
       "</div>"
      ],
      "text/plain": [
       "                0          1\n",
       "0        1.456205   3.096828\n",
       "1        2.242264   9.025018\n",
       "2        2.178647   2.446077\n",
       "3        2.065511   2.022185\n",
       "4        2.282157   1.130348\n",
       "...           ...        ...\n",
       "53923  210.244221  66.198003\n",
       "53924  214.669200  89.578699\n",
       "53925  219.079365  59.015864\n",
       "53926  216.648398  59.951770\n",
       "53927  221.283900  77.213764\n",
       "\n",
       "[53928 rows x 2 columns]"
      ]
     },
     "execution_count": 35,
     "metadata": {},
     "output_type": "execute_result"
    }
   ],
   "source": [
    "pd.DataFrame(std_sorted)"
   ]
  },
  {
   "cell_type": "code",
   "execution_count": 36,
   "metadata": {},
   "outputs": [
    {
     "data": {
      "text/plain": [
       "<matplotlib.axes._subplots.AxesSubplot at 0x1b60048fc88>"
      ]
     },
     "execution_count": 36,
     "metadata": {},
     "output_type": "execute_result"
    },
    {
     "data": {
      "image/png": "[encoded data removed]",
      "text/plain": [
       "<Figure size 432x288 with 1 Axes>"
      ]
     },
     "metadata": {
      "needs_background": "light"
     },
     "output_type": "display_data"
    }
   ],
   "source": [
    "pd.DataFrame(std_sorted)[0].plot()"
   ]
  },
  {
   "cell_type": "code",
   "execution_count": 37,
   "metadata": {},
   "outputs": [
    {
     "data": {
      "text/plain": [
       "<matplotlib.axes._subplots.AxesSubplot at 0x1b600672c08>"
      ]
     },
     "execution_count": 37,
     "metadata": {},
     "output_type": "execute_result"
    },
    {
     "data": {
      "image/png": "[encoded data removed]",
      "text/plain": [
       "<Figure size 432x288 with 1 Axes>"
      ]
     },
     "metadata": {
      "needs_background": "light"
     },
     "output_type": "display_data"
    }
   ],
   "source": [
    "pd.DataFrame(std_sorted)[1].plot()"
   ]
  },
  {
   "cell_type": "code",
   "execution_count": 38,
   "metadata": {},
   "outputs": [
    {
     "data": {
      "text/plain": [
       "52701    14132.793073\n",
       "52750    12982.734370\n",
       "52730    11910.958566\n",
       "26052    11812.823917\n",
       "52728    11659.567396\n",
       "52703    10470.220389\n",
       "52654     9463.669679\n",
       "52680     9018.348051\n",
       "52629     8711.361373\n",
       "52636     8681.130545\n",
       "Name: 1, dtype: float64"
      ]
     },
     "execution_count": 38,
     "metadata": {},
     "output_type": "execute_result"
    }
   ],
   "source": [
    "# pd.DataFrame(std_sorted)[1].idxmax(2)\n",
    "pd.DataFrame(std_sorted)[1].nlargest(10)"
   ]
  },
  {
   "cell_type": "code",
   "execution_count": 39,
   "metadata": {},
   "outputs": [
    {
     "data": {
      "text/plain": [
       "0    11980.020704\n",
       "1     3284.296754\n",
       "Name: 52704, dtype: float64"
      ]
     },
     "execution_count": 39,
     "metadata": {},
     "output_type": "execute_result"
    }
   ],
   "source": [
    "pd.DataFrame(std_sorted).iloc[52704]"
   ]
  },
  {
   "cell_type": "code",
   "execution_count": 40,
   "metadata": {},
   "outputs": [
    {
     "data": {
      "image/png": "[encoded data removed]",
      "text/plain": [
       "<Figure size 432x288 with 1 Axes>"
      ]
     },
     "metadata": {
      "needs_background": "light"
     },
     "output_type": "display_data"
    }
   ],
   "source": [
    "show_pred_plots(sorted_forcast_list, 52701)"
   ]
  },
  {
   "cell_type": "code",
   "execution_count": 41,
   "metadata": {},
   "outputs": [
    {
     "data": {
      "image/png": "[encoded data removed]",
      "text/plain": [
       "<Figure size 432x288 with 1 Axes>"
      ]
     },
     "metadata": {
      "needs_background": "light"
     },
     "output_type": "display_data"
    }
   ],
   "source": [
    "show_pred_plots(sorted_forcast_list, 52750)"
   ]
  },
  {
   "cell_type": "code",
   "execution_count": 42,
   "metadata": {},
   "outputs": [
    {
     "data": {
      "image/png": "[encoded data removed]",
      "text/plain": [
       "<Figure size 432x288 with 1 Axes>"
      ]
     },
     "metadata": {
      "needs_background": "light"
     },
     "output_type": "display_data"
    }
   ],
   "source": [
    "show_pred_plots(sorted_forcast_list, 26052)"
   ]
  },
  {
   "cell_type": "code",
   "execution_count": null,
   "metadata": {},
   "outputs": [],
   "source": []
  }
 ],
 "metadata": {
  "kernelspec": {
   "display_name": "Python 3",
   "language": "python",
   "name": "python3"
  },
  "language_info": {
   "codemirror_mode": {
    "name": "ipython",
    "version": 3
   },
   "file_extension": ".py",
   "mimetype": "text/x-python",
   "name": "python",
   "nbconvert_exporter": "python",
   "pygments_lexer": "ipython3",
   "version": "3.7.4"
  }
 },
 "nbformat": 4,
 "nbformat_minor": 4
}
